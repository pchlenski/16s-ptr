{
 "cells": [
  {
   "cell_type": "code",
   "execution_count": 1,
   "metadata": {},
   "outputs": [],
   "source": [
    "%load_ext autoreload\n",
    "%autoreload 2"
   ]
  },
  {
   "cell_type": "code",
   "execution_count": 3,
   "metadata": {},
   "outputs": [
    {
     "name": "stderr",
     "output_type": "stream",
     "text": [
      "/home/zeus/miniconda3/envs/cloudspace/lib/python3.10/site-packages/anndata/_core/aligned_df.py:67: ImplicitModificationWarning: Transforming to str index.\n",
      "  warnings.warn(\"Transforming to str index.\", ImplicitModificationWarning)\n"
     ]
    },
    {
     "data": {
      "text/plain": [
       "AnnData object with n_obs × n_vars = 540 × 295904\n",
       "    obs: 'BioSample', 'Sample name', 'SRA', 'Patient ID', 'Time point', 'Sample type', 'Donor', 'Age', 'Sex', 'Weight (kg)', 'Height (cm)', 'BMI', 'Waist_circ (cm)', 'Body_Temperature', 'BP (mmHg)', 'Heart_rate (Bpm)', 'Resp_rate (breadth/min)', 'IBD', 'IBS', 'Chronic_constipation', 'Chronic_diarrhea', 'Celiac_disease', 'Helicobacter_pylori', 'Pectic_ulcer_disease', 'Liver_disease', 'History_blood_stool', 'Other', 'Colonoscopy_endoscopy', 'Thyroid_disease', 'Inflammatory_arthritis', 'Connective_tissue_disease', 'Psoriasis', 'Alopecia', 'Other_skin_condition', 'Other_auto_immune', 'Asthma', 'Atopic_dermatitis', 'Eczema', 'Seasonal_Pollen_allergy', 'Pet_allergy', 'Food_Allergy', 'Other_Allergy', 'Rash', 'Reaction_medication', 'Fibromyalgia', 'Chronic_Fatigue_syndrome', 'Phantom_Pain', 'Other_chronic_pain', 'Diabetes(TypeI/II)', 'High_blood_pressure', 'High_cholesterol', 'Central_obesity', 'High_Fasting_Glucose', 'Heart_disease', 'Other.1', 'Multiple_sclerosis', 'Parkinson_disease', 'Alzheimer_Dementia', 'Autism_Asperger', 'Movement_disorder', 'Other.2', 'Depression', 'Anxiety', 'Bipolar_disorder', 'Schizophrenia', 'Personality_disorder', 'Eating_disorder', 'ADD_ADHD', 'Other.3', 'GI_malignancy_polyposis', 'Other.4', 'GI_infection', 'Sexually_transmitted_infection', 'HPV', 'HIV', 'Hepatitis', 'Tuberculosis', 'Malaria', 'Chagas', 'Babesiosis', 'Lyme_disease', 'Recent_tick_bite', 'Exposed_to_Diagnosed_CJD', 'Infection_MRSA', 'Infection_CRE', 'Infection_ESBLs', 'Infection_VRE', 'Infection_Other', 'Blood_Transfusion', 'Rejected_BloodDonation', 'Contact_withBlood', 'Others', 'GI_surgery', 'Transplantation', 'Other.5', 'Hospitalization_Last12months_US', 'Hospitalization_Last12months_OutsideUS', 'Hospitalization_LongTermCare', 'BowelMovement_Day', 'Usual_BristolStool_scale', 'Constipation', 'Straining', 'Lumpy', 'Sensation_Incomplete_Evacuation', 'Sensation_Obstruction_Blockage', 'Manual_Evacuation', 'Diarrhea', 'Recurrent_Bloating', 'Recurrent_Abdominal_Pain', 'Mucus_In_Stool', 'Blood_In_Stool', 'Difficulty_Flushing_Stool', 'Fever_LastTwoWeeks', 'OtherSymptoms_PastTwoWeeks', 'Oral_topical_medication', 'Supplements', 'Probiotics', 'Laxatives', 'Immunosuppressive_medication', 'Antibiotics_Last3months', 'Antifungal_Last3months', 'Antiviral_Last3months', 'Vaccination_Last3weeks', 'Growth_Hormone', 'Insulin_FromCows', 'Experimental_medication', 'Clotting_Factor_Concentrates', 'Avoid_Food', 'Particular_Diet', 'Short_Term_Diet_LastYear', 'Food_Intolerance', 'PhysicalExercise_LastWeek(h)', 'Cycling_LastWeek(h)', 'Walking_LastWeek(h)', 'Housework_Childcare_LastWeek(h)', 'Profession', 'Contact_Hospital', 'Contact_OutpatientSetting', 'Contact_LongTermCareSetting', 'Handling_HumanAnimal_Tissue', 'Alcohol(drink/week)', 'Tobacco_Use', 'Marijuana_Use', 'Intranasal_Intravenous_Drug', 'Incarceration_PrisonJail_More72h', 'Tattoo_Piercing_Last6months', 'Relationship_status', 'New_Sexual_Partner_Last6months', 'Multiple_Sexual_Partners_Last6months', 'Sex_Trade_Worker', 'Sexual_Contact_withSTD', 'Receptive_Anal_Intercourse', 'Men_With_Men_Intercourse', 'Sexual_Contact_with_Men_whoHad_MWM_Intercourse', 'Anonymous_Sexual_Contact', 'Sexual_Contact_withHIVinfected_Person', 'Sexual_Contact_withHepatitisInfected_Person', 'Sexual_Contact_withHemophiliaInfected_Person', 'Other.6', 'Country_Birth', 'Country_Birth_Outside_USA_Europe_Japan_Canada_Australia_NZ', 'In_UK_1980-1996', 'Former_Current_Usmilitary', 'Travel_Abroad_LastYear', 'Travel_Abroad_NextYear', 'Colon_Cancer', 'IBD.1', 'Other.7', 'Pregnant', 'Breast_Feeding', 'Abnormal_Pap_Smear_TestResult', 'Diet', 'Diet_notes'\n",
       "    var: 'size', 'sequence'"
      ]
     },
     "execution_count": 3,
     "metadata": {},
     "output_type": "execute_result"
    }
   ],
   "source": [
    "import anndata\n",
    "\n",
    "adata = anndata.read_h5ad(\"aPTR/data/bioml/adata.h5ad\")\n",
    "adata"
   ]
  },
  {
   "cell_type": "code",
   "execution_count": null,
   "metadata": {},
   "outputs": [],
   "source": []
  }
 ],
 "metadata": {
  "language_info": {
   "name": "python"
  }
 },
 "nbformat": 4,
 "nbformat_minor": 2
}
