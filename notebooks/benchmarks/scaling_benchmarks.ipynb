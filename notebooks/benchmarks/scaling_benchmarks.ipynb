{
 "cells": [
  {
   "cell_type": "markdown",
   "metadata": {},
   "source": [
    "# Scaling benchmarks\n",
    "> Performance of the solver should improve with more data"
   ]
  },
  {
   "cell_type": "code",
   "execution_count": 2,
   "metadata": {},
   "outputs": [],
   "source": [
    "import sys\n",
    "sys.path.append('/Users/phil/Columbia/aPTR')\n",
    "%load_ext autoreload\n",
    "%autoreload 2"
   ]
  },
  {
   "cell_type": "code",
   "execution_count": 9,
   "metadata": {},
   "outputs": [],
   "source": [
    "import pandas as pd\n",
    "import torch\n",
    "import matplotlib.pyplot as plt\n",
    "import numpy as np\n",
    "\n",
    "from src.database import RnaDB\n",
    "from src.torch_solver import TorchSolver\n",
    "from src.simulation import simulate_from_ids\n"
   ]
  },
  {
   "cell_type": "markdown",
   "metadata": {},
   "source": [
    "# Scaling test 1:\n",
    "\n",
    "Here we run OOM readcounts (metagenomic WGS simulation) and determine what errors\n",
    "we get. Here's how the simulation runs:\n",
    "* Select 10 genomes to use\n",
    "* For each scaling factor:\n",
    "    * Draw PTRs and abundances (TODO: keep these fixed)\n",
    "    * Draw reads\n",
    "    * Winnow reads to 16S regions\n",
    "    * For each sample:\n",
    "        * Solve using Torch solver\n",
    "        * Evaluate RMSE of PTR and abundance estimates\n",
    "\n",
    "Things to try in the future:\n",
    "* Keep PTRs and abundances consistent\n",
    "* Determine relationship between abundances/PTRs and accuracy\n",
    "* More simulations per scaling factor ---> boxplots\n",
    "* Visualize flow of reads genome ---> gene ---> seq via Sankey diagram"
   ]
  },
  {
   "cell_type": "code",
   "execution_count": 29,
   "metadata": {},
   "outputs": [],
   "source": [
    "# Factored-out hyperparameters for scale test 1\n",
    "\n",
    "N_GENOMES = 10\n",
    "N_SAMPLES = 5\n",
    "MIN_SCALE = 2\n",
    "MAX_SCALE = 8\n",
    "SOLVER_KWARGS = {\n",
    "    \"verbose\": False,\n",
    "}"
   ]
  },
  {
   "cell_type": "code",
   "execution_count": 46,
   "metadata": {},
   "outputs": [
    {
     "name": "stderr",
     "output_type": "stream",
     "text": [
      "/Users/phil/opt/anaconda3/lib/python3.8/site-packages/pandas/core/indexing.py:1667: SettingWithCopyWarning: \n",
      "A value is trying to be set on a copy of a slice from a DataFrame.\n",
      "Try using .loc[row_indexer,col_indexer] = value instead\n",
      "\n",
      "See the caveats in the documentation: https://pandas.pydata.org/pandas-docs/stable/user_guide/indexing.html#returning-a-view-versus-a-copy\n",
      "  self.obj[key] = value\n"
     ]
    },
    {
     "name": "stdout",
     "output_type": "stream",
     "text": [
      "Scale: 100\n"
     ]
    },
    {
     "name": "stderr",
     "output_type": "stream",
     "text": [
      "/Users/phil/opt/anaconda3/lib/python3.8/site-packages/torch/nn/modules/loss.py:520: UserWarning: Using a target size (torch.Size([])) that is different to the input size (torch.Size([39])). This will likely lead to incorrect results due to broadcasting. Please ensure they have the same size.\n",
      "  return F.mse_loss(input, target, reduction=self.reduction)\n"
     ]
    },
    {
     "name": "stdout",
     "output_type": "stream",
     "text": [
      "\n",
      "Scale: 1000\n",
      "\n",
      "Scale: 10000\n",
      "\n",
      "Scale: 100000\n",
      "\n",
      "Scale: 1000000\n",
      "\n",
      "Scale: 10000000\n",
      "\n"
     ]
    }
   ],
   "source": [
    "# Initialize DB, grab 10 complete genomes\n",
    "db = RnaDB()\n",
    "genomes = db.db[db.db[\"n_contigs\"] == 1][\"genome\"].unique()\n",
    "genomes_to_use = np.random.choice(genomes, N_GENOMES, replace=False)\n",
    "solver_genomes, _ = db.generate_genome_objects(genomes_to_use)\n",
    "\n",
    "# Get some benchmarks going\n",
    "scaling_results = pd.DataFrame(\n",
    "    columns=[\n",
    "        \"scale\",\n",
    "        \"sample\",\n",
    "        \"genome\",\n",
    "        \"abundance\",\n",
    "        \"ptr\",\n",
    "        \"loss\",\n",
    "        \"true abundance\",\n",
    "        \"true ptr\",\n",
    "    ]\n",
    ")\n",
    "\n",
    "for scale_exp in range(MIN_SCALE, MAX_SCALE):\n",
    "    scale = 10 ** scale_exp\n",
    "    print(f\"Scale: {scale}\")\n",
    "    # Generate otus\n",
    "    (\n",
    "        reads_scaled,\n",
    "        ptrs_scaled,\n",
    "        coverages_scaled,\n",
    "        otus_scaled,\n",
    "    ) = simulate_from_ids(\n",
    "        db=db.db,\n",
    "        ids=genomes_to_use,\n",
    "        fasta_path=\"/home/phil/aptr/data/seqs\",\n",
    "        n_samples=N_SAMPLES,\n",
    "        scale=scale,\n",
    "        shuffle=False,  # Suppress shuffling to conserve memory\n",
    "        fastq=False,\n",
    "        verbose=False,\n",
    "    )\n",
    "\n",
    "    for sample in otus_scaled:\n",
    "        solver = TorchSolver(genomes=solver_genomes, coverages=sample)\n",
    "        a_hat, b_hat = solver.solve(**SOLVER_KWARGS)\n",
    "\n",
    "        for genome, a, b, true_abundance, true_ptr in zip(\n",
    "            solver_genomes,\n",
    "            a_hat,\n",
    "            b_hat,\n",
    "            coverages_scaled[sample],\n",
    "            ptrs_scaled[sample],\n",
    "        ):\n",
    "            scaling_results = scaling_results.append(\n",
    "                {\n",
    "                    \"scale\": scale,\n",
    "                    \"sample\": sample,\n",
    "                    \"genome\": genome[\"id\"],\n",
    "                    \"abundance\": torch.exp(a).item(),\n",
    "                    \"ptr\": 1 + b.item(),\n",
    "                    \"loss\": solver.best_loss.item(),\n",
    "                    \"true abundance\": true_abundance,\n",
    "                    \"true ptr\": true_ptr,  # Assume same indexing\n",
    "                },\n",
    "                ignore_index=True,\n",
    "            )\n",
    "    print()\n"
   ]
  },
  {
   "cell_type": "code",
   "execution_count": 31,
   "metadata": {},
   "outputs": [],
   "source": [
    "# Compute errors\n",
    "# TODO: put this into the main loop\n",
    "\n",
    "scaling_results[\"ptr error\"] = np.clip(\n",
    "    np.abs(scaling_results[\"ptr\"] - scaling_results[\"true ptr\"]),\n",
    "    0,\n",
    "    1e3\n",
    ")\n",
    "\n",
    "scaling_results[\"abundance error\"] = np.clip(\n",
    "    np.abs(scaling_results[\"abundance\"] - scaling_results[\"true abundance\"]),\n",
    "    0,\n",
    "    1e3\n",
    ")"
   ]
  },
  {
   "cell_type": "code",
   "execution_count": 36,
   "metadata": {},
   "outputs": [
    {
     "data": {
      "text/plain": [
       "<AxesSubplot:title={'center':'ptr error'}, xlabel='scale'>"
      ]
     },
     "execution_count": 36,
     "metadata": {},
     "output_type": "execute_result"
    },
    {
     "data": {
      "image/png": "[encoded data removed]",
      "text/plain": [
       "<Figure size 720x720 with 1 Axes>"
      ]
     },
     "metadata": {
      "needs_background": "light"
     },
     "output_type": "display_data"
    }
   ],
   "source": [
    "scaling_results.boxplot(\"ptr error\", by=\"scale\", figsize=(10,10))"
   ]
  },
  {
   "cell_type": "code",
   "execution_count": 43,
   "metadata": {},
   "outputs": [],
   "source": [
    "scaling_results[\"baseline error\"] = np.abs(1.5 - scaling_results[\"true ptr\"])"
   ]
  },
  {
   "cell_type": "code",
   "execution_count": 37,
   "metadata": {},
   "outputs": [
    {
     "data": {
      "text/html": [
       "<div>\n",
       "<style scoped>\n",
       "    .dataframe tbody tr th:only-of-type {\n",
       "        vertical-align: middle;\n",
       "    }\n",
       "\n",
       "    .dataframe tbody tr th {\n",
       "        vertical-align: top;\n",
       "    }\n",
       "\n",
       "    .dataframe thead th {\n",
       "        text-align: right;\n",
       "    }\n",
       "</style>\n",
       "<table border=\"1\" class=\"dataframe\">\n",
       "  <thead>\n",
       "    <tr style=\"text-align: right;\">\n",
       "      <th></th>\n",
       "      <th>scale</th>\n",
       "      <th>sample</th>\n",
       "      <th>genome</th>\n",
       "      <th>abundance</th>\n",
       "      <th>ptr</th>\n",
       "      <th>loss</th>\n",
       "      <th>true abundance</th>\n",
       "      <th>true ptr</th>\n",
       "      <th>ptr error</th>\n",
       "      <th>abundance error</th>\n",
       "    </tr>\n",
       "  </thead>\n",
       "  <tbody>\n",
       "    <tr>\n",
       "      <th>0</th>\n",
       "      <td>100</td>\n",
       "      <td>0</td>\n",
       "      <td>862969.3</td>\n",
       "      <td>0.019663</td>\n",
       "      <td>2.635353</td>\n",
       "      <td>0.011511</td>\n",
       "      <td>30</td>\n",
       "      <td>1.156627</td>\n",
       "      <td>1.478726</td>\n",
       "      <td>29.980337</td>\n",
       "    </tr>\n",
       "    <tr>\n",
       "      <th>1</th>\n",
       "      <td>100</td>\n",
       "      <td>0</td>\n",
       "      <td>224013.5</td>\n",
       "      <td>0.026496</td>\n",
       "      <td>2.740151</td>\n",
       "      <td>0.011511</td>\n",
       "      <td>135</td>\n",
       "      <td>1.533056</td>\n",
       "      <td>1.207096</td>\n",
       "      <td>134.973504</td>\n",
       "    </tr>\n",
       "    <tr>\n",
       "      <th>2</th>\n",
       "      <td>100</td>\n",
       "      <td>0</td>\n",
       "      <td>1286.18</td>\n",
       "      <td>0.019519</td>\n",
       "      <td>2.747348</td>\n",
       "      <td>0.011511</td>\n",
       "      <td>0</td>\n",
       "      <td>1.685763</td>\n",
       "      <td>1.061585</td>\n",
       "      <td>0.019519</td>\n",
       "    </tr>\n",
       "    <tr>\n",
       "      <th>3</th>\n",
       "      <td>100</td>\n",
       "      <td>0</td>\n",
       "      <td>865938.3</td>\n",
       "      <td>0.031705</td>\n",
       "      <td>2.583710</td>\n",
       "      <td>0.011511</td>\n",
       "      <td>32</td>\n",
       "      <td>1.180401</td>\n",
       "      <td>1.403309</td>\n",
       "      <td>31.968295</td>\n",
       "    </tr>\n",
       "    <tr>\n",
       "      <th>4</th>\n",
       "      <td>100</td>\n",
       "      <td>0</td>\n",
       "      <td>272558.8</td>\n",
       "      <td>0.029656</td>\n",
       "      <td>2.608176</td>\n",
       "      <td>0.011511</td>\n",
       "      <td>12</td>\n",
       "      <td>1.409302</td>\n",
       "      <td>1.198873</td>\n",
       "      <td>11.970344</td>\n",
       "    </tr>\n",
       "    <tr>\n",
       "      <th>...</th>\n",
       "      <td>...</td>\n",
       "      <td>...</td>\n",
       "      <td>...</td>\n",
       "      <td>...</td>\n",
       "      <td>...</td>\n",
       "      <td>...</td>\n",
       "      <td>...</td>\n",
       "      <td>...</td>\n",
       "      <td>...</td>\n",
       "      <td>...</td>\n",
       "    </tr>\n",
       "    <tr>\n",
       "      <th>145</th>\n",
       "      <td>10000000</td>\n",
       "      <td>4</td>\n",
       "      <td>862969.3</td>\n",
       "      <td>0.716471</td>\n",
       "      <td>2.683352</td>\n",
       "      <td>0.740969</td>\n",
       "      <td>6336670</td>\n",
       "      <td>1.103554</td>\n",
       "      <td>1.579798</td>\n",
       "      <td>1000.0</td>\n",
       "    </tr>\n",
       "    <tr>\n",
       "      <th>146</th>\n",
       "      <td>10000000</td>\n",
       "      <td>4</td>\n",
       "      <td>224013.5</td>\n",
       "      <td>0.606614</td>\n",
       "      <td>-2.092442</td>\n",
       "      <td>0.740969</td>\n",
       "      <td>5550577</td>\n",
       "      <td>1.450757</td>\n",
       "      <td>3.543199</td>\n",
       "      <td>1000.0</td>\n",
       "    </tr>\n",
       "    <tr>\n",
       "      <th>147</th>\n",
       "      <td>10000000</td>\n",
       "      <td>4</td>\n",
       "      <td>1286.18</td>\n",
       "      <td>1.471518</td>\n",
       "      <td>1.000000</td>\n",
       "      <td>0.740969</td>\n",
       "      <td>19672620</td>\n",
       "      <td>1.922331</td>\n",
       "      <td>0.922331</td>\n",
       "      <td>1000.0</td>\n",
       "    </tr>\n",
       "    <tr>\n",
       "      <th>148</th>\n",
       "      <td>10000000</td>\n",
       "      <td>4</td>\n",
       "      <td>865938.3</td>\n",
       "      <td>1.708747</td>\n",
       "      <td>2.775284</td>\n",
       "      <td>0.740969</td>\n",
       "      <td>758274</td>\n",
       "      <td>1.200963</td>\n",
       "      <td>1.574320</td>\n",
       "      <td>1000.0</td>\n",
       "    </tr>\n",
       "    <tr>\n",
       "      <th>149</th>\n",
       "      <td>10000000</td>\n",
       "      <td>4</td>\n",
       "      <td>272558.8</td>\n",
       "      <td>1.471518</td>\n",
       "      <td>1.000000</td>\n",
       "      <td>0.740969</td>\n",
       "      <td>1257580</td>\n",
       "      <td>1.620694</td>\n",
       "      <td>0.620694</td>\n",
       "      <td>1000.0</td>\n",
       "    </tr>\n",
       "  </tbody>\n",
       "</table>\n",
       "<p>150 rows × 10 columns</p>\n",
       "</div>"
      ],
      "text/plain": [
       "        scale sample    genome  abundance       ptr      loss true abundance  \\\n",
       "0         100      0  862969.3   0.019663  2.635353  0.011511             30   \n",
       "1         100      0  224013.5   0.026496  2.740151  0.011511            135   \n",
       "2         100      0   1286.18   0.019519  2.747348  0.011511              0   \n",
       "3         100      0  865938.3   0.031705  2.583710  0.011511             32   \n",
       "4         100      0  272558.8   0.029656  2.608176  0.011511             12   \n",
       "..        ...    ...       ...        ...       ...       ...            ...   \n",
       "145  10000000      4  862969.3   0.716471  2.683352  0.740969        6336670   \n",
       "146  10000000      4  224013.5   0.606614 -2.092442  0.740969        5550577   \n",
       "147  10000000      4   1286.18   1.471518  1.000000  0.740969       19672620   \n",
       "148  10000000      4  865938.3   1.708747  2.775284  0.740969         758274   \n",
       "149  10000000      4  272558.8   1.471518  1.000000  0.740969        1257580   \n",
       "\n",
       "     true ptr  ptr error abundance error  \n",
       "0    1.156627   1.478726       29.980337  \n",
       "1    1.533056   1.207096      134.973504  \n",
       "2    1.685763   1.061585        0.019519  \n",
       "3    1.180401   1.403309       31.968295  \n",
       "4    1.409302   1.198873       11.970344  \n",
       "..        ...        ...             ...  \n",
       "145  1.103554   1.579798          1000.0  \n",
       "146  1.450757   3.543199          1000.0  \n",
       "147  1.922331   0.922331          1000.0  \n",
       "148  1.200963   1.574320          1000.0  \n",
       "149  1.620694   0.620694          1000.0  \n",
       "\n",
       "[150 rows x 10 columns]"
      ]
     },
     "execution_count": 37,
     "metadata": {},
     "output_type": "execute_result"
    }
   ],
   "source": [
    "scaling_results"
   ]
  },
  {
   "cell_type": "code",
   "execution_count": 35,
   "metadata": {},
   "outputs": [],
   "source": [
    "scaling_results.to_pickle(\"~/aPTR/data/scaling_1_out.pkl\")"
   ]
  },
  {
   "cell_type": "code",
   "execution_count": 40,
   "metadata": {},
   "outputs": [
    {
     "data": {
      "image/png": "[encoded data removed]",
      "text/plain": [
       "<Figure size 720x720 with 1 Axes>"
      ]
     },
     "metadata": {
      "needs_background": "light"
     },
     "output_type": "display_data"
    }
   ],
   "source": [
    "scaling_results.boxplot(\"abundance error\", by=\"scale\", figsize=(10,10))\n",
    "plt.yscale(\"log\")"
   ]
  },
  {
   "cell_type": "code",
   "execution_count": 45,
   "metadata": {},
   "outputs": [
    {
     "data": {
      "text/plain": [
       "array([<AxesSubplot:title={'center':'ptr error'}, xlabel='scale'>,\n",
       "       <AxesSubplot:title={'center':'baseline error'}, xlabel='scale'>],\n",
       "      dtype=object)"
      ]
     },
     "execution_count": 45,
     "metadata": {},
     "output_type": "execute_result"
    },
    {
     "data": {
      "image/png": "[encoded data removed]",
      "text/plain": [
       "<Figure size 720x720 with 2 Axes>"
      ]
     },
     "metadata": {
      "needs_background": "light"
     },
     "output_type": "display_data"
    }
   ],
   "source": [
    "scaling_results.boxplot([\"ptr error\", \"baseline error\"], by=\"scale\", figsize=(10,10))"
   ]
  },
  {
   "cell_type": "code",
   "execution_count": null,
   "metadata": {},
   "outputs": [],
   "source": []
  }
 ],
 "metadata": {
  "kernelspec": {
   "display_name": "aPTR",
   "language": "python",
   "name": "python3"
  },
  "language_info": {
   "codemirror_mode": {
    "name": "ipython",
    "version": 3
   },
   "file_extension": ".py",
   "mimetype": "text/x-python",
   "name": "python",
   "nbconvert_exporter": "python",
   "pygments_lexer": "ipython3",
   "version": "3.6.13 |Anaconda, Inc.| (default, Jun  4 2021, 14:25:59) \n[GCC 7.5.0]"
  },
  "orig_nbformat": 4,
  "vscode": {
   "interpreter": {
    "hash": "b5e7721d70837d18c2125962d4eab5e03d8a00737ba9cf793193ecf86ed8e5a0"
   }
  }
 },
 "nbformat": 4,
 "nbformat_minor": 2
}
