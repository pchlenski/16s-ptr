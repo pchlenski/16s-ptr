{
 "cells": [
  {
   "cell_type": "markdown",
   "metadata": {},
   "source": [
    "# Threshold relaxations\n",
    "> What can our RnaDB tell us about the implications of setting different id thresholds in VSEARCH?\n",
    "\n",
    "Heree's the rough idea:\n",
    "* We need ~1000 reads per PTR estimate to be within ~.1 of the true PTR, in expectation\n",
    "* Sequencing noise disproportionately hurts us at very high ID cutoffs\n",
    "* One approach to fixing this is to relax the identity cutoff for the final VSEARCH pass\n",
    "* However, the inference depends on having more distinct sequences than distinct genomes\n",
    "* Thus, we cannot relax the identity threshold indiscriminately\n",
    "\n",
    "We can try to replace the sequence-sharing matrix with an identity matrix:\n",
    "\n",
    "How does the strict triangle inequality $D(X,Y) = D(X,Z) + D(Z,Y)$ for MRCA Z help us?\n",
    "\n",
    "\n",
    "\n",
    "\n",
    "Algorithm sketch:\n",
    "* For sequences, generate edit-distance matrix:\n",
    "    * Use `Levenshtein` package, probably.\n",
    "    * ANI = (max sequence length - edit distance) / max sequence length (?)\n",
    "* Re-generate gene2seq matrix:\n",
    "    * Old way: start with a set union of sequences, create matrix mapping\n",
    "    entries to sequences using db\n",
    "    * New way:\n",
    "        * Start with an ANI matrix\n",
    "        * Create a graph $G$ by setting $A_{ij} = 1$ if $ANI(S_i,S_j) > t$ and\n",
    "        0 otherwise\n",
    "        * Each connected component of $G$ is a sequence bin\n",
    "            * How can we collapse a square adjacency matrix into a connected\n",
    "            component membership matrix?\n",
    "            * Let $G_C$ be the connected component matrix\n",
    "        * Subsitute connected component matrix $G_C$ and proceed as normal\n",
    "    * Unresolved issues:\n",
    "        * Need to filter database again to ensure that connected components\n",
    "        still have enough degrees of freedom / throw away newly underconstrained\n",
    "        sequences.\n",
    "        * Is there a way to use the adjacency matrix to do filtering as well?\n",
    "            * Something like: for what genomes do all genes end up in the same\n",
    "            connected component?\n",
    "            * Don't forget that we also remove ``free'' sequences (a single\n",
    "            organism can set any count).\n",
    "* Downstream analyses:\n",
    "    * What is the maximum ANI cutoff we can have for different organisms?\n",
    "        * Do we need an adaptive threshold?\n",
    "        * In general, how many reads do we expect to be able to salvage this\n",
    "        way?\n"
   ]
  }
 ],
 "metadata": {
  "language_info": {
   "name": "python"
  },
  "orig_nbformat": 4
 },
 "nbformat": 4,
 "nbformat_minor": 2
}
