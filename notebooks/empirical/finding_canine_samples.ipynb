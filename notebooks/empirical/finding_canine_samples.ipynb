{
 "cells": [
  {
   "cell_type": "code",
   "execution_count": 3,
   "metadata": {},
   "outputs": [],
   "source": [
    "import pandas as pd\n",
    "\n",
    "# Read in the metadata\n",
    "metadata = pd.read_csv(\"~/Downloads/canine_metadata.txt\")"
   ]
  },
  {
   "cell_type": "code",
   "execution_count": 7,
   "metadata": {},
   "outputs": [
    {
     "data": {
      "text/plain": [
       "Index(['Run', 'Assay Type', 'AvgSpotLen', 'Bases', 'BioProject', 'BioSample',\n",
       "       'BioSampleModel', 'Bytes', 'Center Name', 'Cohort', 'Collection_Date',\n",
       "       'Consent', 'Cultivar', 'DATASTORE filetype', 'DATASTORE provider',\n",
       "       'DATASTORE region', 'Ecotype', 'env_biome', 'env_feature',\n",
       "       'env_material', 'Experiment', 'geo_loc_name_country',\n",
       "       'geo_loc_name_country_continent', 'geo_loc_name', 'Host_age',\n",
       "       'Host-breed', 'Host_diet', 'host_ex', 'host_pheno', 'Host',\n",
       "       'host_TissFat', 'Instrument', 'isol_growth_condt', 'Isolate', 'Lat_Lon',\n",
       "       'Library Name', 'LibraryLayout', 'LibrarySelection', 'LibrarySource',\n",
       "       'Organism', 'Phase', 'Platform', 'ReleaseDate', 'Sample Name',\n",
       "       'SRA Study', 'Strain', 'ENA-FIRST-PUBLIC (run)',\n",
       "       'ENA-LAST-UPDATE (run)'],\n",
       "      dtype='object')"
      ]
     },
     "execution_count": 7,
     "metadata": {},
     "output_type": "execute_result"
    }
   ],
   "source": [
    "# Columns so I can refer back to them\n",
    "\n",
    "metadata.columns"
   ]
  },
  {
   "cell_type": "code",
   "execution_count": 6,
   "metadata": {},
   "outputs": [
    {
     "data": {
      "text/plain": [
       "0            GrannySmith_p1\n",
       "1            GrannySmith_p1\n",
       "2            GrannySmith_p1\n",
       "3            GrannySmith_p1\n",
       "4            GrannySmith_p1\n",
       "               ...         \n",
       "3120             Glacier_p1\n",
       "3121    LinusII_BA0109CM-p2\n",
       "3122             Gatling_p2\n",
       "3123                 Tim_p1\n",
       "3124           Peterbilt_p2\n",
       "Name: Sample Name, Length: 3125, dtype: object"
      ]
     },
     "execution_count": 6,
     "metadata": {},
     "output_type": "execute_result"
    }
   ],
   "source": [
    "# Samples are repeated\n",
    "\n",
    "metadata[\"Sample Name\"]"
   ]
  },
  {
   "cell_type": "code",
   "execution_count": 8,
   "metadata": {},
   "outputs": [
    {
     "data": {
      "text/plain": [
       "array(['WGS', 'OTHER'], dtype=object)"
      ]
     },
     "execution_count": 8,
     "metadata": {},
     "output_type": "execute_result"
    }
   ],
   "source": [
    "# Only WGS and OTHER\n",
    "\n",
    "metadata[\"Assay Type\"].unique()"
   ]
  },
  {
   "cell_type": "code",
   "execution_count": 13,
   "metadata": {},
   "outputs": [
    {
     "name": "stdout",
     "output_type": "stream",
     "text": [
      "1\n",
      "24\n"
     ]
    }
   ],
   "source": [
    "# Split into 16s and wgs dataframes\n",
    "\n",
    "metadata_16s = metadata[metadata[\"Assay Type\"] == \"OTHER\"]\n",
    "metadata_wgs = metadata[metadata[\"Assay Type\"] == \"WGS\"]\n",
    "\n",
    "print(metadata_16s.groupby(\"Sample Name\").count()[\"Run\"].max()) # Should be 1\n",
    "print(metadata_wgs.groupby(\"Sample Name\").count()[\"Run\"].max()) # Should be >>1"
   ]
  },
  {
   "cell_type": "code",
   "execution_count": 16,
   "metadata": {},
   "outputs": [
    {
     "data": {
      "text/plain": [
       "True"
      ]
     },
     "execution_count": 16,
     "metadata": {},
     "output_type": "execute_result"
    }
   ],
   "source": [
    "# Now we need to figure out which run of WGS data to use\n",
    "# Notice biosamples match\n",
    "\n",
    "set(metadata_wgs[\"BioSample\"]) == set(metadata_16s[\"BioSample\"])"
   ]
  },
  {
   "cell_type": "code",
   "execution_count": 18,
   "metadata": {},
   "outputs": [
    {
     "data": {
      "text/plain": [
       "True"
      ]
     },
     "execution_count": 18,
     "metadata": {},
     "output_type": "execute_result"
    }
   ],
   "source": [
    "# Maybe we just use the first run for each? This is consistent with the paper.\n",
    "\n",
    "metadata_wgs_uniq = metadata_wgs.groupby(\"Sample Name\").first()\n",
    "set(metadata_wgs_uniq[\"BioSample\"]) == set(metadata_16s[\"BioSample\"])"
   ]
  },
  {
   "cell_type": "code",
   "execution_count": 25,
   "metadata": {},
   "outputs": [
    {
     "name": "stdout",
     "output_type": "stream",
     "text": [
      "SRR5123844 SRR5123845 SRR5123846 SRR5123847 SRR5123848 SRR5123849 SRR5123850 SRR5123851 SRR5123852 SRR5123853 SRR5123854 SRR5123855 SRR5123856 SRR5123857 SRR5123858 SRR5123859 SRR5123860 SRR5123861 SRR5123862 SRR5123863 SRR5123864 SRR5123865 SRR5123866 SRR5123867 SRR5123868 SRR5123869 SRR5123870 SRR5123871 SRR5123872 SRR5123873 SRR5123874 SRR5123875 SRR5123876 SRR5123877 SRR5123878 SRR5123879 SRR5123880 SRR5123881 SRR5123882 SRR5123883 SRR5123884 SRR5123885 SRR5123886 SRR5123887 SRR5123888 SRR5123889 SRR5123890 SRR5123891 SRR5123892 SRR5123893 SRR5123894 SRR5123895 SRR5123896 SRR5123897 SRR5123898 SRR5123899 SRR5123900 SRR5123901 SRR5123902 SRR5123903 SRR5123904 SRR5123905 SRR5123906 SRR5123907 SRR5123908 SRR5123909 SRR5123910 SRR5123911 SRR5123912 SRR5123913 SRR5123914 SRR5123915 SRR5123916 SRR5123917 SRR5123918 SRR5123919 SRR5123920 SRR5123921 SRR5123922 SRR5123923 SRR5123924 SRR5123925 SRR5123926 SRR5123927 SRR5123928 SRR5123929 SRR5123930 SRR5123931 SRR5123932 SRR5123933 SRR5123934 SRR5123935 SRR5123936 SRR5123937 SRR5123938 SRR5123939 SRR5123940 SRR5123941 SRR5123942 SRR5123943 SRR5123944 SRR5123945 SRR5123946 SRR5123947 SRR5123948 SRR5123949 SRR5123950 SRR5123951 SRR5123952 SRR5123953 SRR5123954 SRR5123955 SRR5123956 SRR5123957 SRR5123958 SRR5123959 SRR5123960 SRR5123961 SRR5123962 SRR5123963 SRR5123964 SRR5123965 SRR5123966 SRR5123967 SRR5123968 "
     ]
    }
   ],
   "source": [
    "# Read selection for 16S (all of them)\n",
    "\n",
    "for sample in metadata_16s.index:\n",
    "    print(metadata_16s.loc[sample, \"Run\"], end=\" \")"
   ]
  },
  {
   "cell_type": "code",
   "execution_count": 24,
   "metadata": {},
   "outputs": [
    {
     "name": "stdout",
     "output_type": "stream",
     "text": [
      "ERR1915336 ERR1915120 ERR1914520 ERR1915048 ERR1914136 ERR1914784 ERR1913896 ERR1915816 ERR1915624 ERR1915360 ERR1914112 ERR1914760 ERR1914616 ERR1914352 ERR1915264 ERR1913656 ERR1915144 ERR1913368 ERR1915792 ERR1914064 ERR1914832 ERR1915288 ERR1913584 ERR1915192 ERR1915384 ERR1913536 ERR1915864 ERR1916032 ERR1914856 ERR1913512 ERR1914232 ERR1915528 ERR1914448 ERR1915312 ERR1915648 ERR1916152 ERR1914496 ERR1913824 ERR1915720 ERR1915072 ERR1913920 ERR1915408 ERR1913848 ERR1915000 ERR1915024 ERR1915552 ERR1914808 ERR1914592 ERR1915504 ERR1913944 ERR1916320 ERR1914544 ERR1913344 ERR1915480 ERR1913800 ERR1913416 ERR1915432 ERR1914712 ERR1914184 ERR1915984 ERR1916296 ERR1913992 ERR1913392 ERR1914568 ERR1915768 ERR1915936 ERR1914040 ERR1914472 ERR1913464 ERR1915840 ERR1916272 ERR1914400 ERR1915096 ERR1914880 ERR1914664 ERR1913728 ERR1916224 ERR1914160 ERR1914688 ERR1916080 ERR1914088 ERR1914904 ERR1916128 ERR1913632 ERR1915216 ERR1915456 ERR1915240 ERR1913872 ERR1913968 ERR1915672 ERR1914208 ERR1914016 ERR1915576 ERR1915912 ERR1914928 ERR1916104 ERR1915744 ERR1914256 ERR1913776 ERR1913488 ERR1914736 ERR1913752 ERR1914280 ERR1913560 ERR1914328 ERR1913440 ERR1914976 ERR1913704 ERR1914424 ERR1913680 ERR1916056 ERR1914640 ERR1915600 ERR1916008 ERR1913608 ERR1914376 ERR1916176 ERR1916248 ERR1914304 ERR1915888 ERR1916200 ERR1914952 ERR1915168 ERR1915696 ERR1915960 "
     ]
    }
   ],
   "source": [
    "# I will send this to the read selector\n",
    "# This is WGS\n",
    "\n",
    "for sample in metadata_wgs_uniq.index:\n",
    "    print(metadata_wgs_uniq.loc[sample, \"Run\"], end=\" \")"
   ]
  },
  {
   "cell_type": "code",
   "execution_count": null,
   "metadata": {},
   "outputs": [],
   "source": []
  }
 ],
 "metadata": {
  "kernelspec": {
   "display_name": "Python 3.9.5 ('base')",
   "language": "python",
   "name": "python3"
  },
  "language_info": {
   "codemirror_mode": {
    "name": "ipython",
    "version": 3
   },
   "file_extension": ".py",
   "mimetype": "text/x-python",
   "name": "python",
   "nbconvert_exporter": "python",
   "pygments_lexer": "ipython3",
   "version": "3.9.5"
  },
  "orig_nbformat": 4,
  "vscode": {
   "interpreter": {
    "hash": "e4dc294415b14ea4c0d4d07894c031d87e01c25f832e475b95612eada6e667d4"
   }
  }
 },
 "nbformat": 4,
 "nbformat_minor": 2
}
