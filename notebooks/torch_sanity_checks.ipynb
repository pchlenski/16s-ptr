{
 "cells": [
  {
   "cell_type": "markdown",
   "metadata": {},
   "source": [
    "# Torch sanity checks\n",
    "> Verifying that the `TorchSolver` class is working as expected."
   ]
  },
  {
   "cell_type": "markdown",
   "metadata": {},
   "source": [
    "## Data generation"
   ]
  },
  {
   "cell_type": "code",
   "execution_count": 1,
   "metadata": {},
   "outputs": [],
   "source": [
    "import sys\n",
    "# sys.path.append('/home/phil/aptr')\n",
    "# sys.path.append('~/aptr')\n",
    "sys.path.append('/Users/phil/Columbia/aPTR')\n",
    "%load_ext autoreload\n",
    "%autoreload 2"
   ]
  },
  {
   "cell_type": "code",
   "execution_count": 40,
   "metadata": {},
   "outputs": [],
   "source": [
    "import numpy as np\n",
    "import pandas as pd\n",
    "\n",
    "from src.torch_solver import TorchSolver\n",
    "from src.database import RnaDB\n",
    "\n",
    "from src.solve_table import solve_all, score_predictions\n",
    "from src.simulation import simulate_from_ids"
   ]
  },
  {
   "cell_type": "code",
   "execution_count": 3,
   "metadata": {},
   "outputs": [
    {
     "name": "stderr",
     "output_type": "stream",
     "text": [
      "/Users/phil/opt/anaconda3/lib/python3.8/site-packages/pandas/core/indexing.py:1667: SettingWithCopyWarning: \n",
      "A value is trying to be set on a copy of a slice from a DataFrame.\n",
      "Try using .loc[row_indexer,col_indexer] = value instead\n",
      "\n",
      "See the caveats in the documentation: https://pandas.pydata.org/pandas-docs/stable/user_guide/indexing.html#returning-a-view-versus-a-copy\n",
      "  self.obj[key] = value\n"
     ]
    }
   ],
   "source": [
    "# Load a database object\n",
    "\n",
    "db = RnaDB()"
   ]
  },
  {
   "cell_type": "code",
   "execution_count": 56,
   "metadata": {},
   "outputs": [
    {
     "name": "stdout",
     "output_type": "stream",
     "text": [
      "Generating sample 0 for organism 1196835.3...\n",
      "Generating sample 0 for organism 1316932.3...\n",
      "Generating sample 0 for organism 509193.4...\n",
      "Generating sample 0 for organism 584708.3...\n",
      "Generating sample 0 for organism 1250278.4...\n",
      "Generating sample 0 for organism 411154.11...\n",
      "Generating sample 0 for organism 645991.3...\n",
      "Generating sample 0 for organism 563040.3...\n",
      "Generating sample 0 for organism 1295.23...\n",
      "Generating sample 0 for organism 759620.7...\n",
      "Generating sample 1 for organism 1196835.3...\n",
      "Generating sample 1 for organism 1316932.3...\n",
      "Generating sample 1 for organism 509193.4...\n",
      "Generating sample 1 for organism 584708.3...\n",
      "Generating sample 1 for organism 1250278.4...\n",
      "Generating sample 1 for organism 411154.11...\n",
      "Generating sample 1 for organism 645991.3...\n",
      "Generating sample 1 for organism 563040.3...\n",
      "Generating sample 1 for organism 1295.23...\n",
      "Generating sample 1 for organism 759620.7...\n"
     ]
    },
    {
     "ename": "TypeError",
     "evalue": "Can only append a Series if ignore_index=True or if the Series has a name",
     "output_type": "error",
     "traceback": [
      "\u001b[0;31m---------------------------------------------------------------------------\u001b[0m",
      "\u001b[0;31mTypeError\u001b[0m                                 Traceback (most recent call last)",
      "\u001b[0;32m<ipython-input-56-f78463fb5b6b>\u001b[0m in \u001b[0;36m<module>\u001b[0;34m\u001b[0m\n\u001b[1;32m      5\u001b[0m \u001b[0;34m\u001b[0m\u001b[0m\n\u001b[1;32m      6\u001b[0m \u001b[0;31m# Simulate reads from those genomes\u001b[0m\u001b[0;34m\u001b[0m\u001b[0;34m\u001b[0m\u001b[0;34m\u001b[0m\u001b[0m\n\u001b[0;32m----> 7\u001b[0;31m reads, ptrs, coverages, otus = simulate_from_ids(\n\u001b[0m\u001b[1;32m      8\u001b[0m     \u001b[0mdb\u001b[0m\u001b[0;34m=\u001b[0m\u001b[0mdb\u001b[0m\u001b[0;34m.\u001b[0m\u001b[0mdb\u001b[0m\u001b[0;34m,\u001b[0m\u001b[0;34m\u001b[0m\u001b[0;34m\u001b[0m\u001b[0m\n\u001b[1;32m      9\u001b[0m     \u001b[0mids\u001b[0m\u001b[0;34m=\u001b[0m\u001b[0mgenomes_to_use\u001b[0m\u001b[0;34m,\u001b[0m\u001b[0;34m\u001b[0m\u001b[0;34m\u001b[0m\u001b[0m\n",
      "\u001b[0;32m~/Columbia/aPTR/src/simulation.py\u001b[0m in \u001b[0;36msimulate_from_ids\u001b[0;34m(db, ids, fasta_path, suffix, fastq, **simulate_args)\u001b[0m\n\u001b[1;32m    433\u001b[0m         \u001b[0;31m# Need a fake value\u001b[0m\u001b[0;34m\u001b[0m\u001b[0;34m\u001b[0m\u001b[0;34m\u001b[0m\u001b[0m\n\u001b[1;32m    434\u001b[0m \u001b[0;34m\u001b[0m\u001b[0m\n\u001b[0;32m--> 435\u001b[0;31m     \u001b[0;32mreturn\u001b[0m \u001b[0msimulate\u001b[0m\u001b[0;34m(\u001b[0m\u001b[0mdb\u001b[0m\u001b[0;34m=\u001b[0m\u001b[0mdb\u001b[0m\u001b[0;34m,\u001b[0m \u001b[0msequences\u001b[0m\u001b[0;34m=\u001b[0m\u001b[0msequences\u001b[0m\u001b[0;34m,\u001b[0m \u001b[0mfastq\u001b[0m\u001b[0;34m=\u001b[0m\u001b[0mfastq\u001b[0m\u001b[0;34m,\u001b[0m \u001b[0;34m**\u001b[0m\u001b[0msimulate_args\u001b[0m\u001b[0;34m)\u001b[0m\u001b[0;34m\u001b[0m\u001b[0;34m\u001b[0m\u001b[0m\n\u001b[0m\u001b[1;32m    436\u001b[0m \u001b[0;34m\u001b[0m\u001b[0m\n\u001b[1;32m    437\u001b[0m \u001b[0;34m\u001b[0m\u001b[0m\n",
      "\u001b[0;32m~/Columbia/aPTR/src/simulation.py\u001b[0m in \u001b[0;36msimulate\u001b[0;34m(db, sequences, ptrs, coverages, n_samples, read_length, scale, verbose, shuffle, fastq)\u001b[0m\n\u001b[1;32m    348\u001b[0m             \u001b[0msample_rna\u001b[0m\u001b[0;34m.\u001b[0m\u001b[0mappend\u001b[0m\u001b[0;34m(\u001b[0m\u001b[0mrna_reads\u001b[0m\u001b[0;34m)\u001b[0m\u001b[0;34m\u001b[0m\u001b[0;34m\u001b[0m\u001b[0m\n\u001b[1;32m    349\u001b[0m \u001b[0;34m\u001b[0m\u001b[0m\n\u001b[0;32m--> 350\u001b[0;31m         otu_matrix.append(\n\u001b[0m\u001b[1;32m    351\u001b[0m             \u001b[0mpd\u001b[0m\u001b[0;34m.\u001b[0m\u001b[0mDataFrame\u001b[0m\u001b[0;34m(\u001b[0m\u001b[0msample_rna\u001b[0m\u001b[0;34m)\u001b[0m\u001b[0;34m.\u001b[0m\u001b[0msum\u001b[0m\u001b[0;34m(\u001b[0m\u001b[0maxis\u001b[0m\u001b[0;34m=\u001b[0m\u001b[0;36m0\u001b[0m\u001b[0;34m)\u001b[0m\u001b[0;34m\u001b[0m\u001b[0;34m\u001b[0m\u001b[0m\n\u001b[1;32m    352\u001b[0m         )  # Sum together reads\n",
      "\u001b[0;32m~/opt/anaconda3/lib/python3.8/site-packages/pandas/core/frame.py\u001b[0m in \u001b[0;36mappend\u001b[0;34m(self, other, ignore_index, verify_integrity, sort)\u001b[0m\n\u001b[1;32m   8928\u001b[0m                 \u001b[0mother\u001b[0m \u001b[0;34m=\u001b[0m \u001b[0mSeries\u001b[0m\u001b[0;34m(\u001b[0m\u001b[0mother\u001b[0m\u001b[0;34m)\u001b[0m\u001b[0;34m\u001b[0m\u001b[0;34m\u001b[0m\u001b[0m\n\u001b[1;32m   8929\u001b[0m             \u001b[0;32mif\u001b[0m \u001b[0mother\u001b[0m\u001b[0;34m.\u001b[0m\u001b[0mname\u001b[0m \u001b[0;32mis\u001b[0m \u001b[0;32mNone\u001b[0m \u001b[0;32mand\u001b[0m \u001b[0;32mnot\u001b[0m \u001b[0mignore_index\u001b[0m\u001b[0;34m:\u001b[0m\u001b[0;34m\u001b[0m\u001b[0;34m\u001b[0m\u001b[0m\n\u001b[0;32m-> 8930\u001b[0;31m                 raise TypeError(\n\u001b[0m\u001b[1;32m   8931\u001b[0m                     \u001b[0;34m\"Can only append a Series if ignore_index=True \"\u001b[0m\u001b[0;34m\u001b[0m\u001b[0;34m\u001b[0m\u001b[0m\n\u001b[1;32m   8932\u001b[0m                     \u001b[0;34m\"or if the Series has a name\"\u001b[0m\u001b[0;34m\u001b[0m\u001b[0;34m\u001b[0m\u001b[0m\n",
      "\u001b[0;31mTypeError\u001b[0m: Can only append a Series if ignore_index=True or if the Series has a name"
     ]
    }
   ],
   "source": [
    "# Get 10 complete genomes\n",
    "\n",
    "genomes = db.db[db.db[\"n_contigs\"] == 1][\"genome\"].unique()\n",
    "genomes_to_use = np.random.choice(genomes, 10, replace=False)\n",
    "\n",
    "# Simulate reads from those genomes\n",
    "reads, ptrs, coverages, otus = simulate_from_ids(\n",
    "    db=db.db,\n",
    "    ids=genomes_to_use,\n",
    "    fasta_path=\"/home/phil/aptr/data/seqs\",\n",
    "    n_samples=5,\n",
    "    scale=1e6,\n",
    "    shuffle=False,  # Suppress shuffling to conserve memory\n",
    "    fastq=False\n",
    ")\n"
   ]
  },
  {
   "cell_type": "markdown",
   "metadata": {},
   "source": [
    "Now let's take a second to look at all of the simulation outputs:"
   ]
  },
  {
   "cell_type": "code",
   "execution_count": null,
   "metadata": {},
   "outputs": [
    {
     "name": "stdout",
     "output_type": "stream",
     "text": [
      "None\n"
     ]
    }
   ],
   "source": [
    "print(reads) # Should be None, since we didn't ask for fastq output"
   ]
  },
  {
   "cell_type": "code",
   "execution_count": null,
   "metadata": {},
   "outputs": [
    {
     "name": "stdout",
     "output_type": "stream",
     "text": [
      "[[1.9772368  1.76662221 1.769148   1.3509318  1.08862458]\n",
      " [1.97204644 1.30878618 1.36128514 1.36886784 1.65894057]\n",
      " [1.04069026 1.43489619 1.52370339 1.01070249 1.75068667]\n",
      " [1.6459498  1.25843575 1.88084104 1.63713746 1.25630302]\n",
      " [1.7725251  1.70385484 1.06096726 1.97464839 1.46689938]\n",
      " [1.26099685 1.98234143 1.09698355 1.95323754 1.14458104]\n",
      " [1.93939513 1.38012865 1.99150981 1.28887478 1.79750956]\n",
      " [1.42500306 1.26934621 1.2647923  1.53436258 1.98445658]\n",
      " [1.39492184 1.32117958 1.05020632 1.12999548 1.73007173]\n",
      " [1.07873129 1.87712176 1.16008953 1.80097735 1.85876405]]\n",
      "(10, 5)\n"
     ]
    }
   ],
   "source": [
    "print(ptrs) # A #{genomes} x #{samples} matrix of PTRs\n",
    "# In this case, should be 10x5\n",
    "print(ptrs.shape)"
   ]
  },
  {
   "cell_type": "code",
   "execution_count": null,
   "metadata": {},
   "outputs": [
    {
     "name": "stdout",
     "output_type": "stream",
     "text": [
      "[[  88695 1082148 2576140 1608723 1257447]\n",
      " [ 954683 1365528  589710   43353 1345653]\n",
      " [ 310401  722464  463345   81319  714309]\n",
      " [1784242 1003138 1553514  118068  418135]\n",
      " [ 721223 3614648  560734   23609  242360]\n",
      " [1371887 1202312 1968761   30253  415599]\n",
      " [1215136 1244031 1394500  730264 3745876]\n",
      " [1121273  228286   27227  288086  405076]\n",
      " [ 954716 2440629 2627437  644246 1591459]\n",
      " [1450546 1320007  447232  921115  931033]]\n",
      "(10, 5)\n"
     ]
    }
   ],
   "source": [
    "print(coverages)\n",
    "print(coverages.shape) # Should also be 10x5, positive integers"
   ]
  },
  {
   "cell_type": "code",
   "execution_count": null,
   "metadata": {},
   "outputs": [
    {
     "name": "stdout",
     "output_type": "stream",
     "text": [
      "                                       0      1       2      3       4\n",
      "c2275b5ec6336c90459dc62694d35a62    18.0  156.0   353.0  228.0   170.0\n",
      "af5156eefea2edb2841e12d26b9e42c1     5.0   42.0    92.0   53.0    48.0\n",
      "d59b9ceb43b2cecf6f271ca9d061a261   219.0  259.0   114.0    4.0   284.0\n",
      "7fffb37507dfeb335b3ca1e5c26f811c   203.0  255.0   112.0    7.0   269.0\n",
      "52e22440e10e89ef7fe7e6314d287e54   194.0  241.0   105.0    5.0   257.0\n",
      "c321f4407428f33a0f7230f0ac1728de   314.0  795.0   530.0   73.0   810.0\n",
      "5d682dd2c61aad36a8f9950d40e8abd6    34.0  106.0    74.0   10.0   110.0\n",
      "e4e95a1eab44ad1660675d16bb4e22ce  1613.0  837.0  1352.0  108.0   380.0\n",
      "a0ba41cf466f512dab0a4fb366453831  1591.0  888.0  1488.0  119.0   344.0\n",
      "41bfe4ce2247591bf64622d049a8bc40    58.0  309.0    30.0    3.0    21.0\n",
      "050830653ba7fd56094f50bbc9b24aad    47.0  267.0    28.0    0.0    18.0\n",
      "3fd7c8d4fcfb4302f7f3ba2017d11909    70.0  345.0    63.0    3.0    16.0\n",
      "495e7390646ee81fca804981ba96bf81    65.0  276.0    41.0    1.0    16.0\n",
      "57ffd92b0682460e853a1f46f4176e04    63.0  334.0    29.0    0.0    24.0\n",
      "0586bf6db72de368bf55a4cc754bf1ea    51.0  233.0    54.0    2.0    17.0\n",
      "3c67647ebe9491e961833dc1a65c5ca2    65.0  337.0    45.0    2.0    25.0\n",
      "1bd87255e66e80e6c414c9e63099e1de    48.0  247.0    45.0    1.0     8.0\n",
      "e9c08602a84619db8f591a9d0f249b85    63.0  254.0    43.0    1.0    19.0\n",
      "9a94ce47d47cec239668c5fe4674bbba   196.0  190.0   255.0    6.0    71.0\n",
      "183d9e40c8c935539685494ec72f4395   199.0  228.0   235.0    7.0    65.0\n",
      "61e9566e2c7e85131a1fc447257a9d5a   185.0  193.0   227.0    3.0    65.0\n",
      "6c928721e7e8d9cac25c0ed2d56a5050   151.0  161.0   249.0    4.0    52.0\n",
      "df85fba07489a7de58d473555bc62841   184.0  220.0   262.0    8.0    59.0\n",
      "650b152d7ba786ed8b3f92df5f7fde55   333.0  341.0   496.0    9.0    94.0\n",
      "ad2c54567bdda02e1e84aadd3f83aaf2   122.0  140.0   193.0   77.0   414.0\n",
      "3e1fa73769dc61b6102d8a0adf37e9d6   135.0  132.0   151.0   89.0   455.0\n",
      "ac71961eab15755953e77c7c1f9b7eeb   194.0  193.0   228.0   90.0   620.0\n",
      "7b3d25272b85220e0556ac93bc27ae0f   163.0  186.0   204.0   77.0   544.0\n",
      "21fcf61cd1f2e7bcdc50a55757ab6944   179.0  168.0   210.0  114.0   526.0\n",
      "f2a5be4d91045b936082aeffa722e05d   385.0  343.0   449.0  197.0  1156.0\n",
      "111654cfbcd802670052ea0ea3eabbd4   184.0  166.0   209.0  115.0   497.0\n",
      "e0d0b8c847e86b7c560bd8523cc7ac1f   131.0   25.0     0.0   40.0    43.0\n",
      "eab599e0c6fc12cfe7717980234064ab   127.0   24.0     3.0   42.0    52.0\n",
      "dc4ad3a441758c68734e22bc0d6510c9   384.0  988.0  1166.0  284.0   603.0\n",
      "afc90835b8cdcaea5842e8c31cd66627    95.0  213.0   209.0   49.0   147.0\n",
      "81115d564af7dcbe29db0dcc1673c40f   160.0  117.0    42.0   77.0    69.0\n",
      "ff3b51494a1e2a246c7fbad6b3d40761   164.0  164.0    64.0  119.0   104.0\n",
      "92d6aec25bbec4bd197f8cba3f8a47fe   170.0  141.0    48.0  103.0   118.0\n",
      "5ed89d976a0738bb02eb98af13f9cbdb   168.0  125.0    52.0  106.0    64.0\n",
      "13b0201a67320e2a1abadf5e1702a4cc   326.0  227.0    97.0  224.0   187.0\n",
      "b1fda8bc8fb24970b54700cff4adbd6a   165.0  139.0    47.0  111.0    96.0\n",
      "6a6630a52095675dc5077a19fb23badb   155.0  111.0    53.0   84.0    97.0\n",
      "1a0fb91b00635c3f33de237ec83359c8   164.0  116.0    52.0   70.0    90.0\n",
      "df1dd1d49f1f5ffd9ef1076f95d03fdf   160.0  133.0    49.0   91.0    86.0\n",
      "e02ff38b9f909871f79cf59e0b2357e7   160.0  131.0    40.0  110.0    99.0\n"
     ]
    }
   ],
   "source": [
    "print(otus)"
   ]
  },
  {
   "cell_type": "markdown",
   "metadata": {},
   "source": [
    "## Torch checks"
   ]
  },
  {
   "cell_type": "code",
   "execution_count": null,
   "metadata": {},
   "outputs": [],
   "source": [
    "Remember, the TorchSolver object assumes you have a 'genomes' dict which has the keys:\n",
    "* seqs -> DNA sequences for RNAs (can use dummies)"
   ]
  },
  {
   "cell_type": "code",
   "execution_count": null,
   "metadata": {},
   "outputs": [
    {
     "ename": "NameError",
     "evalue": "name 'genomes' is not defined",
     "output_type": "error",
     "traceback": [
      "\u001b[0;31m---------------------------------------------------------------------------\u001b[0m",
      "\u001b[0;31mNameError\u001b[0m                                 Traceback (most recent call last)",
      "\u001b[0;32m<ipython-input-6-ce04458e800c>\u001b[0m in \u001b[0;36m<module>\u001b[0;34m\u001b[0m\n\u001b[1;32m      1\u001b[0m solver.set_vals(\n\u001b[0;32m----> 2\u001b[0;31m     \u001b[0mgenomes\u001b[0m\u001b[0;34m=\u001b[0m\u001b[0mgenomes\u001b[0m\u001b[0;34m,\u001b[0m\u001b[0;34m\u001b[0m\u001b[0;34m\u001b[0m\u001b[0m\n\u001b[0m\u001b[1;32m      3\u001b[0m )\n",
      "\u001b[0;31mNameError\u001b[0m: name 'genomes' is not defined"
     ]
    }
   ],
   "source": [
    "1# Here we initialize a TorchSolver with the genomes and coverages from before\n",
    "\n",
    "solver = TorchSolver()\n",
    "solver.set_vals(\n",
    "    genomes=genomes_to_use,\n",
    "    coverages=otus[\"\"]\n",
    ")"
   ]
  },
  {
   "cell_type": "code",
   "execution_count": null,
   "metadata": {},
   "outputs": [],
   "source": []
  }
 ],
 "metadata": {
  "kernelspec": {
   "display_name": "Python 3.8.5 ('base')",
   "language": "python",
   "name": "python3"
  },
  "language_info": {
   "codemirror_mode": {
    "name": "ipython",
    "version": 3
   },
   "file_extension": ".py",
   "mimetype": "text/x-python",
   "name": "python",
   "nbconvert_exporter": "python",
   "pygments_lexer": "ipython3",
   "version": "3.8.5"
  },
  "orig_nbformat": 4,
  "vscode": {
   "interpreter": {
    "hash": "4b2458d0610a23fbd5c707a25149dc9218000ef165f906d82c15727d18cbe22b"
   }
  }
 },
 "nbformat": 4,
 "nbformat_minor": 2
}
