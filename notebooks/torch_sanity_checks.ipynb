{
 "cells": [
  {
   "cell_type": "markdown",
   "metadata": {},
   "source": [
    "# Torch sanity checks\n",
    "> Verifying that the `TorchSolver` class is working as expected."
   ]
  },
  {
   "cell_type": "markdown",
   "metadata": {},
   "source": [
    "## Data generation"
   ]
  },
  {
   "cell_type": "code",
   "execution_count": 1,
   "metadata": {},
   "outputs": [],
   "source": [
    "import sys\n",
    "# sys.path.append('/home/phil/aptr')\n",
    "# sys.path.append('~/aptr')\n",
    "sys.path.append('/Users/phil/Columbia/aPTR')\n",
    "%load_ext autoreload\n",
    "%autoreload 2"
   ]
  },
  {
   "cell_type": "code",
   "execution_count": 91,
   "metadata": {},
   "outputs": [],
   "source": [
    "import numpy as np\n",
    "import pandas as pd\n",
    "import matplotlib.pyplot as plt\n",
    "\n",
    "from src.torch_solver import TorchSolver\n",
    "from src.database import RnaDB\n",
    "\n",
    "from src.solve_table import solve_all, score_predictions\n",
    "from src.simulation import simulate_from_ids"
   ]
  },
  {
   "cell_type": "code",
   "execution_count": 3,
   "metadata": {},
   "outputs": [
    {
     "name": "stderr",
     "output_type": "stream",
     "text": [
      "/Users/phil/opt/anaconda3/lib/python3.8/site-packages/pandas/core/indexing.py:1667: SettingWithCopyWarning: \n",
      "A value is trying to be set on a copy of a slice from a DataFrame.\n",
      "Try using .loc[row_indexer,col_indexer] = value instead\n",
      "\n",
      "See the caveats in the documentation: https://pandas.pydata.org/pandas-docs/stable/user_guide/indexing.html#returning-a-view-versus-a-copy\n",
      "  self.obj[key] = value\n"
     ]
    }
   ],
   "source": [
    "# Load a database object\n",
    "\n",
    "db = RnaDB()"
   ]
  },
  {
   "cell_type": "code",
   "execution_count": 74,
   "metadata": {},
   "outputs": [
    {
     "name": "stdout",
     "output_type": "stream",
     "text": [
      "Generating sample 0 for organism 158190.3...\n",
      "Generating sample 0 for organism 1538644.4...\n",
      "Generating sample 0 for organism 655815.4...\n",
      "Generating sample 0 for organism 713604.4...\n",
      "Generating sample 0 for organism 1448139.3...\n",
      "Generating sample 0 for organism 41514.7...\n",
      "Generating sample 0 for organism 158822.7...\n",
      "Generating sample 0 for organism 135487.3...\n",
      "Generating sample 0 for organism 1042156.4...\n",
      "Generating sample 0 for organism 467705.9...\n",
      "Sample RNA:\n",
      "[{'b7f41b025015db33fc3c70196e412905': 15, '370320f84fb907dc06dff584270a9ee5': 2}, {'c27fc07a69127cb5342a030dc64f6e78': 9, '83aa7ef534f9dd6e2f2559e2ad40b4bf': 5}, {'198bdbdc91dcecab92f812c764c142fb': 0, '2e6daf417dfd38a37f76ce679cf8366f': 1}, {'ba3405f355c4a84fa05463556ef463cb': 0, 'd29e6176bf0c86b43bc365e98acfc528': 0, '3c80218ac1294cf64d118bbc672c0595': 0}, {'f39f35965b1d20a9601584dfe085cc88': 9, '1f8c69aac679b5c6491970ab010f52e6': 1, 'b85b2777aac3f29822017387febe1f2e': 2}, {'556a8129572431ad0f63471d81f5c333': 12, 'ad1139d8d17b7276132087bf4682045c': 5, 'c6fe5d3d4af66c90ff7df941c23967f1': 6, '401d9d7a226f49bd4f297b97795355e1': 2, '1c82f7adc21fd174bd56cd10c3a6a4d3': 4, 'dd2f337c5074dea3745341ab62b16bca': 6}, {'3c2ceed34b1de2a2c987572440b80ecb': 0, '7a6ee74edffc34fb7b88e4ff3375b5bb': 1, '9cc844b155617183e30851b6fe28d35f': 0, 'c0ad75defd34f84ac2898d8085ecfe4b': 0, '87dc98c988f44e30d5ae7eae0ea3a9ac': 0, '1432f2d57bae58cd0fc400b0a7191b79': 0}, {'6419f63bc6e76cc1969b8d14170a0fb6': 0, '4b3eb8cc7bd8ef6231f8027ff7bfbbd6': 1}, {'549082b903803a1992a04b3ae8ac5863': 1, '9ab9c885a828d4721c4b00dde1d122fa': 1, 'aeaea94bc8e21e9e27706964fbd76b6b': 2}, {'4251942c1ce6355efed7952509014caa': 14, '4cb7cff1282cb113f0bdf7c059e61a11': 22}]\n",
      "Generating sample 1 for organism 158190.3...\n",
      "Generating sample 1 for organism 1538644.4...\n",
      "Generating sample 1 for organism 655815.4...\n",
      "Generating sample 1 for organism 713604.4...\n",
      "Generating sample 1 for organism 1448139.3...\n",
      "Generating sample 1 for organism 41514.7...\n",
      "Generating sample 1 for organism 158822.7...\n",
      "Generating sample 1 for organism 135487.3...\n",
      "Generating sample 1 for organism 1042156.4...\n",
      "Generating sample 1 for organism 467705.9...\n",
      "Sample RNA:\n",
      "[{'b7f41b025015db33fc3c70196e412905': 5, '370320f84fb907dc06dff584270a9ee5': 4}, {'c27fc07a69127cb5342a030dc64f6e78': 1, '83aa7ef534f9dd6e2f2559e2ad40b4bf': 0}, {'198bdbdc91dcecab92f812c764c142fb': 1, '2e6daf417dfd38a37f76ce679cf8366f': 1}, {'ba3405f355c4a84fa05463556ef463cb': 1, 'd29e6176bf0c86b43bc365e98acfc528': 1, '3c80218ac1294cf64d118bbc672c0595': 1}, {'f39f35965b1d20a9601584dfe085cc88': 33, '1f8c69aac679b5c6491970ab010f52e6': 4, 'b85b2777aac3f29822017387febe1f2e': 2}, {'556a8129572431ad0f63471d81f5c333': 0, 'ad1139d8d17b7276132087bf4682045c': 2, 'c6fe5d3d4af66c90ff7df941c23967f1': 0, '401d9d7a226f49bd4f297b97795355e1': 0, '1c82f7adc21fd174bd56cd10c3a6a4d3': 0, 'dd2f337c5074dea3745341ab62b16bca': 0}, {'3c2ceed34b1de2a2c987572440b80ecb': 0, '7a6ee74edffc34fb7b88e4ff3375b5bb': 0, '9cc844b155617183e30851b6fe28d35f': 0, 'c0ad75defd34f84ac2898d8085ecfe4b': 0, '87dc98c988f44e30d5ae7eae0ea3a9ac': 1, '1432f2d57bae58cd0fc400b0a7191b79': 0}, {'6419f63bc6e76cc1969b8d14170a0fb6': 0, '4b3eb8cc7bd8ef6231f8027ff7bfbbd6': 0}, {'549082b903803a1992a04b3ae8ac5863': 0, '9ab9c885a828d4721c4b00dde1d122fa': 0, 'aeaea94bc8e21e9e27706964fbd76b6b': 0}, {'4251942c1ce6355efed7952509014caa': 12, '4cb7cff1282cb113f0bdf7c059e61a11': 31}]\n",
      "Generating sample 2 for organism 158190.3...\n",
      "Generating sample 2 for organism 1538644.4...\n",
      "Generating sample 2 for organism 655815.4...\n",
      "Generating sample 2 for organism 713604.4...\n",
      "Generating sample 2 for organism 1448139.3...\n",
      "Generating sample 2 for organism 41514.7...\n",
      "Generating sample 2 for organism 158822.7...\n",
      "Generating sample 2 for organism 135487.3...\n",
      "Generating sample 2 for organism 1042156.4...\n",
      "Generating sample 2 for organism 467705.9...\n",
      "Sample RNA:\n",
      "[{'b7f41b025015db33fc3c70196e412905': 0, '370320f84fb907dc06dff584270a9ee5': 0}, {'c27fc07a69127cb5342a030dc64f6e78': 3, '83aa7ef534f9dd6e2f2559e2ad40b4bf': 1}, {'198bdbdc91dcecab92f812c764c142fb': 0, '2e6daf417dfd38a37f76ce679cf8366f': 0}, {'ba3405f355c4a84fa05463556ef463cb': 1, 'd29e6176bf0c86b43bc365e98acfc528': 1, '3c80218ac1294cf64d118bbc672c0595': 1}, {'f39f35965b1d20a9601584dfe085cc88': 21, '1f8c69aac679b5c6491970ab010f52e6': 3, 'b85b2777aac3f29822017387febe1f2e': 4}, {'556a8129572431ad0f63471d81f5c333': 1, 'ad1139d8d17b7276132087bf4682045c': 0, 'c6fe5d3d4af66c90ff7df941c23967f1': 1, '401d9d7a226f49bd4f297b97795355e1': 0, '1c82f7adc21fd174bd56cd10c3a6a4d3': 0, 'dd2f337c5074dea3745341ab62b16bca': 0}, {'3c2ceed34b1de2a2c987572440b80ecb': 2, '7a6ee74edffc34fb7b88e4ff3375b5bb': 4, '9cc844b155617183e30851b6fe28d35f': 0, 'c0ad75defd34f84ac2898d8085ecfe4b': 1, '87dc98c988f44e30d5ae7eae0ea3a9ac': 4, '1432f2d57bae58cd0fc400b0a7191b79': 3}, {'6419f63bc6e76cc1969b8d14170a0fb6': 4, '4b3eb8cc7bd8ef6231f8027ff7bfbbd6': 4}, {'549082b903803a1992a04b3ae8ac5863': 0, '9ab9c885a828d4721c4b00dde1d122fa': 0, 'aeaea94bc8e21e9e27706964fbd76b6b': 0}, {'4251942c1ce6355efed7952509014caa': 1, '4cb7cff1282cb113f0bdf7c059e61a11': 5}]\n",
      "Generating sample 3 for organism 158190.3...\n",
      "Generating sample 3 for organism 1538644.4...\n",
      "Generating sample 3 for organism 655815.4...\n",
      "Generating sample 3 for organism 713604.4...\n",
      "Generating sample 3 for organism 1448139.3...\n",
      "Generating sample 3 for organism 41514.7...\n",
      "Generating sample 3 for organism 158822.7...\n",
      "Generating sample 3 for organism 135487.3...\n",
      "Generating sample 3 for organism 1042156.4...\n",
      "Generating sample 3 for organism 467705.9...\n",
      "Sample RNA:\n",
      "[{'b7f41b025015db33fc3c70196e412905': 11, '370320f84fb907dc06dff584270a9ee5': 1}, {'c27fc07a69127cb5342a030dc64f6e78': 11, '83aa7ef534f9dd6e2f2559e2ad40b4bf': 6}, {'198bdbdc91dcecab92f812c764c142fb': 3, '2e6daf417dfd38a37f76ce679cf8366f': 4}, {'ba3405f355c4a84fa05463556ef463cb': 0, 'd29e6176bf0c86b43bc365e98acfc528': 2, '3c80218ac1294cf64d118bbc672c0595': 0}, {'f39f35965b1d20a9601584dfe085cc88': 18, '1f8c69aac679b5c6491970ab010f52e6': 1, 'b85b2777aac3f29822017387febe1f2e': 4}, {'556a8129572431ad0f63471d81f5c333': 3, 'ad1139d8d17b7276132087bf4682045c': 0, 'c6fe5d3d4af66c90ff7df941c23967f1': 0, '401d9d7a226f49bd4f297b97795355e1': 0, '1c82f7adc21fd174bd56cd10c3a6a4d3': 0, 'dd2f337c5074dea3745341ab62b16bca': 0}, {'3c2ceed34b1de2a2c987572440b80ecb': 0, '7a6ee74edffc34fb7b88e4ff3375b5bb': 1, '9cc844b155617183e30851b6fe28d35f': 2, 'c0ad75defd34f84ac2898d8085ecfe4b': 0, '87dc98c988f44e30d5ae7eae0ea3a9ac': 0, '1432f2d57bae58cd0fc400b0a7191b79': 0}, {'6419f63bc6e76cc1969b8d14170a0fb6': 2, '4b3eb8cc7bd8ef6231f8027ff7bfbbd6': 1}, {'549082b903803a1992a04b3ae8ac5863': 2, '9ab9c885a828d4721c4b00dde1d122fa': 7, 'aeaea94bc8e21e9e27706964fbd76b6b': 5}, {'4251942c1ce6355efed7952509014caa': 0, '4cb7cff1282cb113f0bdf7c059e61a11': 0}]\n",
      "Generating sample 4 for organism 158190.3...\n",
      "Generating sample 4 for organism 1538644.4...\n",
      "Generating sample 4 for organism 655815.4...\n",
      "Generating sample 4 for organism 713604.4...\n",
      "Generating sample 4 for organism 1448139.3...\n",
      "Generating sample 4 for organism 41514.7...\n",
      "Generating sample 4 for organism 158822.7...\n",
      "Generating sample 4 for organism 135487.3...\n",
      "Generating sample 4 for organism 1042156.4...\n",
      "Generating sample 4 for organism 467705.9...\n",
      "Sample RNA:\n",
      "[{'b7f41b025015db33fc3c70196e412905': 11, '370320f84fb907dc06dff584270a9ee5': 3}, {'c27fc07a69127cb5342a030dc64f6e78': 9, '83aa7ef534f9dd6e2f2559e2ad40b4bf': 0}, {'198bdbdc91dcecab92f812c764c142fb': 8, '2e6daf417dfd38a37f76ce679cf8366f': 8}, {'ba3405f355c4a84fa05463556ef463cb': 0, 'd29e6176bf0c86b43bc365e98acfc528': 1, '3c80218ac1294cf64d118bbc672c0595': 0}, {'f39f35965b1d20a9601584dfe085cc88': 3, '1f8c69aac679b5c6491970ab010f52e6': 0, 'b85b2777aac3f29822017387febe1f2e': 0}, {'556a8129572431ad0f63471d81f5c333': 4, 'ad1139d8d17b7276132087bf4682045c': 1, 'c6fe5d3d4af66c90ff7df941c23967f1': 0, '401d9d7a226f49bd4f297b97795355e1': 0, '1c82f7adc21fd174bd56cd10c3a6a4d3': 0, 'dd2f337c5074dea3745341ab62b16bca': 0}, {'3c2ceed34b1de2a2c987572440b80ecb': 0, '7a6ee74edffc34fb7b88e4ff3375b5bb': 0, '9cc844b155617183e30851b6fe28d35f': 0, 'c0ad75defd34f84ac2898d8085ecfe4b': 0, '87dc98c988f44e30d5ae7eae0ea3a9ac': 0, '1432f2d57bae58cd0fc400b0a7191b79': 0}, {'6419f63bc6e76cc1969b8d14170a0fb6': 0, '4b3eb8cc7bd8ef6231f8027ff7bfbbd6': 0}, {'549082b903803a1992a04b3ae8ac5863': 0, '9ab9c885a828d4721c4b00dde1d122fa': 0, 'aeaea94bc8e21e9e27706964fbd76b6b': 0}, {'4251942c1ce6355efed7952509014caa': 1, '4cb7cff1282cb113f0bdf7c059e61a11': 12}]\n"
     ]
    }
   ],
   "source": [
    "# Get 10 complete genomes\n",
    "\n",
    "genomes = db.db[db.db[\"n_contigs\"] == 1][\"genome\"].unique()\n",
    "genomes_to_use = np.random.choice(genomes, 10, replace=False)\n",
    "\n",
    "# Simulate reads from those genomes\n",
    "reads, ptrs, coverages, otus = simulate_from_ids(\n",
    "    db=db.db,\n",
    "    ids=genomes_to_use,\n",
    "    fasta_path=\"/home/phil/aptr/data/seqs\",\n",
    "    n_samples=5,\n",
    "    scale=1e4,\n",
    "    shuffle=False,  # Suppress shuffling to conserve memory\n",
    "    fastq=False\n",
    ")\n"
   ]
  },
  {
   "cell_type": "markdown",
   "metadata": {},
   "source": [
    "Now let's take a second to look at all of the simulation outputs:"
   ]
  },
  {
   "cell_type": "code",
   "execution_count": 76,
   "metadata": {},
   "outputs": [
    {
     "name": "stdout",
     "output_type": "stream",
     "text": [
      "None\n"
     ]
    }
   ],
   "source": [
    "print(reads) # Should be None, since we didn't ask for fastq output"
   ]
  },
  {
   "cell_type": "code",
   "execution_count": 77,
   "metadata": {},
   "outputs": [
    {
     "name": "stdout",
     "output_type": "stream",
     "text": [
      "[[1.296476   1.22836694 1.69989888 1.37453742 1.28500123]\n",
      " [1.81078708 1.50818829 1.12666137 1.84335023 1.67940566]\n",
      " [1.17272828 1.32361942 1.73033557 1.28527683 1.9838819 ]\n",
      " [1.76765625 1.52760728 1.95606811 1.15563401 1.39603746]\n",
      " [1.13740399 1.81536428 1.50787392 1.95740882 1.1959742 ]\n",
      " [1.29915352 1.44219008 1.28869098 1.16721832 1.89333107]\n",
      " [1.56818202 1.90765779 1.06025922 1.62804339 1.50799788]\n",
      " [1.34288533 1.89917305 1.49072891 1.12754738 1.08295759]\n",
      " [1.07589977 1.99070998 1.69732122 1.28146579 1.54071823]\n",
      " [1.69656163 1.23173143 1.85870135 1.49720755 1.55908333]]\n",
      "(10, 5)\n"
     ]
    }
   ],
   "source": [
    "print(ptrs) # A #{genomes} x #{samples} matrix of PTRs\n",
    "# In this case, should be 10x5\n",
    "print(ptrs.shape)"
   ]
  },
  {
   "cell_type": "code",
   "execution_count": 78,
   "metadata": {},
   "outputs": [
    {
     "name": "stdout",
     "output_type": "stream",
     "text": [
      "[[18053 12196  1756 15427 16842]\n",
      " [18605   728  3885 15899  6352]\n",
      " [ 5194 16834   976 14236 39945]\n",
      " [ 2648  8829 33764  6526  7175]\n",
      " [13334 37327 21571 16154  4521]\n",
      " [31733  3175  2411  5635 14281]\n",
      " [  982   924 16316  9404  1791]\n",
      " [ 3925  3015 30935 10028   854]\n",
      " [ 2856   611  2178 18642   279]\n",
      " [32485 31673  5689   618  8531]]\n",
      "(10, 5)\n"
     ]
    }
   ],
   "source": [
    "print(coverages)\n",
    "print(coverages.shape) # Should also be 10x5, positive integers"
   ]
  },
  {
   "cell_type": "code",
   "execution_count": 79,
   "metadata": {},
   "outputs": [
    {
     "name": "stdout",
     "output_type": "stream",
     "text": [
      "                                     0     1     2     3     4\n",
      "b7f41b025015db33fc3c70196e412905  15.0   5.0   0.0  11.0  11.0\n",
      "370320f84fb907dc06dff584270a9ee5   2.0   4.0   0.0   1.0   3.0\n",
      "c27fc07a69127cb5342a030dc64f6e78   9.0   1.0   3.0  11.0   9.0\n",
      "83aa7ef534f9dd6e2f2559e2ad40b4bf   5.0   0.0   1.0   6.0   0.0\n",
      "198bdbdc91dcecab92f812c764c142fb   0.0   1.0   0.0   3.0   8.0\n",
      "2e6daf417dfd38a37f76ce679cf8366f   1.0   1.0   0.0   4.0   8.0\n",
      "ba3405f355c4a84fa05463556ef463cb   0.0   1.0   1.0   0.0   0.0\n",
      "d29e6176bf0c86b43bc365e98acfc528   0.0   1.0   1.0   2.0   1.0\n",
      "3c80218ac1294cf64d118bbc672c0595   0.0   1.0   1.0   0.0   0.0\n",
      "f39f35965b1d20a9601584dfe085cc88   9.0  33.0  21.0  18.0   3.0\n",
      "1f8c69aac679b5c6491970ab010f52e6   1.0   4.0   3.0   1.0   0.0\n",
      "b85b2777aac3f29822017387febe1f2e   2.0   2.0   4.0   4.0   0.0\n",
      "556a8129572431ad0f63471d81f5c333  12.0   0.0   1.0   3.0   4.0\n",
      "ad1139d8d17b7276132087bf4682045c   5.0   2.0   0.0   0.0   1.0\n",
      "c6fe5d3d4af66c90ff7df941c23967f1   6.0   0.0   1.0   0.0   0.0\n",
      "401d9d7a226f49bd4f297b97795355e1   2.0   0.0   0.0   0.0   0.0\n",
      "1c82f7adc21fd174bd56cd10c3a6a4d3   4.0   0.0   0.0   0.0   0.0\n",
      "dd2f337c5074dea3745341ab62b16bca   6.0   0.0   0.0   0.0   0.0\n",
      "3c2ceed34b1de2a2c987572440b80ecb   0.0   0.0   2.0   0.0   0.0\n",
      "7a6ee74edffc34fb7b88e4ff3375b5bb   1.0   0.0   4.0   1.0   0.0\n",
      "9cc844b155617183e30851b6fe28d35f   0.0   0.0   0.0   2.0   0.0\n",
      "c0ad75defd34f84ac2898d8085ecfe4b   0.0   0.0   1.0   0.0   0.0\n",
      "87dc98c988f44e30d5ae7eae0ea3a9ac   0.0   1.0   4.0   0.0   0.0\n",
      "1432f2d57bae58cd0fc400b0a7191b79   0.0   0.0   3.0   0.0   0.0\n",
      "6419f63bc6e76cc1969b8d14170a0fb6   0.0   0.0   4.0   2.0   0.0\n",
      "4b3eb8cc7bd8ef6231f8027ff7bfbbd6   1.0   0.0   4.0   1.0   0.0\n",
      "549082b903803a1992a04b3ae8ac5863   1.0   0.0   0.0   2.0   0.0\n",
      "9ab9c885a828d4721c4b00dde1d122fa   1.0   0.0   0.0   7.0   0.0\n",
      "aeaea94bc8e21e9e27706964fbd76b6b   2.0   0.0   0.0   5.0   0.0\n",
      "4251942c1ce6355efed7952509014caa  14.0  12.0   1.0   0.0   1.0\n",
      "4cb7cff1282cb113f0bdf7c059e61a11  22.0  31.0   5.0   0.0  12.0\n"
     ]
    }
   ],
   "source": [
    "print(otus)"
   ]
  },
  {
   "cell_type": "markdown",
   "metadata": {},
   "source": [
    "## Torch checks"
   ]
  },
  {
   "cell_type": "markdown",
   "metadata": {},
   "source": [
    "Remember, the TorchSolver object assumes you have a 'genomes' dict which has the keys:\n",
    "* seqs -> indices for which sequence the genome has\n",
    "* pos -> start position for RNA gene"
   ]
  },
  {
   "cell_type": "code",
   "execution_count": 80,
   "metadata": {},
   "outputs": [
    {
     "name": "stdout",
     "output_type": "stream",
     "text": [
      "[{'id': '158190.3', 'pos': array([0.36870599, 0.05386492, 0.05206312, 0.4038798 ]), 'seqs': [0, 0, 0, 1]}, {'id': '1538644.4', 'pos': array([0.03367286, 0.01410787, 0.03505736, 0.08001561, 0.42412868,\n",
      "       0.13796746, 0.22024391, 0.19420117]), 'seqs': [2, 2, 2, 2, 3, 3, 2, 2]}, {'id': '655815.4', 'pos': array([0.3692223 , 0.60811316, 0.00403924]), 'seqs': [4, 5, 5]}, {'id': '713604.4', 'pos': array([0.12651841, 0.34689584, 0.22539473, 0.25593295]), 'seqs': [6, 7, 8, 7]}, {'id': '1448139.3', 'pos': array([0.16435212, 0.00907711, 0.02554103, 0.06524982, 0.01749113,\n",
      "       0.19055063, 0.81160136, 0.07228189, 0.09243017, 0.03625559]), 'seqs': [9, 10, 9, 9, 9, 9, 9, 9, 9, 11]}, {'id': '41514.7', 'pos': array([0.07106634, 0.08936011, 0.75653234, 0.0306175 , 0.01029364,\n",
      "       0.06107764, 0.2343136 ]), 'seqs': [12, 13, 12, 14, 15, 16, 17]}, {'id': '158822.7', 'pos': array([0.03045775, 0.1834427 , 0.20539586, 0.05412395, 0.05569944,\n",
      "       0.07173006, 0.07988342]), 'seqs': [18, 19, 20, 21, 22, 23, 22]}, {'id': '135487.3', 'pos': array([0.39098253, 0.43309939, 0.20500755]), 'seqs': [24, 24, 25]}, {'id': '1042156.4', 'pos': array([0.36589712, 0.3015724 , 0.0163834 , 0.12721596]), 'seqs': [26, 27, 28, 28]}, {'id': '467705.9', 'pos': array([0.00900639, 0.08022399, 0.30090929, 0.19494806]), 'seqs': [29, 30, 30, 30]}]\n"
     ]
    }
   ],
   "source": [
    "solver_genomes, md5s = db.generate_genome_objects(genomes_to_use)\n",
    "print(solver_genomes)\n",
    "print(len(solver_genomes)) # Should be 10, since there are 10 genomes"
   ]
  },
  {
   "cell_type": "code",
   "execution_count": 98,
   "metadata": {},
   "outputs": [],
   "source": [
    "# Here we initialize a TorchSolver with the genomes and coverages from before\n",
    "\n",
    "solver = TorchSolver()\n",
    "solver.set_vals(\n",
    "    genomes=solver_genomes,\n",
    "    coverages=otus[0]\n",
    ")"
   ]
  },
  {
   "cell_type": "code",
   "execution_count": 101,
   "metadata": {},
   "outputs": [
    {
     "name": "stdout",
     "output_type": "stream",
     "text": [
      "tensor([0.7543, 0.4381, 0.1231, 0.4828, 0.1528, 0.3969, 0.1638, 0.8205, 0.9877,\n",
      "        0.4945], requires_grad=True)\n",
      "tensor([0.7543, 0.4381, 0.1231, 0.4828, 0.1528, 0.3969, 0.1638, 0.8205, 0.9877,\n",
      "        0.4945], requires_grad=True)\n"
     ]
    }
   ],
   "source": [
    "# Check that a_hat updates \n",
    "\n",
    "print(solver.a_hat)\n",
    "solver.train()\n",
    "print(solver.a_hat)"
   ]
  },
  {
   "cell_type": "code",
   "execution_count": 116,
   "metadata": {},
   "outputs": [
    {
     "name": "stderr",
     "output_type": "stream",
     "text": [
      "<ipython-input-116-d265d4b10918>:9: UserWarning: To copy construct from a tensor, it is recommended to use sourceTensor.clone().detach() or sourceTensor.clone().detach().requires_grad_(True), rather than torch.tensor(sourceTensor).\n",
      "  C = torch.tensor(solver.members)\n",
      "<ipython-input-116-d265d4b10918>:10: UserWarning: To copy construct from a tensor, it is recommended to use sourceTensor.clone().detach() or sourceTensor.clone().detach().requires_grad_(True), rather than torch.tensor(sourceTensor).\n",
      "  D = torch.tensor(solver.dists)\n",
      "<ipython-input-116-d265d4b10918>:11: UserWarning: To copy construct from a tensor, it is recommended to use sourceTensor.clone().detach() or sourceTensor.clone().detach().requires_grad_(True), rather than torch.tensor(sourceTensor).\n",
      "  E = torch.tensor(solver.gene_to_seq)\n"
     ]
    },
    {
     "ename": "RuntimeError",
     "evalue": "expected scalar type Float but found Double",
     "output_type": "error",
     "traceback": [
      "\u001b[0;31m---------------------------------------------------------------------------\u001b[0m",
      "\u001b[0;31mRuntimeError\u001b[0m                              Traceback (most recent call last)",
      "\u001b[0;32m<ipython-input-116-d265d4b10918>\u001b[0m in \u001b[0;36m<module>\u001b[0;34m\u001b[0m\n\u001b[1;32m     26\u001b[0m \u001b[0;31m# Gradients\u001b[0m\u001b[0;34m\u001b[0m\u001b[0;34m\u001b[0m\u001b[0;34m\u001b[0m\u001b[0m\n\u001b[1;32m     27\u001b[0m \u001b[0mdL_df\u001b[0m \u001b[0;34m=\u001b[0m \u001b[0mf\u001b[0m \u001b[0;34m-\u001b[0m \u001b[0mf_true\u001b[0m\u001b[0;34m\u001b[0m\u001b[0;34m\u001b[0m\u001b[0m\n\u001b[0;32m---> 28\u001b[0;31m \u001b[0mdL_dg\u001b[0m \u001b[0;34m=\u001b[0m \u001b[0;34m(\u001b[0m\u001b[0;36m2\u001b[0m \u001b[0;34m/\u001b[0m \u001b[0mk\u001b[0m\u001b[0;34m)\u001b[0m \u001b[0;34m*\u001b[0m \u001b[0mtorch\u001b[0m\u001b[0;34m.\u001b[0m\u001b[0mexp\u001b[0m\u001b[0;34m(\u001b[0m\u001b[0mg\u001b[0m\u001b[0;34m)\u001b[0m \u001b[0;34m*\u001b[0m \u001b[0;34m(\u001b[0m\u001b[0mE\u001b[0m \u001b[0;34m@\u001b[0m \u001b[0mdL_df\u001b[0m\u001b[0;34m)\u001b[0m\u001b[0;34m\u001b[0m\u001b[0;34m\u001b[0m\u001b[0m\n\u001b[0m\u001b[1;32m     29\u001b[0m \u001b[0mdL_da\u001b[0m \u001b[0;34m=\u001b[0m \u001b[0mC\u001b[0m \u001b[0;34m@\u001b[0m \u001b[0mdL_dg\u001b[0m\u001b[0;34m\u001b[0m\u001b[0;34m\u001b[0m\u001b[0m\n\u001b[1;32m     30\u001b[0m \u001b[0mdL_db\u001b[0m \u001b[0;34m=\u001b[0m \u001b[0;34m-\u001b[0m\u001b[0mD\u001b[0m \u001b[0;34m@\u001b[0m \u001b[0mdL_dg\u001b[0m\u001b[0;34m\u001b[0m\u001b[0;34m\u001b[0m\u001b[0m\n",
      "\u001b[0;31mRuntimeError\u001b[0m: expected scalar type Float but found Double"
     ]
    }
   ],
   "source": [
    "# Let's try to write out the torch model here\n",
    "import torch\n",
    "\n",
    "# Learnable parameters are a_hat and b_hat\n",
    "a_hat = torch.rand(10, dtype=torch.float32)\n",
    "b_hat = torch.log(1 + torch.rand(10, dtype=torch.float32)) # log-PTR\n",
    "\n",
    "# Let's just make copies of the existing C, D, E matrices\n",
    "C = torch.tensor(solver.members, dtype=torch.float32)\n",
    "D = torch.tensor(solver.dists, dtype=torch.float32)\n",
    "E = torch.tensor(solver.gene_to_seq, dtype=torch.float32)\n",
    "f_true = torch.tensor(otus[0], dtype=torch.float32)\n",
    "\n",
    "# Some counts from the model\n",
    "n = solver.n\n",
    "m = solver.m\n",
    "k = solver.k\n",
    "\n",
    "# Forward pass\n",
    "g = a_hat @ C + 1 - b_hat @ D\n",
    "f = torch.exp(g) @ E\n",
    "\n",
    "# Loss\n",
    "loss = torch.sum((f - f_true)**2)\n",
    "\n",
    "# Gradients\n",
    "dL_df = f - f_true\n",
    "dL_dg = (2 / k) * torch.exp(g) * (E @ dL_df)\n",
    "dL_da = C @ dL_dg\n",
    "dL_db = -D @ dL_dg\n",
    "\n",
    "# Update parameters\n",
    "print(a_hat)\n",
    "a_hat = a_hat - 0.1 * dL_da\n",
    "print(a_hat)\n",
    "\n",
    "print(b_hat)\n",
    "b_hat = b_hat - 0.1 * dL_db\n",
    "print(b_hat)\n"
   ]
  },
  {
   "cell_type": "code",
   "execution_count": 115,
   "metadata": {},
   "outputs": [
    {
     "name": "stderr",
     "output_type": "stream",
     "text": [
      "/Users/phil/opt/anaconda3/lib/python3.8/site-packages/torch/_tensor.py:1013: UserWarning: The .grad attribute of a Tensor that is not a leaf Tensor is being accessed. Its .grad attribute won't be populated during autograd.backward(). If you indeed want the .grad field to be populated for a non-leaf Tensor, use .retain_grad() on the non-leaf Tensor. If you access the non-leaf Tensor by mistake, make sure you access the leaf Tensor instead. See github.com/pytorch/pytorch/pull/30531 for more informations. (Triggered internally at  aten/src/ATen/core/TensorBody.h:417.)\n",
      "  return self._grad\n"
     ]
    }
   ],
   "source": [
    "b_hat.grad"
   ]
  },
  {
   "cell_type": "code",
   "execution_count": 102,
   "metadata": {},
   "outputs": [
    {
     "data": {
      "text/plain": [
       "tensor([[1., 1., 1., 1., 0., 0., 0., 0., 0., 0., 0., 0., 0., 0., 0., 0., 0., 0.,\n",
       "         0., 0., 0., 0., 0., 0., 0., 0., 0., 0., 0., 0., 0., 0., 0., 0., 0., 0.,\n",
       "         0., 0., 0., 0., 0., 0., 0., 0., 0., 0., 0., 0., 0., 0., 0., 0., 0., 0.],\n",
       "        [0., 0., 0., 0., 1., 1., 1., 1., 1., 1., 1., 1., 0., 0., 0., 0., 0., 0.,\n",
       "         0., 0., 0., 0., 0., 0., 0., 0., 0., 0., 0., 0., 0., 0., 0., 0., 0., 0.,\n",
       "         0., 0., 0., 0., 0., 0., 0., 0., 0., 0., 0., 0., 0., 0., 0., 0., 0., 0.],\n",
       "        [0., 0., 0., 0., 0., 0., 0., 0., 0., 0., 0., 0., 1., 1., 1., 0., 0., 0.,\n",
       "         0., 0., 0., 0., 0., 0., 0., 0., 0., 0., 0., 0., 0., 0., 0., 0., 0., 0.,\n",
       "         0., 0., 0., 0., 0., 0., 0., 0., 0., 0., 0., 0., 0., 0., 0., 0., 0., 0.],\n",
       "        [0., 0., 0., 0., 0., 0., 0., 0., 0., 0., 0., 0., 0., 0., 0., 1., 1., 1.,\n",
       "         1., 0., 0., 0., 0., 0., 0., 0., 0., 0., 0., 0., 0., 0., 0., 0., 0., 0.,\n",
       "         0., 0., 0., 0., 0., 0., 0., 0., 0., 0., 0., 0., 0., 0., 0., 0., 0., 0.],\n",
       "        [0., 0., 0., 0., 0., 0., 0., 0., 0., 0., 0., 0., 0., 0., 0., 0., 0., 0.,\n",
       "         0., 1., 1., 1., 1., 1., 1., 1., 1., 1., 1., 0., 0., 0., 0., 0., 0., 0.,\n",
       "         0., 0., 0., 0., 0., 0., 0., 0., 0., 0., 0., 0., 0., 0., 0., 0., 0., 0.],\n",
       "        [0., 0., 0., 0., 0., 0., 0., 0., 0., 0., 0., 0., 0., 0., 0., 0., 0., 0.,\n",
       "         0., 0., 0., 0., 0., 0., 0., 0., 0., 0., 0., 1., 1., 1., 1., 1., 1., 1.,\n",
       "         0., 0., 0., 0., 0., 0., 0., 0., 0., 0., 0., 0., 0., 0., 0., 0., 0., 0.],\n",
       "        [0., 0., 0., 0., 0., 0., 0., 0., 0., 0., 0., 0., 0., 0., 0., 0., 0., 0.,\n",
       "         0., 0., 0., 0., 0., 0., 0., 0., 0., 0., 0., 0., 0., 0., 0., 0., 0., 0.,\n",
       "         1., 1., 1., 1., 1., 1., 1., 0., 0., 0., 0., 0., 0., 0., 0., 0., 0., 0.],\n",
       "        [0., 0., 0., 0., 0., 0., 0., 0., 0., 0., 0., 0., 0., 0., 0., 0., 0., 0.,\n",
       "         0., 0., 0., 0., 0., 0., 0., 0., 0., 0., 0., 0., 0., 0., 0., 0., 0., 0.,\n",
       "         0., 0., 0., 0., 0., 0., 0., 1., 1., 1., 0., 0., 0., 0., 0., 0., 0., 0.],\n",
       "        [0., 0., 0., 0., 0., 0., 0., 0., 0., 0., 0., 0., 0., 0., 0., 0., 0., 0.,\n",
       "         0., 0., 0., 0., 0., 0., 0., 0., 0., 0., 0., 0., 0., 0., 0., 0., 0., 0.,\n",
       "         0., 0., 0., 0., 0., 0., 0., 0., 0., 0., 1., 1., 1., 1., 0., 0., 0., 0.],\n",
       "        [0., 0., 0., 0., 0., 0., 0., 0., 0., 0., 0., 0., 0., 0., 0., 0., 0., 0.,\n",
       "         0., 0., 0., 0., 0., 0., 0., 0., 0., 0., 0., 0., 0., 0., 0., 0., 0., 0.,\n",
       "         0., 0., 0., 0., 0., 0., 0., 0., 0., 0., 0., 0., 0., 0., 1., 1., 1., 1.]])"
      ]
     },
     "execution_count": 102,
     "metadata": {},
     "output_type": "execute_result"
    }
   ],
   "source": [
    "solver.members"
   ]
  },
  {
   "cell_type": "markdown",
   "metadata": {},
   "source": []
  }
 ],
 "metadata": {
  "kernelspec": {
   "display_name": "Python 3.8.5 ('base')",
   "language": "python",
   "name": "python3"
  },
  "language_info": {
   "codemirror_mode": {
    "name": "ipython",
    "version": 3
   },
   "file_extension": ".py",
   "mimetype": "text/x-python",
   "name": "python",
   "nbconvert_exporter": "python",
   "pygments_lexer": "ipython3",
   "version": "3.8.5"
  },
  "orig_nbformat": 4,
  "vscode": {
   "interpreter": {
    "hash": "4b2458d0610a23fbd5c707a25149dc9218000ef165f906d82c15727d18cbe22b"
   }
  }
 },
 "nbformat": 4,
 "nbformat_minor": 2
}
