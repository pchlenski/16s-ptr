{
  "nbformat": 4,
  "nbformat_minor": 0,
  "metadata": {
    "colab": {
      "name": "getting sequences from patric.ipynb",
      "provenance": [],
      "mount_file_id": "1q1RVjFT3-X-Jx0CYUDJ8A6vob2CJL8QQ",
      "authorship_tag": "ABX9TyP3Bipl/C80hmQhZgXINUhX",
      "include_colab_link": true
    },
    "kernelspec": {
      "name": "python3",
      "display_name": "Python 3"
    },
    "language_info": {
      "name": "python"
    }
  },
  "cells": [
    {
      "cell_type": "markdown",
      "metadata": {
        "id": "view-in-github",
        "colab_type": "text"
      },
      "source": [
        "<a href=\"https://colab.research.google.com/github/pchlenski/16s-ptr/blob/main/notebooks/getting_sequences_from_patric.ipynb\" target=\"_parent\"><img src=\"https://colab.research.google.com/assets/colab-badge.svg\" alt=\"Open In Colab\"/></a>"
      ]
    },
    {
      "cell_type": "code",
      "metadata": {
        "colab": {
          "base_uri": "https://localhost:8080/"
        },
        "id": "NoNTTHsB64ai",
        "outputId": "6f92dd0b-f176-4efc-ee35-61a004a2a6d1"
      },
      "source": [
        "# Expanded imports\n",
        "\n",
        "import numpy as np\n",
        "import pandas as pd\n",
        "import matplotlib.pyplot as plt\n",
        "import pickle as p\n",
        "\n",
        "# google colab specific stuff\n",
        "from google.colab import drive\n",
        "drive.mount('/content/drive')\n",
        "\n",
        "# os stuff\n",
        "import os\n",
        "import gzip\n",
        "import shutil\n",
        "\n",
        "# set environmental variables\n",
        "dd = '/content/drive/MyDrive/notebooks/16s/data/' # data directory\n",
        "\n",
        "# pandas settings\n",
        "%load_ext google.colab.data_table"
      ],
      "execution_count": null,
      "outputs": [
        {
          "output_type": "stream",
          "text": [
            "Drive already mounted at /content/drive; to attempt to forcibly remount, call drive.mount(\"/content/drive\", force_remount=True).\n"
          ],
          "name": "stdout"
        }
      ]
    },
    {
      "cell_type": "code",
      "metadata": {
        "colab": {
          "base_uri": "https://localhost:8080/"
        },
        "id": "le5jD4y26_vE",
        "outputId": "d3eff85d-6af1-4b99-aede-02ac038a5c96"
      },
      "source": [
        "db = pd.read_pickle(f\"{dd}/db.pkl\")\n",
        "db['genome'].nunique()"
      ],
      "execution_count": null,
      "outputs": [
        {
          "output_type": "execute_result",
          "data": {
            "text/plain": [
              "1273"
            ]
          },
          "metadata": {},
          "execution_count": 3
        }
      ]
    },
    {
      "cell_type": "markdown",
      "metadata": {
        "id": "IeJK1L7B2YGF"
      },
      "source": [
        "# Getting genome sequences"
      ]
    },
    {
      "cell_type": "code",
      "metadata": {
        "id": "oP2kfKBB3EzK",
        "colab": {
          "base_uri": "https://localhost:8080/"
        },
        "outputId": "9138c9d1-628f-42c8-c8a4-61a47c772249"
      },
      "source": [
        "# Grab fasta files from PATRIC - this takes ~18m to run\n",
        "\n",
        "ids = db['genome'].unique()\n",
        "!mkdir {dd}seqs\n",
        "for idx,id in enumerate(ids):\n",
        "    if idx % 20 == 0:\n",
        "        print(f\"{idx} of {db['genome'].nunique()}\")\n",
        "    url = f\"ftp://ftp.patricbrc.org/genomes/{id}/{id}.fna\"\n",
        "    !wget -qO - {url} | gzip -c > {dd}seqs/{id}.fna.gz"
      ],
      "execution_count": null,
      "outputs": [
        {
          "output_type": "stream",
          "text": [
            "mkdir: cannot create directory ‘/content/drive/MyDrive/notebooks/16s/data/seqs’: File exists\n",
            "0 of 1273\n",
            "20 of 1273\n",
            "40 of 1273\n",
            "60 of 1273\n",
            "80 of 1273\n",
            "100 of 1273\n",
            "120 of 1273\n",
            "140 of 1273\n",
            "160 of 1273\n",
            "180 of 1273\n",
            "200 of 1273\n",
            "220 of 1273\n",
            "240 of 1273\n",
            "260 of 1273\n",
            "280 of 1273\n",
            "300 of 1273\n",
            "320 of 1273\n",
            "340 of 1273\n",
            "360 of 1273\n",
            "380 of 1273\n",
            "400 of 1273\n",
            "420 of 1273\n",
            "440 of 1273\n",
            "460 of 1273\n",
            "480 of 1273\n",
            "500 of 1273\n",
            "520 of 1273\n",
            "540 of 1273\n",
            "560 of 1273\n",
            "580 of 1273\n",
            "600 of 1273\n",
            "620 of 1273\n",
            "640 of 1273\n",
            "660 of 1273\n",
            "680 of 1273\n",
            "700 of 1273\n",
            "720 of 1273\n",
            "740 of 1273\n",
            "760 of 1273\n",
            "780 of 1273\n",
            "800 of 1273\n",
            "820 of 1273\n",
            "840 of 1273\n",
            "860 of 1273\n",
            "880 of 1273\n",
            "900 of 1273\n",
            "920 of 1273\n",
            "940 of 1273\n",
            "960 of 1273\n",
            "980 of 1273\n",
            "1000 of 1273\n",
            "1020 of 1273\n",
            "1040 of 1273\n",
            "1060 of 1273\n",
            "1080 of 1273\n",
            "1100 of 1273\n",
            "1120 of 1273\n",
            "1140 of 1273\n",
            "1160 of 1273\n",
            "1180 of 1273\n",
            "1200 of 1273\n",
            "1220 of 1273\n",
            "1240 of 1273\n",
            "1260 of 1273\n"
          ],
          "name": "stdout"
        }
      ]
    },
    {
      "cell_type": "code",
      "metadata": {
        "id": "tIu2danRZTQE"
      },
      "source": [
        ""
      ],
      "execution_count": null,
      "outputs": []
    }
  ]
}