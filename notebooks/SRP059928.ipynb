{
 "cells": [
  {
   "cell_type": "markdown",
   "metadata": {},
   "source": [
    "# SRP059928\n",
    "> Are any of these taxa in my dataset?\n",
    "\n",
    "\"we created an artificial bacterial population using DNA from: \n",
    "* Salmonella enterica\n",
    "* Streptococcus pyogenes\n",
    "* Escherichia coli\n",
    "* Lactobacillus helveticus\n",
    "* Lactobacillus delbrueckii\n",
    "* Lactobacillus plantarum\n",
    "* Clostridium sordelli\n",
    "* Bacteroides thetaiotaomicron\n",
    "* Bacteroides vulgatus\n",
    "* Bifidobacterium breve\n",
    "* Bifidobacterium animalis"
   ]
  },
  {
   "cell_type": "code",
   "execution_count": 1,
   "metadata": {},
   "outputs": [],
   "source": [
    "import sys\n",
    "sys.path.append('/home/phil/aptr')\n",
    "%load_ext autoreload\n",
    "%autoreload 2"
   ]
  },
  {
   "cell_type": "code",
   "execution_count": 2,
   "metadata": {},
   "outputs": [],
   "source": [
    "import pandas as pd"
   ]
  },
  {
   "cell_type": "code",
   "execution_count": 6,
   "metadata": {},
   "outputs": [],
   "source": [
    "from src.database import RnaDB\n",
    "from src.simulation_new import rc"
   ]
  },
  {
   "cell_type": "code",
   "execution_count": 4,
   "metadata": {},
   "outputs": [],
   "source": [
    "db = RnaDB(\n",
    "    path_to_dnaA=\"../data/allDnaA.tsv\",\n",
    "    path_to_16s=\"../data/allSSU.tsv\",\n",
    ")"
   ]
  },
  {
   "cell_type": "code",
   "execution_count": 6,
   "metadata": {},
   "outputs": [],
   "source": [
    "# DB doesn't have names for genomes, so we need to add them back in\n",
    "\n",
    "dnaA = pd.read_csv(\"../data/allDnaA.tsv\", sep=\"\\t\", index_col=0)"
   ]
  },
  {
   "cell_type": "code",
   "execution_count": 7,
   "metadata": {},
   "outputs": [],
   "source": [
    "# Save the IDs from our db to a temp file\n",
    "\n",
    "pd.Series(db.db[\"genome\"].unique()).to_csv(\"../data/genome_ids.tsv\", sep=\"\\t\")"
   ]
  },
  {
   "cell_type": "code",
   "execution_count": 65,
   "metadata": {},
   "outputs": [],
   "source": [
    "genome_names = pd.read_table(\"../data/genome_species.tsv\", index_col=0, dtype={1: str})"
   ]
  },
  {
   "cell_type": "code",
   "execution_count": 66,
   "metadata": {},
   "outputs": [
    {
     "data": {
      "text/html": [
       "<div>\n",
       "<style scoped>\n",
       "    .dataframe tbody tr th:only-of-type {\n",
       "        vertical-align: middle;\n",
       "    }\n",
       "\n",
       "    .dataframe tbody tr th {\n",
       "        vertical-align: top;\n",
       "    }\n",
       "\n",
       "    .dataframe thead th {\n",
       "        text-align: right;\n",
       "    }\n",
       "</style>\n",
       "<table border=\"1\" class=\"dataframe\">\n",
       "  <thead>\n",
       "    <tr style=\"text-align: right;\">\n",
       "      <th></th>\n",
       "      <th>genome_id</th>\n",
       "      <th>genome.species</th>\n",
       "    </tr>\n",
       "  </thead>\n",
       "  <tbody>\n",
       "    <tr>\n",
       "      <th>0</th>\n",
       "      <td>1566358.3</td>\n",
       "      <td>Paenibacillus sp. IHBB 10380</td>\n",
       "    </tr>\n",
       "    <tr>\n",
       "      <th>1</th>\n",
       "      <td>407976.7</td>\n",
       "      <td>Shewanella baltica</td>\n",
       "    </tr>\n",
       "    <tr>\n",
       "      <th>2</th>\n",
       "      <td>398579.7</td>\n",
       "      <td>Shewanella pealeana</td>\n",
       "    </tr>\n",
       "    <tr>\n",
       "      <th>3</th>\n",
       "      <td>575540.3</td>\n",
       "      <td>Isosphaera pallida</td>\n",
       "    </tr>\n",
       "    <tr>\n",
       "      <th>4</th>\n",
       "      <td>891391.3</td>\n",
       "      <td>Lactobacillus acidophilus</td>\n",
       "    </tr>\n",
       "    <tr>\n",
       "      <th>...</th>\n",
       "      <td>...</td>\n",
       "      <td>...</td>\n",
       "    </tr>\n",
       "    <tr>\n",
       "      <th>1023</th>\n",
       "      <td>575788.5</td>\n",
       "      <td>Vibrio atlanticus</td>\n",
       "    </tr>\n",
       "    <tr>\n",
       "      <th>1024</th>\n",
       "      <td>588858.6</td>\n",
       "      <td>Salmonella enterica</td>\n",
       "    </tr>\n",
       "    <tr>\n",
       "      <th>1025</th>\n",
       "      <td>644284.3</td>\n",
       "      <td>Arcanobacterium haemolyticum</td>\n",
       "    </tr>\n",
       "    <tr>\n",
       "      <th>1026</th>\n",
       "      <td>796606.3</td>\n",
       "      <td>Bacillus methanolicus</td>\n",
       "    </tr>\n",
       "    <tr>\n",
       "      <th>1027</th>\n",
       "      <td>903510.3</td>\n",
       "      <td>Vibrio furnissii</td>\n",
       "    </tr>\n",
       "  </tbody>\n",
       "</table>\n",
       "<p>1027 rows × 2 columns</p>\n",
       "</div>"
      ],
      "text/plain": [
       "      genome_id                genome.species\n",
       "0     1566358.3  Paenibacillus sp. IHBB 10380\n",
       "1      407976.7            Shewanella baltica\n",
       "2      398579.7           Shewanella pealeana\n",
       "3      575540.3            Isosphaera pallida\n",
       "4      891391.3     Lactobacillus acidophilus\n",
       "...         ...                           ...\n",
       "1023   575788.5             Vibrio atlanticus\n",
       "1024   588858.6           Salmonella enterica\n",
       "1025   644284.3  Arcanobacterium haemolyticum\n",
       "1026   796606.3         Bacillus methanolicus\n",
       "1027   903510.3              Vibrio furnissii\n",
       "\n",
       "[1027 rows x 2 columns]"
      ]
     },
     "execution_count": 66,
     "metadata": {},
     "output_type": "execute_result"
    }
   ],
   "source": [
    "genome_names"
   ]
  },
  {
   "cell_type": "code",
   "execution_count": 10,
   "metadata": {},
   "outputs": [
    {
     "name": "stdout",
     "output_type": "stream",
     "text": [
      "Salmonella enterica\n",
      "Streptococcus pyogenes\n",
      "Escherichia coli\n",
      "Lactobacillus helveticus\n",
      "Lactobacillus delbrueckii\n",
      "Lactobacillus plantarum\n",
      "Clostridium sordelli\n",
      "Bacteroides thetaiotaomicron\n",
      "Bacteroides vulgatus\n",
      "Bifidobacterium breve\n",
      "Bifidobacterium animalis\n"
     ]
    }
   ],
   "source": [
    "species = [\n",
    "    \"Salmonella enterica\",\n",
    "    \"Streptococcus pyogenes\",\n",
    "    \"Escherichia coli\",\n",
    "    \"Lactobacillus helveticus\",\n",
    "    \"Lactobacillus delbrueckii\",\n",
    "    \"Lactobacillus plantarum\",\n",
    "    \"Clostridium sordelli\",\n",
    "    \"Bacteroides thetaiotaomicron\",\n",
    "    \"Bacteroides vulgatus\",\n",
    "    \"Bifidobacterium breve\",\n",
    "    \"Bifidobacterium animalis\",\n",
    "]\n",
    "\n",
    "for sp in species:\n",
    "    print(sp)\n",
    "    "
   ]
  },
  {
   "cell_type": "code",
   "execution_count": 9,
   "metadata": {},
   "outputs": [],
   "source": [
    "db_v4 = RnaDB(\n",
    "    path_to_dnaA=\"../data/allDnaA.tsv\",\n",
    "    path_to_16s=\"../data/allSSU.tsv\",\n",
    "    left_primer=\"GACGCTCTTCCGATCTTATGGTAATTGTGTGCCAGCMGCCGCGGTAA\",\n",
    "    right_primer=_rc(\"TGTGCTCTTCCGATCTAGTCAGTCAGCCGGACTACHVGGGTWTCTAAT\")\n",
    ")"
   ]
  },
  {
   "cell_type": "code",
   "execution_count": 9,
   "metadata": {},
   "outputs": [
    {
     "ename": "NameError",
     "evalue": "name 'db' is not defined",
     "output_type": "error",
     "traceback": [
      "\u001b[0;31m---------------------------------------------------------------------------\u001b[0m",
      "\u001b[0;31mNameError\u001b[0m                                 Traceback (most recent call last)",
      "\u001b[0;32m<ipython-input-9-993c98961da3>\u001b[0m in \u001b[0;36m<module>\u001b[0;34m\u001b[0m\n\u001b[1;32m      7\u001b[0m \u001b[0;34m\u001b[0m\u001b[0m\n\u001b[1;32m      8\u001b[0m \u001b[0;32mfor\u001b[0m \u001b[0mi\u001b[0m \u001b[0;32min\u001b[0m \u001b[0mrange\u001b[0m\u001b[0;34m(\u001b[0m\u001b[0;36m40\u001b[0m\u001b[0;34m)\u001b[0m\u001b[0;34m:\u001b[0m\u001b[0;34m\u001b[0m\u001b[0;34m\u001b[0m\u001b[0m\n\u001b[0;32m----> 9\u001b[0;31m     \u001b[0mprop1\u001b[0m \u001b[0;34m=\u001b[0m \u001b[0mnp\u001b[0m\u001b[0;34m.\u001b[0m\u001b[0msum\u001b[0m\u001b[0;34m(\u001b[0m\u001b[0;34m[\u001b[0m\u001b[0mf1\u001b[0m\u001b[0;34m[\u001b[0m\u001b[0;34m-\u001b[0m\u001b[0mi\u001b[0m\u001b[0;34m:\u001b[0m\u001b[0;34m]\u001b[0m \u001b[0;32min\u001b[0m \u001b[0mx\u001b[0m\u001b[0;34m.\u001b[0m\u001b[0mlower\u001b[0m\u001b[0;34m(\u001b[0m\u001b[0;34m)\u001b[0m \u001b[0;32mfor\u001b[0m \u001b[0mx\u001b[0m \u001b[0;32min\u001b[0m \u001b[0mdb\u001b[0m\u001b[0;34m.\u001b[0m\u001b[0mdb\u001b[0m\u001b[0;34m[\u001b[0m\u001b[0;34m\"16s_sequence\"\u001b[0m\u001b[0;34m]\u001b[0m\u001b[0;34m]\u001b[0m\u001b[0;34m)\u001b[0m \u001b[0;34m/\u001b[0m \u001b[0mlen\u001b[0m\u001b[0;34m(\u001b[0m\u001b[0mdb\u001b[0m\u001b[0;34m.\u001b[0m\u001b[0mdb\u001b[0m\u001b[0;34m)\u001b[0m\u001b[0;34m\u001b[0m\u001b[0;34m\u001b[0m\u001b[0m\n\u001b[0m\u001b[1;32m     10\u001b[0m     \u001b[0;31m# prop2 = np.sum([f2[:i] in x.lower() for x in db.db[\"16s_sequence\"]]) / len(db.db)\u001b[0m\u001b[0;34m\u001b[0m\u001b[0;34m\u001b[0m\u001b[0;34m\u001b[0m\u001b[0m\n\u001b[1;32m     11\u001b[0m     \u001b[0;31m# prop3 = np.sum([r1[-i:] in x.lower() for x in db.db[\"16s_sequence\"]]) / len(db.db)\u001b[0m\u001b[0;34m\u001b[0m\u001b[0;34m\u001b[0m\u001b[0;34m\u001b[0m\u001b[0m\n",
      "\u001b[0;31mNameError\u001b[0m: name 'db' is not defined"
     ]
    }
   ],
   "source": [
    "import numpy as np\n",
    "\n",
    "f1 = \"GACGCTCTTCCGATCTTATGGTAATTGTGTGCCAGCMGCCGCGGTAA\".lower()\n",
    "f2 = \"TGTGCTCTTCCGATCTAGTCAGTCAGCCGGACTACHVGGGTWTCTAAT\".lower()\n",
    "r1 = rc(f1)\n",
    "r2 = rc(f2)\n",
    "\n",
    "for i in range(40):\n",
    "    prop1 = np.sum([f1[-i:] in x.lower() for x in db.db[\"16s_sequence\"]]) / len(db.db)\n",
    "    # prop2 = np.sum([f2[:i] in x.lower() for x in db.db[\"16s_sequence\"]]) / len(db.db)\n",
    "    # prop3 = np.sum([r1[-i:] in x.lower() for x in db.db[\"16s_sequence\"]]) / len(db.db)\n",
    "    prop4 = np.sum([r2[:i] in x.lower() for x in db.db[\"16s_sequence\"]]) / len(db.db)\n",
    "    # print(i, prop1, prop2, prop3, prop4, sep=\"\\t\")\n",
    "    print(i, prop1, prop4, sep=\"\\t\")"
   ]
  },
  {
   "cell_type": "code",
   "execution_count": 145,
   "metadata": {},
   "outputs": [
    {
     "name": "stdout",
     "output_type": "stream",
     "text": [
      "taatctwtgggvhcatcaggccgactgactgatctagccttctcgtgt\n",
      "attagawacccbdgtagtccggctgactgactagatcggaagagcaca\n"
     ]
    }
   ],
   "source": [
    "# Check RC \n",
    "print(f2[::-1])\n",
    "print(r2)\n",
    "\n",
    "# w-> w is correct\n",
    "# v -> b is correct\n",
    "# h -> d is correct"
   ]
  },
  {
   "cell_type": "code",
   "execution_count": null,
   "metadata": {},
   "outputs": [],
   "source": []
  },
  {
   "cell_type": "code",
   "execution_count": 141,
   "metadata": {},
   "outputs": [
    {
     "data": {
      "text/plain": [
       "'ttaccgcggcmgctggcacacaattaccataagatcggaagagcgtc'"
      ]
     },
     "execution_count": 141,
     "metadata": {},
     "output_type": "execute_result"
    }
   ],
   "source": [
    "r1"
   ]
  },
  {
   "cell_type": "code",
   "execution_count": 14,
   "metadata": {},
   "outputs": [],
   "source": [
    "import re\n",
    "from src.new_filter import _find_primer"
   ]
  },
  {
   "cell_type": "code",
   "execution_count": 75,
   "metadata": {},
   "outputs": [
    {
     "name": "stdout",
     "output_type": "stream",
     "text": [
      "a\t1.0\n",
      "aa\t1.0\n",
      "taa\t0.9994086339444116\n",
      "gtaa\t0.997043169722058\n",
      "ggtaa\t0.9824561403508771\n",
      "cggtaa\t0.9499310072935147\n",
      "gcggtaa\t0.9404691504041002\n",
      "cgcggtaa\t0.9377094421446875\n",
      "ccgcggtaa\t0.937512320126158\n",
      "gccgcggtaa\t0.9367238320520402\n",
      "mgccgcggtaa\t0.0\n",
      "cmgccgcggtaa\t0.0\n",
      "gcmgccgcggtaa\t0.0\n",
      "agcmgccgcggtaa\t0.0\n",
      "cagcmgccgcggtaa\t0.0\n",
      "ccagcmgccgcggtaa\t0.0\n",
      "gccagcmgccgcggtaa\t0.0\n",
      "tgccagcmgccgcggtaa\t0.0\n",
      "gtgccagcmgccgcggtaa\t0.0\n",
      "tgtgccagcmgccgcggtaa\t0.0\n",
      "gtgtgccagcmgccgcggtaa\t0.0\n",
      "tgtgtgccagcmgccgcggtaa\t0.0\n",
      "ttgtgtgccagcmgccgcggtaa\t0.0\n",
      "attgtgtgccagcmgccgcggtaa\t0.0\n",
      "aattgtgtgccagcmgccgcggtaa\t0.0\n",
      "taattgtgtgccagcmgccgcggtaa\t0.0\n",
      "gtaattgtgtgccagcmgccgcggtaa\t0.0\n",
      "ggtaattgtgtgccagcmgccgcggtaa\t0.0\n",
      "tggtaattgtgtgccagcmgccgcggtaa\t0.0\n",
      "atggtaattgtgtgccagcmgccgcggtaa\t0.0\n",
      "tatggtaattgtgtgccagcmgccgcggtaa\t0.0\n",
      "ttatggtaattgtgtgccagcmgccgcggtaa\t0.0\n",
      "cttatggtaattgtgtgccagcmgccgcggtaa\t0.0\n",
      "tcttatggtaattgtgtgccagcmgccgcggtaa\t0.0\n",
      "atcttatggtaattgtgtgccagcmgccgcggtaa\t0.0\n",
      "gatcttatggtaattgtgtgccagcmgccgcggtaa\t0.0\n",
      "cgatcttatggtaattgtgtgccagcmgccgcggtaa\t0.0\n",
      "ccgatcttatggtaattgtgtgccagcmgccgcggtaa\t0.0\n",
      "tccgatcttatggtaattgtgtgccagcmgccgcggtaa\t0.0\n"
     ]
    }
   ],
   "source": [
    "for i in range(1,40):\n",
    "    x = np.sum([len(_find_primer(seq, f1[-i:])) == 2 for seq in db.db[\"16s_sequence\"]])\n",
    "    print(f1[-i:], x / len(db.db), sep=\"\\t\")\n"
   ]
  },
  {
   "cell_type": "code",
   "execution_count": 15,
   "metadata": {},
   "outputs": [
    {
     "name": "stdout",
     "output_type": "stream",
     "text": [
      "re.compile('c(a|c)gccgcggtaa')\n"
     ]
    }
   ],
   "source": [
    "from src.new_filter import _key\n",
    "\n",
    "re_string = \"\".join([_key[x] for x in f1[-12:].lower()])\n",
    "pattern = re.compile(re_string)\n",
    "print(pattern)"
   ]
  },
  {
   "cell_type": "code",
   "execution_count": 21,
   "metadata": {},
   "outputs": [
    {
     "name": "stdout",
     "output_type": "stream",
     "text": [
      "1\t5073\t1450.9641237926276\n",
      "2\t5073\t1421.367829686576\n",
      "3\t5030\t1315.4691848906562\n",
      "4\t4893\t816.7099938687921\n",
      "5\t4783\t615.5644992682417\n",
      "6\t4725\t319.0615873015873\n",
      "7\t4720\t283.4688559322034\n",
      "8\t4708\t255.6839422259983\n",
      "9\t4707\t255.48905884852348\n",
      "10\t4703\t254.85923878375505\n",
      "11\t4701\t255.85981706019996\n",
      "12\t4700\t256.86\n",
      "13\t4699\t257.86018301766336\n",
      "14\t4698\t257.86036611323965\n",
      "15\t4694\t257.85982104814656\n",
      "16\t4693\t257.8600042616663\n",
      "17\t4673\t257.86368499893\n",
      "18\t4671\t257.8640548062513\n",
      "19\t4671\t257.8640548062513\n",
      "20\t213\t257.00469483568077\n",
      "21\t0\tnan\n",
      "22\t0\tnan\n"
     ]
    }
   ],
   "source": [
    "for i in range(1, 23):\n",
    "    pattern_full = re.compile(\n",
    "        \"\".join([_key[x] for x in f1[-i:].lower()]) + \n",
    "        \"(.*)\" +\n",
    "        \"\".join([_key[x] for x in r2[:i].lower()])\n",
    "    )\n",
    "\n",
    "    lens = []\n",
    "    for seq in db.db['16s_sequence']:\n",
    "        try:\n",
    "            # print(len(\"\".join(pattern_full.search(seq).groups())))\n",
    "            lens.append(len(\"\".join(pattern_full.search(seq).groups())))\n",
    "        except:\n",
    "            # print(0)\n",
    "            pass\n",
    "    \n",
    "    print(i, len(lens), np.mean(lens), sep=\"\\t\")\n",
    "    "
   ]
  },
  {
   "cell_type": "code",
   "execution_count": 17,
   "metadata": {},
   "outputs": [
    {
     "name": "stdout",
     "output_type": "stream",
     "text": [
      "gacgctcttccgatcttatggtaatt g tgtgccagcmgccgcggtaa\n",
      "attagawacccbdgtagtccgg c tgactgactagatcggaagagcaca\n"
     ]
    }
   ],
   "source": [
    "# So we see there's failure at 20 for the forward primer\n",
    "# And 22 for the reverse primer\n",
    "# What's going on? Let's find out\n",
    "\n",
    "print(f1[:-21], f1[-21], f1[-20:])\n",
    "print(r2[:22], r2[22], r2[23:])"
   ]
  },
  {
   "cell_type": "code",
   "execution_count": 110,
   "metadata": {},
   "outputs": [
    {
     "data": {
      "text/plain": [
       "'a'"
      ]
     },
     "execution_count": 110,
     "metadata": {},
     "output_type": "execute_result"
    }
   ],
   "source": [
    "\"\".join([_key[x] for x in r2[:1].lower()])"
   ]
  },
  {
   "cell_type": "code",
   "execution_count": 46,
   "metadata": {},
   "outputs": [
    {
     "name": "stdout",
     "output_type": "stream",
     "text": [
      "Warning: sequence is empty or not a string\n",
      "Warning: sequence is empty or not a string\n",
      "Warning: sequence is empty or not a string\n",
      "Warning: sequence is empty or not a string\n",
      "Warning: sequence is empty or not a string\n",
      "Warning: sequence is empty or not a string\n",
      "0.9166875156367276 sequences remain after trimming\n",
      "0.1336002001501126 sequences remain after filtering\n"
     ]
    }
   ],
   "source": [
    "db_v4_revised = RnaDB(\n",
    "    path_to_dnaA=\"../data/allDnaA.tsv\",\n",
    "    path_to_16s=\"../data/allSSU.tsv\",\n",
    "    left_primer=f1[-10:],\n",
    "    right_primer=r2[:10],\n",
    ")\n",
    "\n"
   ]
  },
  {
   "cell_type": "code",
   "execution_count": 53,
   "metadata": {},
   "outputs": [
    {
     "data": {
      "text/plain": [
       "(array([1.062e+03, 3.000e+00, 0.000e+00, 0.000e+00, 1.000e+00, 0.000e+00,\n",
       "        0.000e+00, 1.000e+00, 0.000e+00, 1.000e+00]),\n",
       " array([ 250. ,  417.4,  584.8,  752.2,  919.6, 1087. , 1254.4, 1421.8,\n",
       "        1589.2, 1756.6, 1924. ]),\n",
       " <BarContainer object of 10 artists>)"
      ]
     },
     "execution_count": 53,
     "metadata": {},
     "output_type": "execute_result"
    },
    {
     "data": {
      "image/png": "[encoded data removed]",
      "text/plain": [
       "<Figure size 432x288 with 1 Axes>"
      ]
     },
     "metadata": {
      "needs_background": "light"
     },
     "output_type": "display_data"
    }
   ],
   "source": [
    "import matplotlib.pyplot as plt\n",
    "\n",
    "plt.hist([len(x) for x in db_v4_revised.db[\"16s_sequence\"]], bins=10, log=True)"
   ]
  },
  {
   "cell_type": "code",
   "execution_count": 70,
   "metadata": {},
   "outputs": [],
   "source": [
    "species_merged = pd.merge(db_v4_revised.db, genome_names, left_on=\"genome\", right_on=\"genome_id\")"
   ]
  },
  {
   "cell_type": "code",
   "execution_count": 73,
   "metadata": {},
   "outputs": [
    {
     "data": {
      "text/html": [
       "<div>\n",
       "<style scoped>\n",
       "    .dataframe tbody tr th:only-of-type {\n",
       "        vertical-align: middle;\n",
       "    }\n",
       "\n",
       "    .dataframe tbody tr th {\n",
       "        vertical-align: top;\n",
       "    }\n",
       "\n",
       "    .dataframe thead th {\n",
       "        text-align: right;\n",
       "    }\n",
       "</style>\n",
       "<table border=\"1\" class=\"dataframe\">\n",
       "  <thead>\n",
       "    <tr style=\"text-align: right;\">\n",
       "      <th></th>\n",
       "      <th>genome</th>\n",
       "      <th>n_contigs</th>\n",
       "      <th>contig</th>\n",
       "      <th>feature</th>\n",
       "      <th>16s_position</th>\n",
       "      <th>oor_position</th>\n",
       "      <th>size</th>\n",
       "      <th>16s_sequence</th>\n",
       "      <th>md5</th>\n",
       "      <th>genome_id</th>\n",
       "      <th>genome.species</th>\n",
       "    </tr>\n",
       "  </thead>\n",
       "  <tbody>\n",
       "    <tr>\n",
       "      <th>0</th>\n",
       "      <td>575540.3</td>\n",
       "      <td>2</td>\n",
       "      <td>NC_014962</td>\n",
       "      <td>fig|575540.3.rna.55</td>\n",
       "      <td>5377423</td>\n",
       "      <td>202</td>\n",
       "      <td>5529304</td>\n",
       "      <td>gacgaaccgtgcaaacgttattcggaatcactgggcttaaagggcg...</td>\n",
       "      <td>3e9b4dabf08bb97e6306eede8de5266c</td>\n",
       "      <td>575540.3</td>\n",
       "      <td>Isosphaera pallida</td>\n",
       "    </tr>\n",
       "    <tr>\n",
       "      <th>1</th>\n",
       "      <td>575540.3</td>\n",
       "      <td>2</td>\n",
       "      <td>NC_014962</td>\n",
       "      <td>fig|575540.3.rna.46</td>\n",
       "      <td>4713338</td>\n",
       "      <td>202</td>\n",
       "      <td>5529304</td>\n",
       "      <td>gacgaaccgtgcaaacgttattcggaatcactgggcttaaagggcg...</td>\n",
       "      <td>3e9b4dabf08bb97e6306eede8de5266c</td>\n",
       "      <td>575540.3</td>\n",
       "      <td>Isosphaera pallida</td>\n",
       "    </tr>\n",
       "    <tr>\n",
       "      <th>2</th>\n",
       "      <td>575540.3</td>\n",
       "      <td>2</td>\n",
       "      <td>NC_014962</td>\n",
       "      <td>fig|575540.3.rna.38</td>\n",
       "      <td>4041636</td>\n",
       "      <td>202</td>\n",
       "      <td>5529304</td>\n",
       "      <td>gacgaaccgtgcaaacgttattcggaatcactgggcttaaagggcg...</td>\n",
       "      <td>9c013e6a4352c1a8d4511f123499d059</td>\n",
       "      <td>575540.3</td>\n",
       "      <td>Isosphaera pallida</td>\n",
       "    </tr>\n",
       "    <tr>\n",
       "      <th>3</th>\n",
       "      <td>546269.5</td>\n",
       "      <td>1</td>\n",
       "      <td>CP002390</td>\n",
       "      <td>fig|546269.5.rna.10</td>\n",
       "      <td>719673</td>\n",
       "      <td>88</td>\n",
       "      <td>1931012</td>\n",
       "      <td>tacgtagggggcaagcgttatccggaataactgggcgtaaagggtg...</td>\n",
       "      <td>f36609047426c6be2cf593aa66bb1756</td>\n",
       "      <td>546269.5</td>\n",
       "      <td>Filifactor alocis</td>\n",
       "    </tr>\n",
       "    <tr>\n",
       "      <th>4</th>\n",
       "      <td>546269.5</td>\n",
       "      <td>1</td>\n",
       "      <td>CP002390</td>\n",
       "      <td>fig|546269.5.rna.33</td>\n",
       "      <td>764888</td>\n",
       "      <td>88</td>\n",
       "      <td>1931012</td>\n",
       "      <td>tacgtagggggcaagcgttatccggaataactgggcgtaaagggtg...</td>\n",
       "      <td>f36609047426c6be2cf593aa66bb1756</td>\n",
       "      <td>546269.5</td>\n",
       "      <td>Filifactor alocis</td>\n",
       "    </tr>\n",
       "    <tr>\n",
       "      <th>...</th>\n",
       "      <td>...</td>\n",
       "      <td>...</td>\n",
       "      <td>...</td>\n",
       "      <td>...</td>\n",
       "      <td>...</td>\n",
       "      <td>...</td>\n",
       "      <td>...</td>\n",
       "      <td>...</td>\n",
       "      <td>...</td>\n",
       "      <td>...</td>\n",
       "      <td>...</td>\n",
       "    </tr>\n",
       "    <tr>\n",
       "      <th>1061</th>\n",
       "      <td>471881.3</td>\n",
       "      <td>11</td>\n",
       "      <td>NZ_GG661996</td>\n",
       "      <td>fig|471881.3.rna.29</td>\n",
       "      <td>198505</td>\n",
       "      <td>124357</td>\n",
       "      <td>3749229</td>\n",
       "      <td>tacggagggtgcaagcgttaatcggaattactgggcgtaaagcgca...</td>\n",
       "      <td>e7030631a048a5e046fa7136a4c0e009</td>\n",
       "      <td>471881.3</td>\n",
       "      <td>Proteus penneri</td>\n",
       "    </tr>\n",
       "    <tr>\n",
       "      <th>1062</th>\n",
       "      <td>644284.3</td>\n",
       "      <td>1</td>\n",
       "      <td>NC_014218</td>\n",
       "      <td>fig|644284.3.rna.48</td>\n",
       "      <td>1610087</td>\n",
       "      <td>77</td>\n",
       "      <td>1986154</td>\n",
       "      <td>tacgtagggcgcgagcgttgtccggaattattggcgtaaagagctc...</td>\n",
       "      <td>deee8259adc969f3b917f145dcd1033d</td>\n",
       "      <td>644284.3</td>\n",
       "      <td>Arcanobacterium haemolyticum</td>\n",
       "    </tr>\n",
       "    <tr>\n",
       "      <th>1063</th>\n",
       "      <td>644284.3</td>\n",
       "      <td>1</td>\n",
       "      <td>NC_014218</td>\n",
       "      <td>fig|644284.3.rna.11</td>\n",
       "      <td>493763</td>\n",
       "      <td>77</td>\n",
       "      <td>1986154</td>\n",
       "      <td>tacgtagggcgcgagcgttgtccggaattattgggcgtaaagagct...</td>\n",
       "      <td>4c7d036c70ea6a081912ca79b4196b9d</td>\n",
       "      <td>644284.3</td>\n",
       "      <td>Arcanobacterium haemolyticum</td>\n",
       "    </tr>\n",
       "    <tr>\n",
       "      <th>1064</th>\n",
       "      <td>644284.3</td>\n",
       "      <td>1</td>\n",
       "      <td>NC_014218</td>\n",
       "      <td>fig|644284.3.rna.35</td>\n",
       "      <td>1073265</td>\n",
       "      <td>77</td>\n",
       "      <td>1986154</td>\n",
       "      <td>tacgtagggcgcgagcgttgtccggaattattgggcgtaaagagct...</td>\n",
       "      <td>4c7d036c70ea6a081912ca79b4196b9d</td>\n",
       "      <td>644284.3</td>\n",
       "      <td>Arcanobacterium haemolyticum</td>\n",
       "    </tr>\n",
       "    <tr>\n",
       "      <th>1065</th>\n",
       "      <td>644284.3</td>\n",
       "      <td>1</td>\n",
       "      <td>NC_014218</td>\n",
       "      <td>fig|644284.3.rna.56</td>\n",
       "      <td>1814628</td>\n",
       "      <td>77</td>\n",
       "      <td>1986154</td>\n",
       "      <td>tacgtagggcgcgagcgttgtccggaattattgggcgtaaagagct...</td>\n",
       "      <td>4c7d036c70ea6a081912ca79b4196b9d</td>\n",
       "      <td>644284.3</td>\n",
       "      <td>Arcanobacterium haemolyticum</td>\n",
       "    </tr>\n",
       "  </tbody>\n",
       "</table>\n",
       "<p>1066 rows × 11 columns</p>\n",
       "</div>"
      ],
      "text/plain": [
       "        genome  n_contigs       contig              feature  16s_position  \\\n",
       "0     575540.3          2    NC_014962  fig|575540.3.rna.55       5377423   \n",
       "1     575540.3          2    NC_014962  fig|575540.3.rna.46       4713338   \n",
       "2     575540.3          2    NC_014962  fig|575540.3.rna.38       4041636   \n",
       "3     546269.5          1     CP002390  fig|546269.5.rna.10        719673   \n",
       "4     546269.5          1     CP002390  fig|546269.5.rna.33        764888   \n",
       "...        ...        ...          ...                  ...           ...   \n",
       "1061  471881.3         11  NZ_GG661996  fig|471881.3.rna.29        198505   \n",
       "1062  644284.3          1    NC_014218  fig|644284.3.rna.48       1610087   \n",
       "1063  644284.3          1    NC_014218  fig|644284.3.rna.11        493763   \n",
       "1064  644284.3          1    NC_014218  fig|644284.3.rna.35       1073265   \n",
       "1065  644284.3          1    NC_014218  fig|644284.3.rna.56       1814628   \n",
       "\n",
       "      oor_position     size  \\\n",
       "0              202  5529304   \n",
       "1              202  5529304   \n",
       "2              202  5529304   \n",
       "3               88  1931012   \n",
       "4               88  1931012   \n",
       "...            ...      ...   \n",
       "1061        124357  3749229   \n",
       "1062            77  1986154   \n",
       "1063            77  1986154   \n",
       "1064            77  1986154   \n",
       "1065            77  1986154   \n",
       "\n",
       "                                           16s_sequence  \\\n",
       "0     gacgaaccgtgcaaacgttattcggaatcactgggcttaaagggcg...   \n",
       "1     gacgaaccgtgcaaacgttattcggaatcactgggcttaaagggcg...   \n",
       "2     gacgaaccgtgcaaacgttattcggaatcactgggcttaaagggcg...   \n",
       "3     tacgtagggggcaagcgttatccggaataactgggcgtaaagggtg...   \n",
       "4     tacgtagggggcaagcgttatccggaataactgggcgtaaagggtg...   \n",
       "...                                                 ...   \n",
       "1061  tacggagggtgcaagcgttaatcggaattactgggcgtaaagcgca...   \n",
       "1062  tacgtagggcgcgagcgttgtccggaattattggcgtaaagagctc...   \n",
       "1063  tacgtagggcgcgagcgttgtccggaattattgggcgtaaagagct...   \n",
       "1064  tacgtagggcgcgagcgttgtccggaattattgggcgtaaagagct...   \n",
       "1065  tacgtagggcgcgagcgttgtccggaattattgggcgtaaagagct...   \n",
       "\n",
       "                                   md5 genome_id                genome.species  \n",
       "0     3e9b4dabf08bb97e6306eede8de5266c  575540.3            Isosphaera pallida  \n",
       "1     3e9b4dabf08bb97e6306eede8de5266c  575540.3            Isosphaera pallida  \n",
       "2     9c013e6a4352c1a8d4511f123499d059  575540.3            Isosphaera pallida  \n",
       "3     f36609047426c6be2cf593aa66bb1756  546269.5             Filifactor alocis  \n",
       "4     f36609047426c6be2cf593aa66bb1756  546269.5             Filifactor alocis  \n",
       "...                                ...       ...                           ...  \n",
       "1061  e7030631a048a5e046fa7136a4c0e009  471881.3               Proteus penneri  \n",
       "1062  deee8259adc969f3b917f145dcd1033d  644284.3  Arcanobacterium haemolyticum  \n",
       "1063  4c7d036c70ea6a081912ca79b4196b9d  644284.3  Arcanobacterium haemolyticum  \n",
       "1064  4c7d036c70ea6a081912ca79b4196b9d  644284.3  Arcanobacterium haemolyticum  \n",
       "1065  4c7d036c70ea6a081912ca79b4196b9d  644284.3  Arcanobacterium haemolyticum  \n",
       "\n",
       "[1066 rows x 11 columns]"
      ]
     },
     "execution_count": 73,
     "metadata": {},
     "output_type": "execute_result"
    }
   ],
   "source": [
    "species_merged"
   ]
  },
  {
   "cell_type": "code",
   "execution_count": 74,
   "metadata": {},
   "outputs": [
    {
     "name": "stdout",
     "output_type": "stream",
     "text": [
      "Salmonella enterica\n",
      "False\n",
      "Streptococcus pyogenes\n",
      "False\n",
      "Escherichia coli\n",
      "False\n",
      "Lactobacillus helveticus\n",
      "False\n",
      "Lactobacillus delbrueckii\n",
      "True\n",
      "Lactobacillus plantarum\n",
      "False\n",
      "Clostridium sordelli\n",
      "False\n",
      "Bacteroides thetaiotaomicron\n",
      "False\n",
      "Bacteroides vulgatus\n",
      "False\n",
      "Bifidobacterium breve\n",
      "False\n",
      "Bifidobacterium animalis\n",
      "False\n"
     ]
    }
   ],
   "source": [
    "species = [\n",
    "    \"Salmonella enterica\",\n",
    "    \"Streptococcus pyogenes\",\n",
    "    \"Escherichia coli\",\n",
    "    \"Lactobacillus helveticus\",\n",
    "    \"Lactobacillus delbrueckii\",\n",
    "    \"Lactobacillus plantarum\",\n",
    "    \"Clostridium sordelli\",\n",
    "    \"Bacteroides thetaiotaomicron\",\n",
    "    \"Bacteroides vulgatus\",\n",
    "    \"Bifidobacterium breve\",\n",
    "    \"Bifidobacterium animalis\",\n",
    "]\n",
    "\n",
    "for sp in species:\n",
    "    print(sp)\n",
    "    print(np.any(\n",
    "        [x == sp for x in species_merged[\"genome.species\"]]\n",
    "    ))"
   ]
  },
  {
   "cell_type": "code",
   "execution_count": 77,
   "metadata": {},
   "outputs": [
    {
     "data": {
      "text/html": [
       "<div>\n",
       "<style scoped>\n",
       "    .dataframe tbody tr th:only-of-type {\n",
       "        vertical-align: middle;\n",
       "    }\n",
       "\n",
       "    .dataframe tbody tr th {\n",
       "        vertical-align: top;\n",
       "    }\n",
       "\n",
       "    .dataframe thead th {\n",
       "        text-align: right;\n",
       "    }\n",
       "</style>\n",
       "<table border=\"1\" class=\"dataframe\">\n",
       "  <thead>\n",
       "    <tr style=\"text-align: right;\">\n",
       "      <th></th>\n",
       "      <th>genome</th>\n",
       "      <th>n_contigs</th>\n",
       "      <th>contig</th>\n",
       "      <th>feature</th>\n",
       "      <th>16s_position</th>\n",
       "      <th>oor_position</th>\n",
       "      <th>size</th>\n",
       "      <th>16s_sequence</th>\n",
       "      <th>md5</th>\n",
       "      <th>genome_id</th>\n",
       "      <th>genome.species</th>\n",
       "    </tr>\n",
       "  </thead>\n",
       "  <tbody>\n",
       "    <tr>\n",
       "      <th>42</th>\n",
       "      <td>390333.7</td>\n",
       "      <td>1</td>\n",
       "      <td>NC_008054</td>\n",
       "      <td>fig|390333.7.rna.77</td>\n",
       "      <td>1543353</td>\n",
       "      <td>323</td>\n",
       "      <td>1864998</td>\n",
       "      <td>tacgtaggtggcaagcgttgtccggatttattgggcgtaaagcgag...</td>\n",
       "      <td>851e565cc5f4f6c408567d985007051c</td>\n",
       "      <td>390333.7</td>\n",
       "      <td>Lactobacillus delbrueckii</td>\n",
       "    </tr>\n",
       "    <tr>\n",
       "      <th>43</th>\n",
       "      <td>390333.7</td>\n",
       "      <td>1</td>\n",
       "      <td>NC_008054</td>\n",
       "      <td>fig|390333.7.rna.111</td>\n",
       "      <td>1787116</td>\n",
       "      <td>323</td>\n",
       "      <td>1864998</td>\n",
       "      <td>tacgtaggtggcaagcgttgtccggatttattgggcgtaaagcgag...</td>\n",
       "      <td>851e565cc5f4f6c408567d985007051c</td>\n",
       "      <td>390333.7</td>\n",
       "      <td>Lactobacillus delbrueckii</td>\n",
       "    </tr>\n",
       "    <tr>\n",
       "      <th>44</th>\n",
       "      <td>390333.7</td>\n",
       "      <td>1</td>\n",
       "      <td>NC_008054</td>\n",
       "      <td>fig|390333.7.rna.108</td>\n",
       "      <td>1577010</td>\n",
       "      <td>323</td>\n",
       "      <td>1864998</td>\n",
       "      <td>tacgtaggtggcaagcgttgtccggatttattgggcgtaaagcgag...</td>\n",
       "      <td>851e565cc5f4f6c408567d985007051c</td>\n",
       "      <td>390333.7</td>\n",
       "      <td>Lactobacillus delbrueckii</td>\n",
       "    </tr>\n",
       "    <tr>\n",
       "      <th>45</th>\n",
       "      <td>390333.7</td>\n",
       "      <td>1</td>\n",
       "      <td>NC_008054</td>\n",
       "      <td>fig|390333.7.rna.20</td>\n",
       "      <td>689128</td>\n",
       "      <td>323</td>\n",
       "      <td>1864998</td>\n",
       "      <td>tacgtaggtggcaagcgttgtccggatttattgggcgtaaagcgag...</td>\n",
       "      <td>851e565cc5f4f6c408567d985007051c</td>\n",
       "      <td>390333.7</td>\n",
       "      <td>Lactobacillus delbrueckii</td>\n",
       "    </tr>\n",
       "    <tr>\n",
       "      <th>46</th>\n",
       "      <td>390333.7</td>\n",
       "      <td>1</td>\n",
       "      <td>NC_008054</td>\n",
       "      <td>fig|390333.7.rna.65</td>\n",
       "      <td>1470659</td>\n",
       "      <td>323</td>\n",
       "      <td>1864998</td>\n",
       "      <td>tacgtaggtggcaagcgttgtccggatttattgggcgtaaagcgag...</td>\n",
       "      <td>851e565cc5f4f6c408567d985007051c</td>\n",
       "      <td>390333.7</td>\n",
       "      <td>Lactobacillus delbrueckii</td>\n",
       "    </tr>\n",
       "    <tr>\n",
       "      <th>47</th>\n",
       "      <td>390333.7</td>\n",
       "      <td>1</td>\n",
       "      <td>NC_008054</td>\n",
       "      <td>fig|390333.7.rna.27</td>\n",
       "      <td>806385</td>\n",
       "      <td>323</td>\n",
       "      <td>1864998</td>\n",
       "      <td>tacgtaggtggcaagcgttgtccggatttattgggcgtaaagcgag...</td>\n",
       "      <td>851e565cc5f4f6c408567d985007051c</td>\n",
       "      <td>390333.7</td>\n",
       "      <td>Lactobacillus delbrueckii</td>\n",
       "    </tr>\n",
       "    <tr>\n",
       "      <th>48</th>\n",
       "      <td>390333.7</td>\n",
       "      <td>1</td>\n",
       "      <td>NC_008054</td>\n",
       "      <td>fig|390333.7.rna.122</td>\n",
       "      <td>1794703</td>\n",
       "      <td>323</td>\n",
       "      <td>1864998</td>\n",
       "      <td>tacgtaggtggcaagcgttgtccggatttattgggcgtaaagcgag...</td>\n",
       "      <td>6abec7d3d493f954033da8097d590d1c</td>\n",
       "      <td>390333.7</td>\n",
       "      <td>Lactobacillus delbrueckii</td>\n",
       "    </tr>\n",
       "    <tr>\n",
       "      <th>49</th>\n",
       "      <td>390333.7</td>\n",
       "      <td>1</td>\n",
       "      <td>NC_008054</td>\n",
       "      <td>fig|390333.7.rna.3</td>\n",
       "      <td>45152</td>\n",
       "      <td>323</td>\n",
       "      <td>1864998</td>\n",
       "      <td>tacgtaggtggcaagcgttgtccggatttattgggcgtaaagcgag...</td>\n",
       "      <td>0866a5becffaf041436b6ff85354142b</td>\n",
       "      <td>390333.7</td>\n",
       "      <td>Lactobacillus delbrueckii</td>\n",
       "    </tr>\n",
       "    <tr>\n",
       "      <th>50</th>\n",
       "      <td>390333.7</td>\n",
       "      <td>1</td>\n",
       "      <td>NC_008054</td>\n",
       "      <td>fig|390333.7.rna.57</td>\n",
       "      <td>1359991</td>\n",
       "      <td>323</td>\n",
       "      <td>1864998</td>\n",
       "      <td>tacgtaggtggcaagcgttgtccggatttattgggcgtaaagcgag...</td>\n",
       "      <td>851e565cc5f4f6c408567d985007051c</td>\n",
       "      <td>390333.7</td>\n",
       "      <td>Lactobacillus delbrueckii</td>\n",
       "    </tr>\n",
       "  </tbody>\n",
       "</table>\n",
       "</div>"
      ],
      "text/plain": [
       "      genome  n_contigs     contig               feature  16s_position  \\\n",
       "42  390333.7          1  NC_008054   fig|390333.7.rna.77       1543353   \n",
       "43  390333.7          1  NC_008054  fig|390333.7.rna.111       1787116   \n",
       "44  390333.7          1  NC_008054  fig|390333.7.rna.108       1577010   \n",
       "45  390333.7          1  NC_008054   fig|390333.7.rna.20        689128   \n",
       "46  390333.7          1  NC_008054   fig|390333.7.rna.65       1470659   \n",
       "47  390333.7          1  NC_008054   fig|390333.7.rna.27        806385   \n",
       "48  390333.7          1  NC_008054  fig|390333.7.rna.122       1794703   \n",
       "49  390333.7          1  NC_008054    fig|390333.7.rna.3         45152   \n",
       "50  390333.7          1  NC_008054   fig|390333.7.rna.57       1359991   \n",
       "\n",
       "    oor_position     size                                       16s_sequence  \\\n",
       "42           323  1864998  tacgtaggtggcaagcgttgtccggatttattgggcgtaaagcgag...   \n",
       "43           323  1864998  tacgtaggtggcaagcgttgtccggatttattgggcgtaaagcgag...   \n",
       "44           323  1864998  tacgtaggtggcaagcgttgtccggatttattgggcgtaaagcgag...   \n",
       "45           323  1864998  tacgtaggtggcaagcgttgtccggatttattgggcgtaaagcgag...   \n",
       "46           323  1864998  tacgtaggtggcaagcgttgtccggatttattgggcgtaaagcgag...   \n",
       "47           323  1864998  tacgtaggtggcaagcgttgtccggatttattgggcgtaaagcgag...   \n",
       "48           323  1864998  tacgtaggtggcaagcgttgtccggatttattgggcgtaaagcgag...   \n",
       "49           323  1864998  tacgtaggtggcaagcgttgtccggatttattgggcgtaaagcgag...   \n",
       "50           323  1864998  tacgtaggtggcaagcgttgtccggatttattgggcgtaaagcgag...   \n",
       "\n",
       "                                 md5 genome_id             genome.species  \n",
       "42  851e565cc5f4f6c408567d985007051c  390333.7  Lactobacillus delbrueckii  \n",
       "43  851e565cc5f4f6c408567d985007051c  390333.7  Lactobacillus delbrueckii  \n",
       "44  851e565cc5f4f6c408567d985007051c  390333.7  Lactobacillus delbrueckii  \n",
       "45  851e565cc5f4f6c408567d985007051c  390333.7  Lactobacillus delbrueckii  \n",
       "46  851e565cc5f4f6c408567d985007051c  390333.7  Lactobacillus delbrueckii  \n",
       "47  851e565cc5f4f6c408567d985007051c  390333.7  Lactobacillus delbrueckii  \n",
       "48  6abec7d3d493f954033da8097d590d1c  390333.7  Lactobacillus delbrueckii  \n",
       "49  0866a5becffaf041436b6ff85354142b  390333.7  Lactobacillus delbrueckii  \n",
       "50  851e565cc5f4f6c408567d985007051c  390333.7  Lactobacillus delbrueckii  "
      ]
     },
     "execution_count": 77,
     "metadata": {},
     "output_type": "execute_result"
    }
   ],
   "source": [
    "species_merged[species_merged[\"genome.species\"] == \"Lactobacillus delbrueckii\"]\n",
    "\n",
    "# 9 RNAs matches rrnDB entry, at least"
   ]
  },
  {
   "cell_type": "code",
   "execution_count": 89,
   "metadata": {},
   "outputs": [
    {
     "name": "stdout",
     "output_type": "stream",
     "text": [
      "TACGTAGGTGGCAAGCGTTGTCCGGATTTATTGGGCGTAAAGCGAGCGCAGGCGGAATGATAAGTCTGATGTGAAAGCCCACGGCTCAACCGTGGAACTGCATCGGAAACTGTCATTCTTGAGTGCAGAAGAGGAGAGTGGAATTCCATGTGTAGCGGTGGAATGCGTAGATATATGGAAGAACACCAGTGGCGAAGGCGGCTCTCTGGTCTGCAACTGACGCTGAGGCTCGAAAGCATGGGTAGCGAACAGG\n",
      "TACGTAGGTGGCAAGCGTTGTCCGGATTTATTGGGCGTAAAGCGAGCGCAGGCGGAATGATAAGTCTGATGTGAAAGCCCACGGCTCAACCGTGGAACTGCATCGGAAACTGTCATTCTTGAGTGCAGAAGAGGAGAGTGGAATTCCATGTGTAGCGGTGGAATGCGTAGATATATGGAAGAACACCAGTGGCGAAGGCGGCTCTCTGGTCTGCAACTGACGCTGAGGCTCGAAAGCATGGGTAGCGAACAGG\n",
      "TACGTAGGTGGCAAGCGTTGTCCGGATTTATTGGGCGTAAAGCGAGCGCAGGCGGAATGATAAGTCTGATGTGAAAGCCCACGGCTCAACCGTGGAACTGCATCGGAAACTGTCATTCTTGAGTGCAGAAGAGGAGAGTGGAATTCCATGTGTAGCGGTGGAATGCGTAGATATATGGAAGAACACCAGTGGCGAAGGCGGCTCTCTGGTCTGCAACTGACGCTGAGGCTCGAAAGCATGGGTAGCGAACAGG\n",
      "TACGTAGGTGGCAAGCGTTGTCCGGATTTATTGGGCGTAAAGCGAGCGCAGGCGGAATGATAAGTCTGATGTGAAAGCCCACGGCTCAACCGTGGAACTGCATCGGAAACTGTCATTCTTGAGTGCAGAAGAGGAGAGTGGAATTCCATGTGTAGCGGTGGAATGCGTAGATATATGGAAGAACACCAGTGGCGAAGGCGGCTCTCTGGTCTGCAACTGACGCTGAGGCTCGAAAGCATGGGTAGCGAACAGG\n",
      "TACGTAGGTGGCAAGCGTTGTCCGGATTTATTGGGCGTAAAGCGAGCGCAGGCGGAATGATAAGTCTGATGTGAAAGCCCACGGCTCAACCGTGGAACTGCATCGGAAACTGTCATTCTTGAGTGCAGAAGAGGAGAGTGGAATTCCATGTGTAGCGGTGGAATGCGTAGATATATGGAAGAACACCAGTGGCGAAGGCGGCTCTCTGGTCTGCAACTGACGCTGAGGCTCGAAAGCATGGGTAGCGAACAGG\n",
      "TACGTAGGTGGCAAGCGTTGTCCGGATTTATTGGGCGTAAAGCGAGCGCAGGCGGAATGATAAGTCTGATGTGAAAGCCCACGGCTCAACCGTGGAACTGCATCGGAAACTGTCATTCTTGAGTGCAGAAGAGGAGAGTGGAATTCCATGTGTAGCGGTGGAATGCGTAGATATATGGAAGAACACCAGTGGCGAAGGCGGCTCTCTGGTCTGCAACTGACGCTGAGGCTCGAAAGCATGGGTAGCGAACAGG\n",
      "TACGTAGGTGGCAAGCGTTGTCCGGATTTATTGGGCGTAAAGCGAGCGCAGGCGGAATGATAAGTTTGATGTGAAAGCCCACGGCTCAACCGTGGAACTGCATCGGAAACTGTCATTCTTGAGTGCAGAAGAGGAGAGTGGAATTCCATGTGTAGCGGTGGAATGCGTAGATATATGGAAGAACACCAGTGGCGAAGGCGGCTCTCTGGTCTGCAACTGACGCTGAGGCTCGAAAGCATGGGTAGCGAACAGG\n",
      "TACGTAGGTGGCAAGCGTTGTCCGGATTTATTGGGCGTAAAGCGAGCGCAGGCGGAATGATAAGTCTGATGTGAAAGCCCACGGCTCAACCGTGGAACTGCATCGGAAACTGTCATTCTTGAGTGCAGAAGAGGAGAGTGGAATTCCATGTGTAGCGGTGTAATGCGTAGATATATGGAAGAACACCAGTGGCGAAGGCGGCTCTCTGGTCTGCAACTGACGCTGAGGCTCGAAAGCATGGGTAGCGAACAGG\n",
      "TACGTAGGTGGCAAGCGTTGTCCGGATTTATTGGGCGTAAAGCGAGCGCAGGCGGAATGATAAGTCTGATGTGAAAGCCCACGGCTCAACCGTGGAACTGCATCGGAAACTGTCATTCTTGAGTGCAGAAGAGGAGAGTGGAATTCCATGTGTAGCGGTGGAATGCGTAGATATATGGAAGAACACCAGTGGCGAAGGCGGCTCTCTGGTCTGCAACTGACGCTGAGGCTCGAAAGCATGGGTAGCGAACAGG\n"
     ]
    }
   ],
   "source": [
    "l_deb_seqs = species_merged[species_merged[\"genome.species\"] == \"Lactobacillus delbrueckii\"][\"16s_sequence\"]\n",
    "l_deb_seqs = list(l_deb_seqs)\n",
    "\n",
    "for seq in l_deb_seqs:\n",
    "    print(seq.upper())"
   ]
  },
  {
   "cell_type": "code",
   "execution_count": 97,
   "metadata": {},
   "outputs": [
    {
     "name": "stderr",
     "output_type": "stream",
     "text": [
      "3902830it [00:34, 113207.82it/s]\n"
     ]
    }
   ],
   "source": [
    "from tqdm import tqdm\n",
    "\n",
    "synth_reads = {}\n",
    "\n",
    "last_line = \"\"\n",
    "for line in tqdm(open(\"/home/phil/aptr/experiments/synthetic/aptr_c9d4a42d-f0b4-4cc4-9395-d92396836c8c/all.fasta\")):\n",
    "    if line.startswith(\">\"):\n",
    "        last_line = line\n",
    "    \n",
    "    seq = line.strip().lower()\n",
    "\n",
    "    elif np.any([x.__contains__(seq) or seq.__contains__(x) for x in l_deb_seqs]):\n",
    "            synth_reads[line] = last_line.split(\";size=\")[1]\n",
    "    \n",
    "    elif np.any(line.rstrip().lower().__contains__(x) for x in l_deb_seqs):\n",
    "        synth_reads[line] = last_line.split(\";size=\")[1]\n",
    "\n",
    "print(synth_reads)"
   ]
  },
  {
   "cell_type": "code",
   "execution_count": 87,
   "metadata": {},
   "outputs": [
    {
     "data": {
      "text/plain": [
       "True"
      ]
     },
     "execution_count": 87,
     "metadata": {},
     "output_type": "execute_result"
    }
   ],
   "source": [
    "l_deb_seqs.iloc[0] in list(l_deb_seqs)"
   ]
  },
  {
   "cell_type": "code",
   "execution_count": null,
   "metadata": {},
   "outputs": [],
   "source": []
  }
 ],
 "metadata": {
  "kernelspec": {
   "display_name": "Python 3.6.13 ('aPTR')",
   "language": "python",
   "name": "python3"
  },
  "language_info": {
   "codemirror_mode": {
    "name": "ipython",
    "version": 3
   },
   "file_extension": ".py",
   "mimetype": "text/x-python",
   "name": "python",
   "nbconvert_exporter": "python",
   "pygments_lexer": "ipython3",
   "version": "3.6.13"
  },
  "orig_nbformat": 4,
  "vscode": {
   "interpreter": {
    "hash": "b5e7721d70837d18c2125962d4eab5e03d8a00737ba9cf793193ecf86ed8e5a0"
   }
  }
 },
 "nbformat": 4,
 "nbformat_minor": 2
}
