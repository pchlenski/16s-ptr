{
 "cells": [
  {
   "cell_type": "code",
   "execution_count": 1,
   "metadata": {},
   "outputs": [],
   "source": [
    "%load_ext autoreload\n",
    "%autoreload 2\n",
    "\n",
    "import aptr\n",
    "import numpy as np\n",
    "import pandas as pd\n",
    "import matplotlib.pyplot as plt\n",
    "\n",
    "import os"
   ]
  },
  {
   "cell_type": "code",
   "execution_count": 10,
   "metadata": {},
   "outputs": [
    {
     "name": "stdout",
     "output_type": "stream",
     "text": [
      "0.9992494370778083 sequences remain after trimming\n",
      "0.6346009507130348 sequences remain after filtering\n",
      "0.9992494370778083 sequences remain after trimming\n",
      "0.6346009507130348 sequences remain after filtering\n",
      "0.9992494370778083 sequences remain after trimming\n",
      "0.6346009507130348 sequences remain after filtering\n"
     ]
    }
   ],
   "source": [
    "# Generate synthetic data\n",
    "dd = \"../../experiments/synthetic/february2023\"\n",
    "\n",
    "for multiplier in range(-3,3,1):\n",
    "    try:\n",
    "        os.mkdir(f\"{dd}/fastq_{multiplier}\")\n",
    "    except FileExistsError:\n",
    "        pass\n",
    "    abundances, ptrs, otus = aptr.simulation_new.make_tables(\n",
    "        n_genomes=2,\n",
    "        n_samples=10,\n",
    "        db=aptr.RnaDB(),\n",
    "        sparsity=0,\n",
    "        multiplier=10**multiplier,\n",
    "        fasta_dir=\"../../data/seqs\",\n",
    "        fasta_ext=\".fna\",\n",
    "        fastq_out_path=f\"{dd}/fastq_{multiplier}\"\n",
    "    )"
   ]
  },
  {
   "cell_type": "code",
   "execution_count": null,
   "metadata": {},
   "outputs": [],
   "source": [
    "aptr.sim"
   ]
  }
 ],
 "metadata": {
  "kernelspec": {
   "display_name": "aPTR",
   "language": "python",
   "name": "python3"
  },
  "language_info": {
   "codemirror_mode": {
    "name": "ipython",
    "version": 3
   },
   "file_extension": ".py",
   "mimetype": "text/x-python",
   "name": "python",
   "nbconvert_exporter": "python",
   "pygments_lexer": "ipython3",
   "version": "3.6.13"
  },
  "orig_nbformat": 4,
  "vscode": {
   "interpreter": {
    "hash": "b5e7721d70837d18c2125962d4eab5e03d8a00737ba9cf793193ecf86ed8e5a0"
   }
  }
 },
 "nbformat": 4,
 "nbformat_minor": 2
}
