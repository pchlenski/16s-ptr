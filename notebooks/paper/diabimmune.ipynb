{
 "cells": [
  {
   "cell_type": "code",
   "execution_count": 1,
   "metadata": {},
   "outputs": [],
   "source": [
    "# Exploring DIABIMMUNE data\n",
    "%load_ext autoreload\n",
    "%autoreload 2\n",
    "\n",
    "import pandas as pd\n",
    "import numpy as np\n",
    "import matplotlib.pyplot as plt\n",
    "\n",
    "import os\n",
    "from tqdm import tqdm"
   ]
  },
  {
   "cell_type": "code",
   "execution_count": 2,
   "metadata": {},
   "outputs": [
    {
     "data": {
      "text/html": [
       "<div>\n",
       "<style scoped>\n",
       "    .dataframe tbody tr th:only-of-type {\n",
       "        vertical-align: middle;\n",
       "    }\n",
       "\n",
       "    .dataframe tbody tr th {\n",
       "        vertical-align: top;\n",
       "    }\n",
       "\n",
       "    .dataframe thead th {\n",
       "        text-align: right;\n",
       "    }\n",
       "</style>\n",
       "<table border=\"1\" class=\"dataframe\">\n",
       "  <thead>\n",
       "    <tr style=\"text-align: right;\">\n",
       "      <th></th>\n",
       "      <th>subjectID</th>\n",
       "      <th>country</th>\n",
       "      <th>sampleID</th>\n",
       "      <th>age_at_collection</th>\n",
       "      <th>cohort</th>\n",
       "      <th>gid_wgs</th>\n",
       "      <th>gid_16s</th>\n",
       "    </tr>\n",
       "  </thead>\n",
       "  <tbody>\n",
       "    <tr>\n",
       "      <th>0</th>\n",
       "      <td>E000823</td>\n",
       "      <td>FIN</td>\n",
       "      <td>3000150</td>\n",
       "      <td>56</td>\n",
       "      <td>abx</td>\n",
       "      <td>NaN</td>\n",
       "      <td>G74397</td>\n",
       "    </tr>\n",
       "    <tr>\n",
       "      <th>1</th>\n",
       "      <td>E000823</td>\n",
       "      <td>FIN</td>\n",
       "      <td>3102720</td>\n",
       "      <td>259</td>\n",
       "      <td>abx</td>\n",
       "      <td>NaN</td>\n",
       "      <td>G69867</td>\n",
       "    </tr>\n",
       "    <tr>\n",
       "      <th>2</th>\n",
       "      <td>E000823</td>\n",
       "      <td>FIN</td>\n",
       "      <td>3114328</td>\n",
       "      <td>760</td>\n",
       "      <td>abx</td>\n",
       "      <td>NaN</td>\n",
       "      <td>G74423</td>\n",
       "    </tr>\n",
       "    <tr>\n",
       "      <th>3</th>\n",
       "      <td>E000823</td>\n",
       "      <td>FIN</td>\n",
       "      <td>3106240</td>\n",
       "      <td>511</td>\n",
       "      <td>abx</td>\n",
       "      <td>NaN</td>\n",
       "      <td>G74306</td>\n",
       "    </tr>\n",
       "    <tr>\n",
       "      <th>4</th>\n",
       "      <td>E000823</td>\n",
       "      <td>FIN</td>\n",
       "      <td>3000042</td>\n",
       "      <td>151</td>\n",
       "      <td>abx</td>\n",
       "      <td>NaN</td>\n",
       "      <td>G69730</td>\n",
       "    </tr>\n",
       "  </tbody>\n",
       "</table>\n",
       "</div>"
      ],
      "text/plain": [
       "  subjectID country  sampleID  age_at_collection cohort gid_wgs gid_16s\n",
       "0   E000823     FIN   3000150                 56    abx     NaN  G74397\n",
       "1   E000823     FIN   3102720                259    abx     NaN  G69867\n",
       "2   E000823     FIN   3114328                760    abx     NaN  G74423\n",
       "3   E000823     FIN   3106240                511    abx     NaN  G74306\n",
       "4   E000823     FIN   3000042                151    abx     NaN  G69730"
      ]
     },
     "execution_count": 2,
     "metadata": {},
     "output_type": "execute_result"
    }
   ],
   "source": [
    "# Get rdata from internet: \n",
    "# result = pyreadr.read_r('data/diabimmune.rda')\n",
    "\n",
    "diabimmune_metadata = pd.read_table(\"./diabimmune.tsv\")\n",
    "diabimmune_metadata.head()"
   ]
  },
  {
   "cell_type": "code",
   "execution_count": 3,
   "metadata": {},
   "outputs": [
    {
     "name": "stdout",
     "output_type": "stream",
     "text": [
      "30.128396536279485\n",
      "1009\n"
     ]
    }
   ],
   "source": [
    "diabimmune_both = diabimmune_metadata.dropna()\n",
    "print(len(diabimmune_both) / len(diabimmune_metadata) * 100) # 30% of the data is available\n",
    "print(len(diabimmune_both))"
   ]
  },
  {
   "cell_type": "code",
   "execution_count": 4,
   "metadata": {},
   "outputs": [
    {
     "name": "stdout",
     "output_type": "stream",
     "text": [
      "257\n",
      "3.9260700389105057\n"
     ]
    }
   ],
   "source": [
    "# How many distinct subjects?\n",
    "n_subjects = len(diabimmune_both['subjectID'].unique())\n",
    "print(n_subjects)\n",
    "print(len(diabimmune_both) / n_subjects) # 4 samples per subject, on average"
   ]
  },
  {
   "cell_type": "code",
   "execution_count": 8,
   "metadata": {},
   "outputs": [
    {
     "name": "stdout",
     "output_type": "stream",
     "text": [
      "zsh:1: no matches found: /home/phil/DATA/diabimmune/reads/G74454*\n",
      "zsh:1: no matches found: /home/phil/DATA/diabimmune/reads/G69809*\n",
      "zsh:1: no matches found: /home/phil/DATA/diabimmune/reads/G68498*\n",
      "zsh:1: no matches found: /home/phil/DATA/diabimmune/reads/G36025*\n",
      "zsh:1: no matches found: /home/phil/DATA/diabimmune/reads/G36451*\n",
      "zsh:1: no matches found: /home/phil/DATA/diabimmune/reads/G35881*\n",
      "zsh:1: no matches found: /home/phil/DATA/diabimmune/reads/G35867*\n",
      "zsh:1: no matches found: /home/phil/DATA/diabimmune/reads/G69741*\n",
      "zsh:1: no matches found: /home/phil/DATA/diabimmune/reads/G68204*\n",
      "zsh:1: no matches found: /home/phil/DATA/diabimmune/reads/G68224*\n",
      "zsh:1: no matches found: /home/phil/DATA/diabimmune/reads/G75872*\n",
      "zsh:1: no matches found: /home/phil/DATA/diabimmune/reads/G75855*\n",
      "zsh:1: no matches found: /home/phil/DATA/diabimmune/reads/G73882*\n",
      "zsh:1: no matches found: /home/phil/DATA/diabimmune/reads/G75694*\n",
      "zsh:1: no matches found: /home/phil/DATA/diabimmune/reads/G75788*\n",
      "zsh:1: no matches found: /home/phil/DATA/diabimmune/reads/G66253*\n"
     ]
    },
    {
     "ename": "UnboundLocalError",
     "evalue": "local variable 'child' referenced before assignment",
     "output_type": "error",
     "traceback": [
      "\u001b[0;31m---------------------------------------------------------------------------\u001b[0m",
      "\u001b[0;31mKeyboardInterrupt\u001b[0m                         Traceback (most recent call last)",
      "\u001b[0;32m~/.local/lib/python3.6/site-packages/IPython/utils/_process_posix.py\u001b[0m in \u001b[0;36msystem\u001b[0;34m(self, cmd)\u001b[0m\n\u001b[1;32m    156\u001b[0m             \u001b[0;32melse\u001b[0m\u001b[0;34m:\u001b[0m\u001b[0;34m\u001b[0m\u001b[0;34m\u001b[0m\u001b[0m\n\u001b[0;32m--> 157\u001b[0;31m                 \u001b[0mchild\u001b[0m \u001b[0;34m=\u001b[0m \u001b[0mpexpect\u001b[0m\u001b[0;34m.\u001b[0m\u001b[0mspawn\u001b[0m\u001b[0;34m(\u001b[0m\u001b[0mself\u001b[0m\u001b[0;34m.\u001b[0m\u001b[0msh\u001b[0m\u001b[0;34m,\u001b[0m \u001b[0margs\u001b[0m\u001b[0;34m=\u001b[0m\u001b[0;34m[\u001b[0m\u001b[0;34m'-c'\u001b[0m\u001b[0;34m,\u001b[0m \u001b[0mcmd\u001b[0m\u001b[0;34m]\u001b[0m\u001b[0;34m)\u001b[0m  \u001b[0;31m# Vanilla Pexpect\u001b[0m\u001b[0;34m\u001b[0m\u001b[0;34m\u001b[0m\u001b[0m\n\u001b[0m\u001b[1;32m    158\u001b[0m             \u001b[0mflush\u001b[0m \u001b[0;34m=\u001b[0m \u001b[0msys\u001b[0m\u001b[0;34m.\u001b[0m\u001b[0mstdout\u001b[0m\u001b[0;34m.\u001b[0m\u001b[0mflush\u001b[0m\u001b[0;34m\u001b[0m\u001b[0;34m\u001b[0m\u001b[0m\n",
      "\u001b[0;32m~/.local/lib/python3.6/site-packages/pexpect/pty_spawn.py\u001b[0m in \u001b[0;36m__init__\u001b[0;34m(self, command, args, timeout, maxread, searchwindowsize, logfile, cwd, env, ignore_sighup, echo, preexec_fn, encoding, codec_errors, dimensions, use_poll)\u001b[0m\n\u001b[1;32m    204\u001b[0m         \u001b[0;32melse\u001b[0m\u001b[0;34m:\u001b[0m\u001b[0;34m\u001b[0m\u001b[0;34m\u001b[0m\u001b[0m\n\u001b[0;32m--> 205\u001b[0;31m             \u001b[0mself\u001b[0m\u001b[0;34m.\u001b[0m\u001b[0m_spawn\u001b[0m\u001b[0;34m(\u001b[0m\u001b[0mcommand\u001b[0m\u001b[0;34m,\u001b[0m \u001b[0margs\u001b[0m\u001b[0;34m,\u001b[0m \u001b[0mpreexec_fn\u001b[0m\u001b[0;34m,\u001b[0m \u001b[0mdimensions\u001b[0m\u001b[0;34m)\u001b[0m\u001b[0;34m\u001b[0m\u001b[0;34m\u001b[0m\u001b[0m\n\u001b[0m\u001b[1;32m    206\u001b[0m         \u001b[0mself\u001b[0m\u001b[0;34m.\u001b[0m\u001b[0muse_poll\u001b[0m \u001b[0;34m=\u001b[0m \u001b[0muse_poll\u001b[0m\u001b[0;34m\u001b[0m\u001b[0;34m\u001b[0m\u001b[0m\n",
      "\u001b[0;32m~/.local/lib/python3.6/site-packages/pexpect/pty_spawn.py\u001b[0m in \u001b[0;36m_spawn\u001b[0;34m(self, command, args, preexec_fn, dimensions)\u001b[0m\n\u001b[1;32m    303\u001b[0m         self.ptyproc = self._spawnpty(self.args, env=self.env,\n\u001b[0;32m--> 304\u001b[0;31m                                      cwd=self.cwd, **kwargs)\n\u001b[0m\u001b[1;32m    305\u001b[0m \u001b[0;34m\u001b[0m\u001b[0m\n",
      "\u001b[0;32m~/.local/lib/python3.6/site-packages/pexpect/pty_spawn.py\u001b[0m in \u001b[0;36m_spawnpty\u001b[0;34m(self, args, **kwargs)\u001b[0m\n\u001b[1;32m    314\u001b[0m         \u001b[0;34m'''Spawn a pty and return an instance of PtyProcess.'''\u001b[0m\u001b[0;34m\u001b[0m\u001b[0;34m\u001b[0m\u001b[0m\n\u001b[0;32m--> 315\u001b[0;31m         \u001b[0;32mreturn\u001b[0m \u001b[0mptyprocess\u001b[0m\u001b[0;34m.\u001b[0m\u001b[0mPtyProcess\u001b[0m\u001b[0;34m.\u001b[0m\u001b[0mspawn\u001b[0m\u001b[0;34m(\u001b[0m\u001b[0margs\u001b[0m\u001b[0;34m,\u001b[0m \u001b[0;34m**\u001b[0m\u001b[0mkwargs\u001b[0m\u001b[0;34m)\u001b[0m\u001b[0;34m\u001b[0m\u001b[0;34m\u001b[0m\u001b[0m\n\u001b[0m\u001b[1;32m    316\u001b[0m \u001b[0;34m\u001b[0m\u001b[0m\n",
      "\u001b[0;32m~/.local/lib/python3.6/site-packages/ptyprocess/ptyprocess.py\u001b[0m in \u001b[0;36mspawn\u001b[0;34m(cls, argv, cwd, env, echo, preexec_fn, dimensions, pass_fds)\u001b[0m\n\u001b[1;32m    314\u001b[0m         \u001b[0mos\u001b[0m\u001b[0;34m.\u001b[0m\u001b[0mclose\u001b[0m\u001b[0;34m(\u001b[0m\u001b[0mexec_err_pipe_write\u001b[0m\u001b[0;34m)\u001b[0m\u001b[0;34m\u001b[0m\u001b[0;34m\u001b[0m\u001b[0m\n\u001b[0;32m--> 315\u001b[0;31m         \u001b[0mexec_err_data\u001b[0m \u001b[0;34m=\u001b[0m \u001b[0mos\u001b[0m\u001b[0;34m.\u001b[0m\u001b[0mread\u001b[0m\u001b[0;34m(\u001b[0m\u001b[0mexec_err_pipe_read\u001b[0m\u001b[0;34m,\u001b[0m \u001b[0;36m4096\u001b[0m\u001b[0;34m)\u001b[0m\u001b[0;34m\u001b[0m\u001b[0;34m\u001b[0m\u001b[0m\n\u001b[0m\u001b[1;32m    316\u001b[0m         \u001b[0mos\u001b[0m\u001b[0;34m.\u001b[0m\u001b[0mclose\u001b[0m\u001b[0;34m(\u001b[0m\u001b[0mexec_err_pipe_read\u001b[0m\u001b[0;34m)\u001b[0m\u001b[0;34m\u001b[0m\u001b[0;34m\u001b[0m\u001b[0m\n",
      "\u001b[0;31mKeyboardInterrupt\u001b[0m: ",
      "\nDuring handling of the above exception, another exception occurred:\n",
      "\u001b[0;31mUnboundLocalError\u001b[0m                         Traceback (most recent call last)",
      "\u001b[0;32m<ipython-input-8-59a8855e95e5>\u001b[0m in \u001b[0;36m<module>\u001b[0;34m\u001b[0m\n\u001b[1;32m      7\u001b[0m \u001b[0;34m\u001b[0m\u001b[0m\n\u001b[1;32m      8\u001b[0m \u001b[0;32mfor\u001b[0m \u001b[0mi\u001b[0m \u001b[0;32min\u001b[0m \u001b[0mrange\u001b[0m\u001b[0;34m(\u001b[0m\u001b[0mlen\u001b[0m\u001b[0;34m(\u001b[0m\u001b[0mdiabimmune_both\u001b[0m\u001b[0;34m)\u001b[0m\u001b[0;34m)\u001b[0m\u001b[0;34m:\u001b[0m\u001b[0;34m\u001b[0m\u001b[0;34m\u001b[0m\u001b[0m\n\u001b[0;32m----> 9\u001b[0;31m     \u001b[0mget_ipython\u001b[0m\u001b[0;34m(\u001b[0m\u001b[0;34m)\u001b[0m\u001b[0;34m.\u001b[0m\u001b[0msystem\u001b[0m\u001b[0;34m(\u001b[0m\u001b[0;34m\" mv ~/DATA/diabimmune/reads/{diabimmune_both.iloc[i]['gid_16s']}* ~/DATA/diabimmune/16s_shared/reads/\"\u001b[0m\u001b[0;34m)\u001b[0m\u001b[0;34m\u001b[0m\u001b[0;34m\u001b[0m\u001b[0m\n\u001b[0m",
      "\u001b[0;32m~/.local/lib/python3.6/site-packages/ipykernel/zmqshell.py\u001b[0m in \u001b[0;36msystem_piped\u001b[0;34m(self, cmd)\u001b[0m\n\u001b[1;32m    648\u001b[0m                 \u001b[0mself\u001b[0m\u001b[0;34m.\u001b[0m\u001b[0muser_ns\u001b[0m\u001b[0;34m[\u001b[0m\u001b[0;34m'_exit_code'\u001b[0m\u001b[0;34m]\u001b[0m \u001b[0;34m=\u001b[0m \u001b[0msystem\u001b[0m\u001b[0;34m(\u001b[0m\u001b[0mcmd\u001b[0m\u001b[0;34m)\u001b[0m\u001b[0;34m\u001b[0m\u001b[0;34m\u001b[0m\u001b[0m\n\u001b[1;32m    649\u001b[0m         \u001b[0;32melse\u001b[0m\u001b[0;34m:\u001b[0m\u001b[0;34m\u001b[0m\u001b[0;34m\u001b[0m\u001b[0m\n\u001b[0;32m--> 650\u001b[0;31m             \u001b[0mself\u001b[0m\u001b[0;34m.\u001b[0m\u001b[0muser_ns\u001b[0m\u001b[0;34m[\u001b[0m\u001b[0;34m'_exit_code'\u001b[0m\u001b[0;34m]\u001b[0m \u001b[0;34m=\u001b[0m \u001b[0msystem\u001b[0m\u001b[0;34m(\u001b[0m\u001b[0mself\u001b[0m\u001b[0;34m.\u001b[0m\u001b[0mvar_expand\u001b[0m\u001b[0;34m(\u001b[0m\u001b[0mcmd\u001b[0m\u001b[0;34m,\u001b[0m \u001b[0mdepth\u001b[0m\u001b[0;34m=\u001b[0m\u001b[0;36m1\u001b[0m\u001b[0;34m)\u001b[0m\u001b[0;34m)\u001b[0m\u001b[0;34m\u001b[0m\u001b[0;34m\u001b[0m\u001b[0m\n\u001b[0m\u001b[1;32m    651\u001b[0m \u001b[0;34m\u001b[0m\u001b[0m\n\u001b[1;32m    652\u001b[0m     \u001b[0;31m# Ensure new system_piped implementation is used\u001b[0m\u001b[0;34m\u001b[0m\u001b[0;34m\u001b[0m\u001b[0;34m\u001b[0m\u001b[0m\n",
      "\u001b[0;32m~/.local/lib/python3.6/site-packages/IPython/utils/_process_posix.py\u001b[0m in \u001b[0;36msystem\u001b[0;34m(self, cmd)\u001b[0m\n\u001b[1;32m    171\u001b[0m             \u001b[0;31m# (the character is known as ETX for 'End of Text', see\u001b[0m\u001b[0;34m\u001b[0m\u001b[0;34m\u001b[0m\u001b[0;34m\u001b[0m\u001b[0m\n\u001b[1;32m    172\u001b[0m             \u001b[0;31m# curses.ascii.ETX).\u001b[0m\u001b[0;34m\u001b[0m\u001b[0;34m\u001b[0m\u001b[0;34m\u001b[0m\u001b[0m\n\u001b[0;32m--> 173\u001b[0;31m             \u001b[0mchild\u001b[0m\u001b[0;34m.\u001b[0m\u001b[0msendline\u001b[0m\u001b[0;34m(\u001b[0m\u001b[0mchr\u001b[0m\u001b[0;34m(\u001b[0m\u001b[0;36m3\u001b[0m\u001b[0;34m)\u001b[0m\u001b[0;34m)\u001b[0m\u001b[0;34m\u001b[0m\u001b[0;34m\u001b[0m\u001b[0m\n\u001b[0m\u001b[1;32m    174\u001b[0m             \u001b[0;31m# Read and print any more output the program might produce on its\u001b[0m\u001b[0;34m\u001b[0m\u001b[0;34m\u001b[0m\u001b[0;34m\u001b[0m\u001b[0m\n\u001b[1;32m    175\u001b[0m             \u001b[0;31m# way out.\u001b[0m\u001b[0;34m\u001b[0m\u001b[0;34m\u001b[0m\u001b[0;34m\u001b[0m\u001b[0m\n",
      "\u001b[0;31mUnboundLocalError\u001b[0m: local variable 'child' referenced before assignment"
     ]
    }
   ],
   "source": [
    "# At this point, I have downloaded all of the 16S reads. They are in the dir\n",
    "# ~/DATA/diabimmune/reads\n",
    "\n",
    "# I will now move these files to ~/DATA/diabimmune/16s_shared/reads\n",
    "\n",
    "! mkdir -p ~/DATA/diabimmune/16s_shared/reads\n",
    "\n",
    "for i in range(len(diabimmune_both)):\n",
    "    ! mv ~/DATA/diabimmune/reads/{diabimmune_both.iloc[i]['gid_16s']}* ~/DATA/diabimmune/16s_shared/reads/"
   ]
  },
  {
   "cell_type": "code",
   "execution_count": 6,
   "metadata": {},
   "outputs": [
    {
     "name": "stderr",
     "output_type": "stream",
     "text": [
      "  0%|          | 0/1009 [00:00<?, ?it/s]"
     ]
    },
    {
     "name": "stdout",
     "output_type": "stream",
     "text": [
      "--2023-02-12 16:33:50--  https://diabimmune.broadinstitute.org/diabimmune/data/20/G80124_R1.fastq.gz\n",
      "Resolving diabimmune.broadinstitute.org (diabimmune.broadinstitute.org)... 69.173.93.60\n",
      "Connecting to diabimmune.broadinstitute.org (diabimmune.broadinstitute.org)|69.173.93.60|:443... connected.\n",
      "HTTP request sent, awaiting response... 200 OK\n",
      "Length: 711032697 (678M) [application/x-gzip]\n",
      "Saving to: ‘G80124_R1.fastq.gz’\n",
      "\n",
      "G80124_R1.fastq.gz  100%[===================>] 678.09M  19.2MB/s    in 35s     \n",
      "\n",
      "2023-02-12 16:34:26 (19.2 MB/s) - ‘G80124_R1.fastq.gz’ saved [711032697/711032697]\n",
      "\n",
      "--2023-02-12 16:34:26--  https://diabimmune.broadinstitute.org/diabimmune/data/20/G80124_R2.fastq.gz\n",
      "Resolving diabimmune.broadinstitute.org (diabimmune.broadinstitute.org)... 69.173.93.60\n",
      "Connecting to diabimmune.broadinstitute.org (diabimmune.broadinstitute.org)|69.173.93.60|:443... connected.\n",
      "HTTP request sent, awaiting response... 200 OK\n",
      "Length: 689083198 (657M) [application/x-gzip]\n",
      "Saving to: ‘G80124_R2.fastq.gz’\n",
      "\n",
      "G80124_R2.fastq.gz  100%[===================>] 657.16M  19.2MB/s    in 34s     \n",
      "\n",
      "2023-02-12 16:35:01 (19.1 MB/s) - ‘G80124_R2.fastq.gz’ saved [689083198/689083198]\n",
      "\n",
      "--2023-02-12 16:35:01--  https://diabimmune.broadinstitute.org/diabimmune/data/20/G80124_unpaired.fastq.gz\n",
      "Resolving diabimmune.broadinstitute.org (diabimmune.broadinstitute.org)... 69.173.93.60\n",
      "Connecting to diabimmune.broadinstitute.org (diabimmune.broadinstitute.org)|69.173.93.60|:443... connected.\n",
      "HTTP request sent, awaiting response... 404 Not Found\n",
      "2023-02-12 16:35:01 ERROR 404: Not Found.\n",
      "\n"
     ]
    },
    {
     "name": "stderr",
     "output_type": "stream",
     "text": [
      "  0%|          | 1/1009 [01:19<22:13:00, 79.35s/it]"
     ]
    },
    {
     "name": "stdout",
     "output_type": "stream",
     "text": [
      "--2023-02-12 16:35:10--  https://diabimmune.broadinstitute.org/diabimmune/data/20/G79049_R1.fastq.gz\n",
      "Resolving diabimmune.broadinstitute.org (diabimmune.broadinstitute.org)... 69.173.93.60\n",
      "Connecting to diabimmune.broadinstitute.org (diabimmune.broadinstitute.org)|69.173.93.60|:443... connected.\n",
      "HTTP request sent, awaiting response... 200 OK\n",
      "Length: 139590801 (133M) [application/x-gzip]\n",
      "Saving to: ‘G79049_R1.fastq.gz’\n",
      "\n",
      "G79049_R1.fastq.gz  100%[===================>] 133.12M  19.2MB/s    in 7.0s    \n",
      "\n",
      "2023-02-12 16:35:17 (19.1 MB/s) - ‘G79049_R1.fastq.gz’ saved [139590801/139590801]\n",
      "\n",
      "--2023-02-12 16:35:17--  https://diabimmune.broadinstitute.org/diabimmune/data/20/G79049_R2.fastq.gz\n",
      "Resolving diabimmune.broadinstitute.org (diabimmune.broadinstitute.org)... 69.173.93.60\n",
      "Connecting to diabimmune.broadinstitute.org (diabimmune.broadinstitute.org)|69.173.93.60|:443... connected.\n",
      "HTTP request sent, awaiting response... 200 OK\n",
      "Length: 132976352 (127M) [application/x-gzip]\n",
      "Saving to: ‘G79049_R2.fastq.gz’\n",
      "\n",
      "G79049_R2.fastq.gz  100%[===================>] 126.82M  19.2MB/s    in 6.6s    \n",
      "\n",
      "2023-02-12 16:35:24 (19.1 MB/s) - ‘G79049_R2.fastq.gz’ saved [132976352/132976352]\n",
      "\n",
      "--2023-02-12 16:35:25--  https://diabimmune.broadinstitute.org/diabimmune/data/20/G79049_unpaired.fastq.gz\n",
      "Resolving diabimmune.broadinstitute.org (diabimmune.broadinstitute.org)... 69.173.93.60\n",
      "Connecting to diabimmune.broadinstitute.org (diabimmune.broadinstitute.org)|69.173.93.60|:443... connected.\n",
      "HTTP request sent, awaiting response... 404 Not Found\n",
      "2023-02-12 16:35:25 ERROR 404: Not Found.\n",
      "\n"
     ]
    },
    {
     "name": "stderr",
     "output_type": "stream",
     "text": [
      "  0%|          | 2/1009 [01:36<12:01:32, 42.99s/it]"
     ]
    },
    {
     "name": "stdout",
     "output_type": "stream",
     "text": [
      "--2023-02-12 16:35:27--  https://diabimmune.broadinstitute.org/diabimmune/data/20/G78999_R1.fastq.gz\n",
      "Resolving diabimmune.broadinstitute.org (diabimmune.broadinstitute.org)... 69.173.93.60\n",
      "Connecting to diabimmune.broadinstitute.org (diabimmune.broadinstitute.org)|69.173.93.60|:443... connected.\n",
      "HTTP request sent, awaiting response... 200 OK\n",
      "Length: 585215567 (558M) [application/x-gzip]\n",
      "Saving to: ‘G78999_R1.fastq.gz’\n",
      "\n",
      "G78999_R1.fastq.gz    4%[                    ]  26.05M  18.6MB/s               ^C\n",
      "--2023-02-12 16:35:29--  https://diabimmune.broadinstitute.org/diabimmune/data/20/G78999_R2.fastq.gz\n",
      "Resolving diabimmune.broadinstitute.org (diabimmune.broadinstitute.org)... 69.173.93.60\n",
      "Connecting to diabimmune.broadinstitute.org (diabimmune.broadinstitute.org)|69.173.93.60|:443... connected.\n",
      "HTTP request sent, awaiting response... 200 OK\n",
      "Length: 563767264 (538M) [application/x-gzip]\n",
      "Saving to: ‘G78999_R2.fastq.gz’\n",
      "\n",
      "G78999_R2.fastq.gz  100%[===================>] 537.65M  19.1MB/s    in 28s     \n",
      "\n",
      "2023-02-12 16:35:58 (19.1 MB/s) - ‘G78999_R2.fastq.gz’ saved [563767264/563767264]\n",
      "\n",
      "--2023-02-12 16:35:58--  https://diabimmune.broadinstitute.org/diabimmune/data/20/G78999_unpaired.fastq.gz\n",
      "Resolving diabimmune.broadinstitute.org (diabimmune.broadinstitute.org)... 69.173.93.60\n",
      "Connecting to diabimmune.broadinstitute.org (diabimmune.broadinstitute.org)|69.173.93.60|:443... connected.\n",
      "HTTP request sent, awaiting response... 404 Not Found\n",
      "2023-02-12 16:35:58 ERROR 404: Not Found.\n",
      "\n"
     ]
    },
    {
     "name": "stderr",
     "output_type": "stream",
     "text": [
      "  0%|          | 3/1009 [02:12<11:00:52, 39.42s/it]"
     ]
    },
    {
     "name": "stdout",
     "output_type": "stream",
     "text": [
      "--2023-02-12 16:36:02--  https://diabimmune.broadinstitute.org/diabimmune/data/20/G45069_R1.fastq.gz\n",
      "Resolving diabimmune.broadinstitute.org (diabimmune.broadinstitute.org)... 69.173.93.60\n",
      "Connecting to diabimmune.broadinstitute.org (diabimmune.broadinstitute.org)|69.173.93.60|:443... connected.\n",
      "HTTP request sent, awaiting response... 200 OK\n",
      "Length: 595936467 (568M) [application/x-gzip]\n",
      "Saving to: ‘G45069_R1.fastq.gz’\n",
      "\n",
      "G45069_R1.fastq.gz   31%[=====>              ] 179.98M  18.0MB/s    eta 21s    ^C\n",
      "--2023-02-12 16:36:13--  https://diabimmune.broadinstitute.org/diabimmune/data/20/G45069_R2.fastq.gz\n",
      "Resolving diabimmune.broadinstitute.org (diabimmune.broadinstitute.org)... 69.173.93.60\n",
      "Connecting to diabimmune.broadinstitute.org (diabimmune.broadinstitute.org)|69.173.93.60|:443... connected.\n",
      "HTTP request sent, awaiting response... 200 OK\n",
      "Length: 584477159 (557M) [application/x-gzip]\n",
      "Saving to: ‘G45069_R2.fastq.gz’\n",
      "\n",
      "G45069_R2.fastq.gz   49%[========>           ] 275.51M  19.2MB/s    eta 15s    "
     ]
    }
   ],
   "source": [
    "# We need to download the corresponding WGS reads\n",
    "\n",
    "! mkdir -p ~/DATA/diabimmune/wgs_shared\n",
    "! mkdir -p ~/DATA/diabimmune/wgs_shared/reads\n",
    "\n",
    "for id in tqdm(diabimmune_both['gid_wgs']):\n",
    "    if not os.path.exists(f\"~/DATA/diabimmune/wgs_shared/reads/{id}_R1.fastq.gz\"):\n",
    "        ! wget https://diabimmune.broadinstitute.org/diabimmune/data/20/{id}_R1.fastq.gz\n",
    "    if not os.path.exists(f\"~/DATA/diabimmune/wgs_shared/reads/{id}_R2.fastq.gz\"):\n",
    "        ! wget https://diabimmune.broadinstitute.org/diabimmune/data/20/{id}_R2.fastq.gz\n",
    "    if not os.path.exists(f\"~/DATA/diabimmune/wgs_shared/reads/{id}_unpaired.fastq.gz\"):\n",
    "        ! wget https://diabimmune.broadinstitute.org/diabimmune/data/20/{id}_unpaired.fastq.gz\n",
    "    ! mv {id}_*.fastq.gz ~/DATA/diabimmune/wgs_shared/reads/"
   ]
  },
  {
   "cell_type": "code",
   "execution_count": 12,
   "metadata": {},
   "outputs": [
    {
     "name": "stdout",
     "output_type": "stream",
     "text": [
      "78\n"
     ]
    }
   ],
   "source": [
    "# Which samples did aPTR return a result for?\n",
    "\n",
    "aptr_out = pd.read_table(\n",
    "    \"/home/phil/aptr/experiments/diabimmune/16s_shared/aptr_8223c61e-4f69-4350-afb5-3b096f484af1/inferred_ptrs.tsv\",\n",
    "    dtype={0: str},\n",
    ")\n",
    "aptr_out = aptr_out.set_index(aptr_out.columns[0])\n",
    "aptr_estimates = aptr_out.loc[:,aptr_out.sum(axis=0) > 0].columns \n",
    "print(len(aptr_estimates))"
   ]
  },
  {
   "cell_type": "code",
   "execution_count": 22,
   "metadata": {},
   "outputs": [],
   "source": [
    "# Move corresponding WGS reads to a special directory - 78 samples\n",
    "\n",
    "# First, make a dictionary to convert sample IDs\n",
    "wgs_to_rna = dict(zip(diabimmune_both['gid_wgs'], diabimmune_both['gid_16s']))\n",
    "rna_to_wgs = dict(zip(diabimmune_both['gid_16s'], diabimmune_both['gid_wgs']))\n",
    "\n",
    "! mkdir -p ~/DATA/diabimmune/wgs_aptr/reads\n",
    "\n",
    "for rna_id in aptr_estimates:\n",
    "    rna_id = rna_id.split(\"_\")[0]\n",
    "    wgs_id = rna_to_wgs[rna_id]\n",
    "    ! cp ~/DATA/diabimmune/wgs_shared/reads/{wgs_id}_R1.fastq.gz ~/DATA/diabimmune/wgs_aptr/reads\n",
    "    ! cp ~/DATA/diabimmune/wgs_shared/reads/{wgs_id}_R2.fastq.gz ~/DATA/diabimmune/wgs_aptr/reads"
   ]
  },
  {
   "attachments": {},
   "cell_type": "markdown",
   "metadata": {},
   "source": [
    "# Run coPTR on matched WGS reads\n",
    "This must be run using the `coPTR` conda environment"
   ]
  },
  {
   "cell_type": "code",
   "execution_count": 1,
   "metadata": {},
   "outputs": [
    {
     "name": "stdout",
     "output_type": "stream",
     "text": [
      "[INFO] [Feb 12, 2023 17:07:11] [coptr.read_mapper] Found 16 files totaling 0.0543 GB.\n",
      "[INFO] [Feb 12, 2023 17:07:11] [coptr.read_mapper] Copying FASTA files to coptr-fna-2023-02-12T22:07:11+00:00.fna with prepended genome ids (filenames).\n",
      "[INFO] [Feb 12, 2023 17:07:12] [coptr.read_mapper] Writing 16 reference genome ids to /home/phil/DATA/diabimmune/wgs_aptr/coptr_out/index/seqs.genomes.\n",
      "[INFO] [Feb 12, 2023 17:07:12] [coptr.read_mapper] bowtie2-build coptr-fna-2023-02-12T22:07:11+00:00.fna /home/phil/DATA/diabimmune/wgs_aptr/coptr_out/index/seqs --threads 1\n",
      "Settings:\n",
      "  Output files: \"/home/phil/DATA/diabimmune/wgs_aptr/coptr_out/index/seqs.*.bt2\"\n",
      "  Line rate: 6 (line is 64 bytes)\n",
      "  Lines per side: 1 (side is 64 bytes)\n",
      "  Offset rate: 4 (one in 16)\n",
      "  FTable chars: 10\n",
      "  Strings: unpacked\n",
      "  Max bucket size: default\n",
      "  Max bucket size, sqrt multiplier: default\n",
      "  Max bucket size, len divisor: 4\n",
      "  Difference-cover sample period: 1024\n",
      "  Endianness: little\n",
      "  Actual local endianness: little\n",
      "  Sanity checking: disabled\n",
      "  Assertions: disabled\n",
      "  Random seed: 0\n",
      "  Sizeofs: void*:8, int:4, long:8, size_t:8\n",
      "Input files DNA, FASTA:\n",
      "  coptr-fna-2023-02-12T22:07:11+00:00.fna\n",
      "Building a SMALL index\n",
      "Reading reference sizes\n",
      "  Time reading reference sizes: 00:00:00\n",
      "Calculating joined length\n",
      "Writing header\n",
      "Reserving space for joined string\n",
      "Joining reference sequences\n",
      "  Time to join reference sequences: 00:00:00\n",
      "bmax according to bmaxDivN setting: 14332445\n",
      "Using parameters --bmax 10749334 --dcv 1024\n",
      "  Doing ahead-of-time memory usage test\n",
      "  Passed!  Constructing with these parameters: --bmax 10749334 --dcv 1024\n",
      "Constructing suffix-array element generator\n",
      "Building DifferenceCoverSample\n",
      "  Building sPrime\n",
      "  Building sPrimeOrder\n",
      "  V-Sorting samples\n",
      "  V-Sorting samples time: 00:00:01\n",
      "  Allocating rank array\n",
      "  Ranking v-sort output\n",
      "  Ranking v-sort output time: 00:00:00\n",
      "  Invoking Larsson-Sadakane on ranks\n",
      "  Invoking Larsson-Sadakane on ranks time: 00:00:00\n",
      "  Sanity-checking and returning\n",
      "Building samples\n",
      "Reserving space for 12 sample suffixes\n",
      "Generating random suffixes\n",
      "QSorting 12 sample offsets, eliminating duplicates\n",
      "QSorting sample offsets, eliminating duplicates time: 00:00:00\n",
      "Multikey QSorting 12 samples\n",
      "  (Using difference cover)\n",
      "  Multikey QSorting samples time: 00:00:00\n",
      "Calculating bucket sizes\n",
      "Splitting and merging\n",
      "  Splitting and merging time: 00:00:00\n",
      "Avg bucket size: 5.73298e+07 (target: 10749333)\n",
      "Converting suffix-array elements to index image\n",
      "Allocating ftab, absorbFtab\n",
      "Entering Ebwt loop\n",
      "Getting block 1 of 1\n",
      "  No samples; assembling all-inclusive block\n",
      "  Sorting block of length 57329783 for bucket 1\n",
      "  (Using difference cover)\n",
      "  Sorting block time: 00:00:11\n",
      "Returning block of 57329784 for bucket 1\n",
      "Exited Ebwt loop\n",
      "fchr[A]: 0\n",
      "fchr[C]: 15926696\n",
      "fchr[G]: 28664326\n",
      "fchr[T]: 41347056\n",
      "fchr[$]: 57329783\n",
      "Exiting Ebwt::buildToDisk()\n",
      "Returning from initFromVector\n",
      "Wrote 23312845 bytes to primary EBWT file: /home/phil/DATA/diabimmune/wgs_aptr/coptr_out/index/seqs.1.bt2\n",
      "Wrote 14332452 bytes to secondary EBWT file: /home/phil/DATA/diabimmune/wgs_aptr/coptr_out/index/seqs.2.bt2\n",
      "Re-opening _in1 and _in2 as input streams\n",
      "Returning from Ebwt constructor\n",
      "Headers:\n",
      "    len: 57329783\n",
      "    bwtLen: 57329784\n",
      "    sz: 14332446\n",
      "    bwtSz: 14332446\n",
      "    lineRate: 6\n",
      "    offRate: 4\n",
      "    offMask: 0xfffffff0\n",
      "    ftabChars: 10\n",
      "    eftabLen: 20\n",
      "    eftabSz: 80\n",
      "    ftabLen: 1048577\n",
      "    ftabSz: 4194308\n",
      "    offsLen: 3583112\n",
      "    offsSz: 14332448\n",
      "    lineSz: 64\n",
      "    sideSz: 64\n",
      "    sideBwtSz: 48\n",
      "    sideBwtLen: 192\n",
      "    numSides: 298593\n",
      "    numLines: 298593\n",
      "    ebwtTotLen: 19109952\n",
      "    ebwtTotSz: 19109952\n",
      "    color: 0\n",
      "    reverse: 0\n",
      "Total time for call to driver() for forward index: 00:00:17\n",
      "Reading reference sizes\n",
      "  Time reading reference sizes: 00:00:00\n",
      "Calculating joined length\n",
      "Writing header\n",
      "Reserving space for joined string\n",
      "Joining reference sequences\n",
      "  Time to join reference sequences: 00:00:00\n",
      "  Time to reverse reference sequence: 00:00:00\n",
      "bmax according to bmaxDivN setting: 14332445\n",
      "Using parameters --bmax 10749334 --dcv 1024\n",
      "  Doing ahead-of-time memory usage test\n",
      "  Passed!  Constructing with these parameters: --bmax 10749334 --dcv 1024\n",
      "Constructing suffix-array element generator\n",
      "Building DifferenceCoverSample\n",
      "  Building sPrime\n",
      "  Building sPrimeOrder\n",
      "  V-Sorting samples\n",
      "  V-Sorting samples time: 00:00:01\n",
      "  Allocating rank array\n",
      "  Ranking v-sort output\n",
      "  Ranking v-sort output time: 00:00:00\n",
      "  Invoking Larsson-Sadakane on ranks\n",
      "  Invoking Larsson-Sadakane on ranks time: 00:00:00\n",
      "  Sanity-checking and returning\n",
      "Building samples\n",
      "Reserving space for 12 sample suffixes\n",
      "Generating random suffixes\n",
      "QSorting 12 sample offsets, eliminating duplicates\n",
      "QSorting sample offsets, eliminating duplicates time: 00:00:00\n",
      "Multikey QSorting 12 samples\n",
      "  (Using difference cover)\n",
      "  Multikey QSorting samples time: 00:00:00\n",
      "Calculating bucket sizes\n",
      "Splitting and merging\n",
      "  Splitting and merging time: 00:00:00\n",
      "Avg bucket size: 5.73298e+07 (target: 10749333)\n",
      "Converting suffix-array elements to index image\n",
      "Allocating ftab, absorbFtab\n",
      "Entering Ebwt loop\n",
      "Getting block 1 of 1\n",
      "  No samples; assembling all-inclusive block\n",
      "  Sorting block of length 57329783 for bucket 1\n",
      "  (Using difference cover)\n",
      "  Sorting block time: 00:00:11\n",
      "Returning block of 57329784 for bucket 1\n",
      "Exited Ebwt loop\n",
      "fchr[A]: 0\n",
      "fchr[C]: 15926696\n",
      "fchr[G]: 28664326\n",
      "fchr[T]: 41347056\n",
      "fchr[$]: 57329783\n",
      "Exiting Ebwt::buildToDisk()\n",
      "Returning from initFromVector\n",
      "Wrote 23312845 bytes to primary EBWT file: /home/phil/DATA/diabimmune/wgs_aptr/coptr_out/index/seqs.rev.1.bt2\n",
      "Wrote 14332452 bytes to secondary EBWT file: /home/phil/DATA/diabimmune/wgs_aptr/coptr_out/index/seqs.rev.2.bt2\n",
      "Re-opening _in1 and _in2 as input streams\n",
      "Returning from Ebwt constructor\n",
      "Headers:\n",
      "    len: 57329783\n",
      "    bwtLen: 57329784\n",
      "    sz: 14332446\n",
      "    bwtSz: 14332446\n",
      "    lineRate: 6\n",
      "    offRate: 4\n",
      "    offMask: 0xfffffff0\n",
      "    ftabChars: 10\n",
      "    eftabLen: 20\n",
      "    eftabSz: 80\n",
      "    ftabLen: 1048577\n",
      "    ftabSz: 4194308\n",
      "    offsLen: 3583112\n",
      "    offsSz: 14332448\n",
      "    lineSz: 64\n",
      "    sideSz: 64\n",
      "    sideBwtSz: 48\n",
      "    sideBwtLen: 192\n",
      "    numSides: 298593\n",
      "    numLines: 298593\n",
      "    ebwtTotLen: 19109952\n",
      "    ebwtTotSz: 19109952\n",
      "    color: 0\n",
      "    reverse: 1\n",
      "Total time for backward call to driver() for mirror index: 00:00:17\n",
      "[INFO] [Feb 12, 2023 17:07:46] [coptr.read_mapper] Indexed 16 FASTA files for the reference database.\n",
      "[INFO] [Feb 12, 2023 17:07:46] [coptr.read_mapper] Cleaning up coptr-fna-2023-02-12T22:07:11+00:00.fna.\n"
     ]
    }
   ],
   "source": [
    "# First, make an index for the relevant genomes\n",
    "import pandas as pd\n",
    "\n",
    "aptr_out = pd.read_table(\n",
    "    \"/home/phil/aptr/experiments/diabimmune/16s_shared/aptr_8223c61e-4f69-4350-afb5-3b096f484af1/inferred_ptrs.tsv\",\n",
    "    dtype={0: str},\n",
    ")\n",
    "aptr_genomes = aptr_out.iloc[:,0]\n",
    "\n",
    "! mkdir -p ~/DATA/diabimmune/wgs_aptr/coptr_out/seqs\n",
    "! mkdir -p ~/DATA/diabimmune/wgs_aptr/coptr_out/index\n",
    "\n",
    "for genome_id in aptr_genomes:\n",
    "    ! cp ~/aptr/data/seqs/{genome_id}.fna ~/DATA/diabimmune/wgs_aptr/coptr_out/seqs\n",
    "\n",
    "# Create coPTR index\n",
    "! coptr index ~/DATA/diabimmune/wgs_aptr/coptr_out/seqs ~/DATA/diabimmune/wgs_aptr/coptr_out/index/seqs"
   ]
  },
  {
   "cell_type": "code",
   "execution_count": 2,
   "metadata": {},
   "outputs": [
    {
     "name": "stdout",
     "output_type": "stream",
     "text": [
      "zsh:1: command not found: coptr\n",
      "zsh:1: command not found: coptr\n",
      "zsh:1: command not found: coptr\n"
     ]
    }
   ],
   "source": [
    "# Run coPTR\n",
    "import os\n",
    "\n",
    "outdir = \"/home/phil/DATA/diabimmune/wgs_aptr/coptr_out\"\n",
    "readdir = \"/home/phil/DATA/diabimmune/wgs_aptr/reads\"\n",
    "\n",
    "# # Make dirs\n",
    "# ! mkdir -p {outdir}/bam\n",
    "# ! mkdir -p {outdir}/coverage_maps\n",
    "\n",
    "# # coPTR assumes reads end in _1 and _2, not _R1 and _R2 (idempotent batch rename):\n",
    "# for file in os.listdir(readdir):\n",
    "#     if file.endswith(\"_R1.fastq.gz\"):\n",
    "#         ! mv {readdir}/{file} {readdir}/{file.replace(\"_R1\", \"_1\")}\n",
    "#     if file.endswith(\"_R2.fastq.gz\"):\n",
    "#         ! mv {readdir}/{file} {readdir}/{file.replace(\"_R2\", \"_2\")}\n",
    "\n",
    "# # coPTR commands\n",
    "# ! coptr map {outdir}/index/seqs {readdir} {outdir}/bam --threads 12 --paired\n",
    "! coptr extract {outdir}/bam {outdir}/coverage_maps \n",
    "! coptr estimate {outdir}/coverage_maps {outdir}/coptr_log2_ptrs.csv\n",
    "! coptr count {outdir}/coverage_maps {outdir}/coptr_counts.csv"
   ]
  },
  {
   "cell_type": "code",
   "execution_count": 11,
   "metadata": {},
   "outputs": [
    {
     "name": "stdout",
     "output_type": "stream",
     "text": [
      "62.0\n"
     ]
    }
   ],
   "source": [
    "# Compare coPTR and aPTR outputs\n",
    "import pandas as pd\n",
    "\n",
    "# Read outputs\n",
    "coptr_out = pd.read_csv(\n",
    "    \"/home/phil/DATA/diabimmune/wgs_aptr/coptr_out/coptr_log2_ptrs.csv\",\n",
    "    dtype={0: str},\n",
    ")\n",
    "coptr_out = coptr_out.set_index(coptr_out.columns[0])\n",
    "coptr_out = 2**coptr_out\n",
    "\n",
    "aptr_out = pd.read_table(\n",
    "    # \"/home/phil/aptr/experiments/diabimmune/16s_shared/aptr_8223c61e-4f69-4350-afb5-3b096f484af1/inferred_ptrs.tsv\",\n",
    "    \"../../experiments/diabimmune/16s_shared/aptr_c20891fa-743b-46f7-a6a4-61ce28849342/inferred_ptrs.tsv\",\n",
    "    dtype={0: str},\n",
    ")\n",
    "aptr_out = aptr_out.set_index(aptr_out.columns[0])\n",
    "\n",
    "# Need to translate sample IDs\n",
    "wgs_to_rna = dict(zip(diabimmune_both['gid_wgs'], diabimmune_both['gid_16s']))\n",
    "coptr_out.columns = [wgs_to_rna[col] for col in coptr_out.columns]\n",
    "aptr_out.columns = [name.split(\"_\")[0] for name in aptr_out.columns]\n",
    "\n",
    "# Overlaps between values\n",
    "aptr_out = aptr_out.loc[:,aptr_out.sum(axis=0) > 0]\n",
    "coptr_out = coptr_out.loc[:,coptr_out.sum(axis=0) > 0]\n",
    "\n",
    "mask1 = aptr_out > 0\n",
    "mask2 = coptr_out > 0\n",
    "mask = mask1 & mask2\n",
    "\n",
    "# 73 whole overlaps! Amazing\n",
    "print(mask.sum().sum())"
   ]
  },
  {
   "cell_type": "code",
   "execution_count": 5,
   "metadata": {},
   "outputs": [],
   "source": [
    "# Turn into vectors of values and get correlation coefficients\n",
    "\n",
    "aptr_matched = aptr_out[mask].values.flatten()\n",
    "aptr_matched = aptr_matched[~np.isnan(aptr_matched)]\n",
    "\n",
    "coptr_matched = coptr_out[mask].values.flatten()\n",
    "coptr_matched = coptr_matched[~np.isnan(coptr_matched)]"
   ]
  },
  {
   "cell_type": "code",
   "execution_count": 6,
   "metadata": {},
   "outputs": [],
   "source": [
    "# Pearson's R\n",
    "\n",
    "from scipy.stats import pearsonr, spearmanr\n",
    "\n",
    "pr, _ = pearsonr(aptr_matched, coptr_matched)\n",
    "sr, _ = spearmanr(aptr_matched, coptr_matched)"
   ]
  },
  {
   "cell_type": "code",
   "execution_count": 25,
   "metadata": {},
   "outputs": [
    {
     "data": {
      "text/plain": [
       "Text(0.5, 1.0, \"Amplicon PTR vs coPTR estimates on DIABIMMUNE dataset\\n(Pearson's R=0.08, Spearman's R=0.01)\")"
      ]
     },
     "execution_count": 25,
     "metadata": {},
     "output_type": "execute_result"
    },
    {
     "data": {
      "image/png": "[encoded data removed]",
      "text/plain": [
       "<Figure size 1080x720 with 1 Axes>"
      ]
     },
     "metadata": {
      "needs_background": "light"
     },
     "output_type": "display_data"
    }
   ],
   "source": [
    "plt.rc(\"font\", size=20)\n",
    "\n",
    "fig = plt.figure(figsize=(15,10))\n",
    "plt.scatter(aptr_matched, coptr_matched, c='#0097A7')\n",
    "plt.xlabel(\"Amplicon PTR estimate\")\n",
    "plt.ylabel(\"coPTR estimate\")\n",
    "plt.title(f\"Amplicon PTR vs coPTR estimates on DIABIMMUNE dataset\\n(Pearson's R={pr:.2f}, Spearman's R={sr:.2f})\")"
   ]
  },
  {
   "cell_type": "code",
   "execution_count": 17,
   "metadata": {},
   "outputs": [
    {
     "name": "stdout",
     "output_type": "stream",
     "text": [
      "-0.01857761903838884 -0.2043956043956044\n"
     ]
    }
   ],
   "source": [
    "mask3 = aptr_out <= 2\n",
    "mask4 = mask3 & mask2\n",
    "\n",
    "aptr_matched2 = aptr_out[mask4].values.flatten()\n",
    "aptr_matched2 = aptr_matched2[~np.isnan(aptr_matched2)]\n",
    "\n",
    "coptr_matched2 = coptr_out[mask4].values.flatten()\n",
    "coptr_matched2 = coptr_matched2[~np.isnan(coptr_matched2)]\n",
    "\n",
    "pr2, _ = pearsonr(aptr_matched2, coptr_matched2)\n",
    "sr2, _ = spearmanr(aptr_matched2, coptr_matched2)\n",
    "print(pr2, sr2)"
   ]
  },
  {
   "cell_type": "code",
   "execution_count": 19,
   "metadata": {},
   "outputs": [
    {
     "data": {
      "text/plain": [
       "<matplotlib.collections.PathCollection at 0x7f091fdb32b0>"
      ]
     },
     "execution_count": 19,
     "metadata": {},
     "output_type": "execute_result"
    },
    {
     "data": {
      "image/png": "[encoded data removed]",
      "text/plain": [
       "<Figure size 432x288 with 1 Axes>"
      ]
     },
     "metadata": {
      "needs_background": "light"
     },
     "output_type": "display_data"
    }
   ],
   "source": [
    "plt.scatter(aptr_matched2, coptr_matched2, c='#FF5722')"
   ]
  },
  {
   "cell_type": "code",
   "execution_count": null,
   "metadata": {},
   "outputs": [],
   "source": []
  }
 ],
 "metadata": {
  "kernelspec": {
   "display_name": "aPTR",
   "language": "python",
   "name": "aptr"
  },
  "language_info": {
   "codemirror_mode": {
    "name": "ipython",
    "version": 3
   },
   "file_extension": ".py",
   "mimetype": "text/x-python",
   "name": "python",
   "nbconvert_exporter": "python",
   "pygments_lexer": "ipython3",
   "version": "3.6.13"
  },
  "orig_nbformat": 4,
  "vscode": {
   "interpreter": {
    "hash": "b057563f3ba3f990268c3b86bdb7e377eb054a139b9a5bb4d57860e24c8e31bc"
   }
  }
 },
 "nbformat": 4,
 "nbformat_minor": 2
}
