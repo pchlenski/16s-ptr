{
 "cells": [
  {
   "cell_type": "markdown",
   "metadata": {},
   "source": [
    "# Log-coverage experiment\n",
    "> Can inference be improved by working with log-coverages?"
   ]
  },
  {
   "cell_type": "code",
   "execution_count": 8,
   "metadata": {},
   "outputs": [
    {
     "name": "stdout",
     "output_type": "stream",
     "text": [
      "[7827.24881852  268.1631057   237.7304935     0.         8462.92006788\n",
      "  189.62428331 1111.04951446    0.        ]\n"
     ]
    }
   ],
   "source": [
    "import numpy as np\n",
    "import matplotlib.pyplot as plt\n",
    "\n",
    "a = 10 * np.random.rand(10) # log-abundance\n",
    "b = np.log(1 + np.random.rand(10)) # log-ptr\n",
    "\n",
    "D = np.zeros(shape=(10,20))\n",
    "for i in range(10):\n",
    "    D[i,2*i:2*i+2] = np.random.rand(2)\n",
    "\n",
    "C = np.zeros(shape=(10,20))\n",
    "for i in range(10):\n",
    "    C[i,2*i:2*i+2] = (1,1)\n",
    "\n",
    "E = np.zeros(shape=(20,8))\n",
    "for i in range(10):\n",
    "    gene_assignment = np.random.randint(0,7)\n",
    "    E[i,gene_assignment] = 1\n",
    "\n",
    "f = np.exp(a @ C + b @ D) @ E\n",
    "print(f)"
   ]
  },
  {
   "cell_type": "code",
   "execution_count": 12,
   "metadata": {},
   "outputs": [
    {
     "name": "stdout",
     "output_type": "stream",
     "text": [
      "[8.96536636 5.5915954  5.47113765       -inf 9.04344955 5.24504466\n",
      " 7.01306036       -inf]\n",
      "[-inf -inf -inf -inf -inf -inf -inf -inf]\n"
     ]
    },
    {
     "name": "stderr",
     "output_type": "stream",
     "text": [
      "/home/phil/.local/lib/python3.6/site-packages/ipykernel_launcher.py:1: RuntimeWarning: divide by zero encountered in log\n",
      "  \"\"\"Entry point for launching an IPython kernel.\n",
      "/home/phil/.local/lib/python3.6/site-packages/ipykernel_launcher.py:3: RuntimeWarning: divide by zero encountered in log\n",
      "  This is separate from the ipykernel package so we can avoid doing imports until\n"
     ]
    }
   ],
   "source": [
    "print(np.log(f))\n",
    "\n",
    "print((a @ C + b @ D) @ np.log(E))"
   ]
  },
  {
   "cell_type": "code",
   "execution_count": 14,
   "metadata": {},
   "outputs": [],
   "source": [
    "# OK, I don't think this can be done actually"
   ]
  },
  {
   "cell_type": "code",
   "execution_count": null,
   "metadata": {},
   "outputs": [],
   "source": []
  }
 ],
 "metadata": {
  "kernelspec": {
   "display_name": "Python 3.6.13 ('aPTR')",
   "language": "python",
   "name": "python3"
  },
  "language_info": {
   "codemirror_mode": {
    "name": "ipython",
    "version": 3
   },
   "file_extension": ".py",
   "mimetype": "text/x-python",
   "name": "python",
   "nbconvert_exporter": "python",
   "pygments_lexer": "ipython3",
   "version": "3.6.13"
  },
  "orig_nbformat": 4,
  "vscode": {
   "interpreter": {
    "hash": "b5e7721d70837d18c2125962d4eab5e03d8a00737ba9cf793193ecf86ed8e5a0"
   }
  }
 },
 "nbformat": 4,
 "nbformat_minor": 2
}
