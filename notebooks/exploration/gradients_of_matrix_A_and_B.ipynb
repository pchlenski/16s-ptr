{
 "cells": [
  {
   "cell_type": "markdown",
   "metadata": {},
   "source": [
    "# Gradients of the matrices A and B\n",
    "> Updating gradients for matrix version of solver"
   ]
  },
  {
   "cell_type": "code",
   "execution_count": 1,
   "metadata": {},
   "outputs": [],
   "source": [
    "import sys\n",
    "sys.path.append('/home/phil/aptr')\n",
    "%load_ext autoreload\n",
    "%autoreload 2"
   ]
  },
  {
   "cell_type": "code",
   "execution_count": 4,
   "metadata": {},
   "outputs": [],
   "source": [
    "import torch\n",
    "import numpy as np\n",
    "\n",
    "from src.simulation_new import make_tables\n",
    "from src.database import RnaDB\n",
    "from src.torch_solver import TorchSolver\n"
   ]
  },
  {
   "cell_type": "code",
   "execution_count": 5,
   "metadata": {},
   "outputs": [],
   "source": [
    "rnadb = RnaDB()\n",
    "\n",
    "np.random.seed(42)\n",
    "abundances, ptrs, otus = make_tables(n_genomes=4, n_samples=3)"
   ]
  },
  {
   "cell_type": "code",
   "execution_count": 6,
   "metadata": {},
   "outputs": [],
   "source": [
    "solver = TorchSolver(\n",
    "    genomes = rnadb.generate_genome_objects(list(abundances.index))[0],\n",
    "    coverages = otus\n",
    ")"
   ]
  },
  {
   "cell_type": "markdown",
   "metadata": {},
   "source": [
    "Old gradients:\n",
    "* L = MSE(f_predicted, f_observed)\n",
    "* dL/dg = 2/k exp(g) E(f_predicted - f_observed)\n",
    "* dL/da = CdL/dg\n",
    "* dL/db = -Ddl/dg"
   ]
  },
  {
   "cell_type": "code",
   "execution_count": 10,
   "metadata": {},
   "outputs": [
    {
     "name": "stdout",
     "output_type": "stream",
     "text": [
      "A\n",
      "tensor([[  87.9920,  110.8270,   35.3428],\n",
      "        [ 378.0231,   91.6746,  168.5249],\n",
      "        [1467.0398, 3741.2458, 5757.2402],\n",
      "        [  66.1114,  370.0370,  118.5928]])\n",
      "\n",
      "B\n",
      "tensor([[  -22.4380,   -36.3739,   -10.0928],\n",
      "        [ -120.7763,   -26.8508,   -52.3566],\n",
      "        [ -285.2130,  -703.0383, -1118.9692],\n",
      "        [  -26.8787,  -155.5475,   -43.9320]])\n"
     ]
    }
   ],
   "source": [
    "torch.manual_seed(42)\n",
    "solver.A_hat = torch.rand(size=abundances.shape, requires_grad=True)\n",
    "solver.B_hat = torch.rand(size=ptrs.shape, requires_grad=True)\n",
    "f_hat = solver(solver.A_hat, solver.B_hat)\n",
    "loss = torch.sum((f_hat - solver.coverages)**2)\n",
    "loss.backward()\n",
    "\n",
    "print(\"A\")\n",
    "print(solver.A_hat.grad)\n",
    "print(\"\")\n",
    "print(\"B\")\n",
    "print(solver.B_hat.grad)"
   ]
  },
  {
   "cell_type": "code",
   "execution_count": 11,
   "metadata": {},
   "outputs": [
    {
     "name": "stdout",
     "output_type": "stream",
     "text": [
      "n: 4, s: 3, m: 20, k: 12\n"
     ]
    }
   ],
   "source": [
    "n = solver.n\n",
    "s = solver.s\n",
    "m = solver.m\n",
    "k = solver.k\n",
    "print(f\"n: {n}, s: {s}, m: {m}, k: {k}\")\n",
    "\n",
    "A = solver.A_hat\n",
    "B = solver.B_hat\n",
    "C = solver.members\n",
    "D = solver.dists\n",
    "E = solver.gene_to_seq\n",
    "G = C @ A + 1 - D @ B\n",
    "F = solver.coverages\n",
    "F_hat = f_hat"
   ]
  },
  {
   "cell_type": "code",
   "execution_count": 12,
   "metadata": {},
   "outputs": [
    {
     "data": {
      "text/plain": [
       "tensor([[1., 1., 1.],\n",
       "        [1., 1., 1.],\n",
       "        [1., 1., 1.],\n",
       "        [1., 1., 1.]], grad_fn=<DivBackward0>)"
      ]
     },
     "execution_count": 12,
     "metadata": {},
     "output_type": "execute_result"
    }
   ],
   "source": [
    "dL_dA = 2 * C.T @ (torch.exp(G) * (E.T @ (F_hat - F)))\n",
    "dL_dA / solver.A_hat.grad"
   ]
  },
  {
   "cell_type": "code",
   "execution_count": 13,
   "metadata": {},
   "outputs": [
    {
     "data": {
      "text/plain": [
       "tensor([[1., 1., 1.],\n",
       "        [1., 1., 1.],\n",
       "        [1., 1., 1.],\n",
       "        [1., 1., 1.]], grad_fn=<DivBackward0>)"
      ]
     },
     "execution_count": 13,
     "metadata": {},
     "output_type": "execute_result"
    }
   ],
   "source": [
    "dL_dB = -D.T @ (torch.exp(G) * (E.T @ (F_hat - F))) * 2\n",
    "dL_dB / solver.B_hat.grad\n"
   ]
  },
  {
   "cell_type": "code",
   "execution_count": null,
   "metadata": {},
   "outputs": [],
   "source": []
  }
 ],
 "metadata": {
  "kernelspec": {
   "display_name": "Python 3.6.13 ('aPTR')",
   "language": "python",
   "name": "python3"
  },
  "language_info": {
   "codemirror_mode": {
    "name": "ipython",
    "version": 3
   },
   "file_extension": ".py",
   "mimetype": "text/x-python",
   "name": "python",
   "nbconvert_exporter": "python",
   "pygments_lexer": "ipython3",
   "version": "3.6.13"
  },
  "orig_nbformat": 4,
  "vscode": {
   "interpreter": {
    "hash": "b5e7721d70837d18c2125962d4eab5e03d8a00737ba9cf793193ecf86ed8e5a0"
   }
  }
 },
 "nbformat": 4,
 "nbformat_minor": 2
}
