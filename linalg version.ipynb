{
 "cells": [
  {
   "cell_type": "code",
   "execution_count": 1,
   "metadata": {},
   "outputs": [],
   "source": [
    "import numpy as np\n",
    "import matplotlib.pyplot as plt\n",
    "import pandas as pd"
   ]
  },
  {
   "cell_type": "markdown",
   "metadata": {},
   "source": [
    "$$\n",
    "ae^{1 - b\\mathbf{C}}\\mathbf{D} = \\mathbf{f}\n",
    "$$"
   ]
  },
  {
   "cell_type": "markdown",
   "metadata": {},
   "source": [
    "a = abundance vector, |a| = n\n",
    "\n",
    "b = (log-)PTR vector, |b| = n\n",
    "\n",
    "C = DISTANCE matrix, |C| = n x m\n",
    "\n",
    "Cij = inf if no such gene\n",
    "\n",
    "D = gene -> seq matrix, |D| = m x k\n",
    "\n",
    "f = observed coverages, |f| = k"
   ]
  },
  {
   "cell_type": "markdown",
   "metadata": {},
   "source": [
    "# Basic implementation"
   ]
  },
  {
   "cell_type": "code",
   "execution_count": 28,
   "metadata": {},
   "outputs": [],
   "source": [
    "# genomes\n",
    "G1 = {'pos': [.2, .4, .7], \n",
    "      'seqs': [0, 1, 2]}\n",
    "G2 = {'pos': [.1, .2, .9, .92], \n",
    "      'seqs': [0, 1, 3, 3]}\n",
    "G3 = {'pos': [0.25, 0.5],\n",
    "      'seqs': [4, 5]}\n",
    "\n",
    "# sizes\n",
    "n = 3\n",
    "m = 9\n",
    "k = 6\n",
    "\n",
    "# a,b vectors\n",
    "a = np.array([2, 3, 1.5])\n",
    "b = np.log(np.array([1.4, 1.9, 1.1]))\n",
    "\n",
    "# C and D vectors\n",
    "C = np.inf * np.ones(shape=(n,m))\n",
    "D = np.zeros(shape=(m,k))\n",
    "i = 0\n",
    "for g, genome in enumerate([G1,G2,G3]):\n",
    "    pos = genome['pos']\n",
    "    seqs = genome['seqs']\n",
    "    j = i + len(pos)\n",
    "    C[g,i:j] = pos\n",
    "    for s, seq in enumerate(seqs):\n",
    "        D[i+s,seq] = 1\n",
    "    i = j\n",
    "# TODO: clean this up a bit\n",
    "\n",
    "# f vector\n",
    "# f1 = b[:,None] * C\n",
    "# f2 = a[:,None] - f1\n",
    "# f3 = np.exp(f2)\n",
    "# f4 = f3 @ D\n",
    "# f = np.sum(f4, axis=0)\n",
    "# f = np.sum(np.exp(a[:,None] - b[:,None] * C) @ D, axis=0)\n",
    "f = np.sum(a[:,None] * np.exp(1 - b[:,None] * C) @ D, axis=0)"
   ]
  },
  {
   "cell_type": "code",
   "execution_count": 90,
   "metadata": {},
   "outputs": [
    {
     "data": {
      "text/plain": [
       "<matplotlib.image.AxesImage at 0x7f7a788d4af0>"
      ]
     },
     "execution_count": 90,
     "metadata": {},
     "output_type": "execute_result"
    },
    {
     "data": {
      "image/png": "[encoded data removed]",
      "text/plain": [
       "<Figure size 432x288 with 1 Axes>"
      ]
     },
     "metadata": {
      "needs_background": "light"
     },
     "output_type": "display_data"
    }
   ],
   "source": [
    "plt.imshow(C)"
   ]
  },
  {
   "cell_type": "code",
   "execution_count": 91,
   "metadata": {},
   "outputs": [
    {
     "data": {
      "text/plain": [
       "<matplotlib.colorbar.Colorbar at 0x7f7a77c8c190>"
      ]
     },
     "execution_count": 91,
     "metadata": {},
     "output_type": "execute_result"
    },
    {
     "data": {
      "image/png": "[encoded data removed]",
      "text/plain": [
       "<Figure size 432x288 with 2 Axes>"
      ]
     },
     "metadata": {
      "needs_background": "light"
     },
     "output_type": "display_data"
    }
   ],
   "source": [
    "plt.imshow(D)\n",
    "plt.colorbar()"
   ]
  },
  {
   "cell_type": "code",
   "execution_count": 92,
   "metadata": {},
   "outputs": [
    {
     "data": {
      "text/plain": [
       "<matplotlib.colorbar.Colorbar at 0x7f7a78a903d0>"
      ]
     },
     "execution_count": 92,
     "metadata": {},
     "output_type": "execute_result"
    },
    {
     "data": {
      "image/png": "[encoded data removed]",
      "text/plain": [
       "<Figure size 432x288 with 2 Axes>"
      ]
     },
     "metadata": {
      "needs_background": "light"
     },
     "output_type": "display_data"
    }
   ],
   "source": [
    "plt.imshow(f.reshape(1,-1))\n",
    "plt.colorbar()"
   ]
  },
  {
   "cell_type": "markdown",
   "metadata": {},
   "source": [
    "# Marginally nicer code"
   ]
  },
  {
   "cell_type": "code",
   "execution_count": 98,
   "metadata": {},
   "outputs": [],
   "source": [
    "# Make a function\n",
    "\n",
    "def compute_coverages(genomes, abundances, ptrs, return_full=False):\n",
    "    \"\"\"\n",
    "    Run the coveragee computation in the forward direction.\n",
    "    \n",
    "    Args:\n",
    "    -----\n",
    "    genomes:\n",
    "        A list of dicts keyed with 'pos' (distances to OOR) and 'seqs' (sequence indexes)\n",
    "    abundances:\n",
    "        A vector of abundances for each genome in \"genomes,\" in order\n",
    "    ptrs:\n",
    "        A vector of log-PTRs for each genome in \"genomes\", in order\n",
    "    return_full:\n",
    "        Boolean. If True, returns tuple (a,b,C,D,f). Else just returns f.\n",
    "    \n",
    "    Returns:\n",
    "    --------\n",
    "    A vector of coverages for each OTU/sequence\n",
    "    \"\"\"\n",
    "    # TODO: input validation\n",
    "    \n",
    "    # infer sizes\n",
    "    n = len(genomes)\n",
    "    m = np.sum([len(x['pos']) for x in genomes])\n",
    "    k = len(set().union(*[set(x['seqs']) for x in genomes]))\n",
    "\n",
    "    # C and D matrices\n",
    "    dists = np.inf * np.ones(shape=(n,m))\n",
    "    gene_to_seq = np.zeros(shape=(m,k))\n",
    "    i = 0\n",
    "    for g, genome in enumerate(genomes):\n",
    "        pos = genome['pos']\n",
    "        seqs = genome['seqs']\n",
    "        j = i + len(pos)\n",
    "        dists[g,i:j] = pos\n",
    "        for s, seq in enumerate(seqs):\n",
    "            gene_to_seq[i+s,seq] = 1\n",
    "        i = j\n",
    "\n",
    "    coverage_matrix = abundances[:,None] * np.exp(1 - ptrs[:,None] * dists) @ gene_to_seq\n",
    "    \n",
    "    if np.ndim(coverage_matrix) == 0:\n",
    "        f = coverage_matrix\n",
    "    else:\n",
    "        f = np.sum(coverage_matrix, axis=0)\n",
    "        # TODO: do we still need this control flow?\n",
    "    \n",
    "    if return_full:\n",
    "        return abundances, ptrs, dists, gene_to_seq, f\n",
    "    else:\n",
    "        return f\n",
    "\n",
    "# Test\n",
    "f_old = f\n",
    "a_old = a\n",
    "b_old = b\n",
    "\n",
    "f_new = compute_coverages([G1, G2, G3], a_old, b_old)\n",
    "\n",
    "assert np.isclose(f_new, f).all()"
   ]
  },
  {
   "cell_type": "markdown",
   "metadata": {},
   "source": [
    "# Sanity check: match PTR?"
   ]
  },
  {
   "cell_type": "code",
   "execution_count": 77,
   "metadata": {},
   "outputs": [
    {
     "name": "stdout",
     "output_type": "stream",
     "text": [
      "1.662775884116986\n"
     ]
    }
   ],
   "source": [
    "# Mini sanity check: PTR scaling for 1 genome\n",
    "# Note that this should be independent of the abundance given\n",
    "\n",
    "g_ptr = {'pos': [0,1], 'seqs': [0,1]}\n",
    "\n",
    "abundance = np.array(100 * np.random.rand()).reshape(-1)\n",
    "random_ptr = np.array(np.log(1 + np.random.rand())).reshape(-1)\n",
    "f_ptr = compute_coverages([g_ptr], abundance, random_ptr)\n",
    "# print(f_ptr[0] / f_ptr[1])\n",
    "\n",
    "assert np.isclose(f_ptr[0] / f_ptr[1], np.exp(random_ptr))"
   ]
  },
  {
   "cell_type": "code",
   "execution_count": 93,
   "metadata": {},
   "outputs": [],
   "source": [
    "# PTR scaling for multiple dimensions\n",
    "\n",
    "n_ptrs = 3\n",
    "abundances = 100 * np.random.rand(n_ptrs)\n",
    "random_ptrs = np.log(1 + np.random.rand(n_ptrs))\n",
    "test_genomes = [{'pos' : [0,1], 'seqs': [i*2, i*2+1]} for i in range(n_ptrs)]\n",
    "f_ptrs = compute_coverages(test_genomes, abundances, random_ptrs)\n",
    "\n",
    "assert np.isclose(f_ptrs[::2] / f_ptrs[1::2], np.exp(random_ptrs)).all()"
   ]
  },
  {
   "cell_type": "code",
   "execution_count": 95,
   "metadata": {},
   "outputs": [
    {
     "name": "stdout",
     "output_type": "stream",
     "text": [
      "PTR: 2.0\n"
     ]
    },
    {
     "data": {
      "image/png": "[encoded data removed]",
      "text/plain": [
       "<Figure size 432x288 with 1 Axes>"
      ]
     },
     "metadata": {
      "needs_background": "light"
     },
     "output_type": "display_data"
    }
   ],
   "source": [
    "x = np.linspace(0,1)\n",
    "y = 4 * np.exp(np.array(1) - np.log(2)*x)\n",
    "plt.plot(x,y)\n",
    "print(f\"PTR: {y[0] / y[-1]}\")"
   ]
  },
  {
   "cell_type": "markdown",
   "metadata": {},
   "source": [
    "# Try with DB"
   ]
  },
  {
   "cell_type": "code",
   "execution_count": 84,
   "metadata": {},
   "outputs": [
    {
     "ename": "FileNotFoundError",
     "evalue": "[Errno 2] No such file or directory: './data/db.pkl'",
     "output_type": "error",
     "traceback": [
      "\u001b[0;31m---------------------------------------------------------------------------\u001b[0m",
      "\u001b[0;31mFileNotFoundError\u001b[0m                         Traceback (most recent call last)",
      "\u001b[0;32m<ipython-input-84-1036660d89f2>\u001b[0m in \u001b[0;36m<module>\u001b[0;34m\u001b[0m\n\u001b[0;32m----> 1\u001b[0;31m \u001b[0mdb\u001b[0m \u001b[0;34m=\u001b[0m \u001b[0mpd\u001b[0m\u001b[0;34m.\u001b[0m\u001b[0mread_pickle\u001b[0m\u001b[0;34m(\u001b[0m\u001b[0;34m\"./data/db.pkl\"\u001b[0m\u001b[0;34m)\u001b[0m\u001b[0;34m\u001b[0m\u001b[0;34m\u001b[0m\u001b[0m\n\u001b[0m",
      "\u001b[0;32m~/opt/anaconda3/lib/python3.8/site-packages/pandas/io/pickle.py\u001b[0m in \u001b[0;36mread_pickle\u001b[0;34m(filepath_or_buffer, compression, storage_options)\u001b[0m\n\u001b[1;32m    194\u001b[0m     \"\"\"\n\u001b[1;32m    195\u001b[0m     \u001b[0mexcs_to_catch\u001b[0m \u001b[0;34m=\u001b[0m \u001b[0;34m(\u001b[0m\u001b[0mAttributeError\u001b[0m\u001b[0;34m,\u001b[0m \u001b[0mImportError\u001b[0m\u001b[0;34m,\u001b[0m \u001b[0mModuleNotFoundError\u001b[0m\u001b[0;34m,\u001b[0m \u001b[0mTypeError\u001b[0m\u001b[0;34m)\u001b[0m\u001b[0;34m\u001b[0m\u001b[0;34m\u001b[0m\u001b[0m\n\u001b[0;32m--> 196\u001b[0;31m     with get_handle(\n\u001b[0m\u001b[1;32m    197\u001b[0m         \u001b[0mfilepath_or_buffer\u001b[0m\u001b[0;34m,\u001b[0m\u001b[0;34m\u001b[0m\u001b[0;34m\u001b[0m\u001b[0m\n\u001b[1;32m    198\u001b[0m         \u001b[0;34m\"rb\"\u001b[0m\u001b[0;34m,\u001b[0m\u001b[0;34m\u001b[0m\u001b[0;34m\u001b[0m\u001b[0m\n",
      "\u001b[0;32m~/opt/anaconda3/lib/python3.8/site-packages/pandas/io/common.py\u001b[0m in \u001b[0;36mget_handle\u001b[0;34m(path_or_buf, mode, encoding, compression, memory_map, is_text, errors, storage_options)\u001b[0m\n\u001b[1;32m    708\u001b[0m         \u001b[0;32melse\u001b[0m\u001b[0;34m:\u001b[0m\u001b[0;34m\u001b[0m\u001b[0;34m\u001b[0m\u001b[0m\n\u001b[1;32m    709\u001b[0m             \u001b[0;31m# Binary mode\u001b[0m\u001b[0;34m\u001b[0m\u001b[0;34m\u001b[0m\u001b[0;34m\u001b[0m\u001b[0m\n\u001b[0;32m--> 710\u001b[0;31m             \u001b[0mhandle\u001b[0m \u001b[0;34m=\u001b[0m \u001b[0mopen\u001b[0m\u001b[0;34m(\u001b[0m\u001b[0mhandle\u001b[0m\u001b[0;34m,\u001b[0m \u001b[0mioargs\u001b[0m\u001b[0;34m.\u001b[0m\u001b[0mmode\u001b[0m\u001b[0;34m)\u001b[0m\u001b[0;34m\u001b[0m\u001b[0;34m\u001b[0m\u001b[0m\n\u001b[0m\u001b[1;32m    711\u001b[0m         \u001b[0mhandles\u001b[0m\u001b[0;34m.\u001b[0m\u001b[0mappend\u001b[0m\u001b[0;34m(\u001b[0m\u001b[0mhandle\u001b[0m\u001b[0;34m)\u001b[0m\u001b[0;34m\u001b[0m\u001b[0;34m\u001b[0m\u001b[0m\n\u001b[1;32m    712\u001b[0m \u001b[0;34m\u001b[0m\u001b[0m\n",
      "\u001b[0;31mFileNotFoundError\u001b[0m: [Errno 2] No such file or directory: './data/db.pkl'"
     ]
    }
   ],
   "source": [
    "db = pd.read_pickle(\"./data/db.pkl\")"
   ]
  },
  {
   "cell_type": "markdown",
   "metadata": {},
   "source": []
  },
  {
   "cell_type": "markdown",
   "metadata": {},
   "source": [
    "# Figure out gradients"
   ]
  },
  {
   "cell_type": "code",
   "execution_count": 114,
   "metadata": {},
   "outputs": [],
   "source": [
    "def loss(yhat, y):\n",
    "    \"\"\" MSE loss \"\"\"\n",
    "    return np.sum((yhat - y) ** 2)\n",
    "\n",
    "def dloss(yhat, y):\n",
    "    \"\"\" MSE loss grad: 2(y' - y)\"\"\"\n",
    "    return 2 * (yhat - y)"
   ]
  },
  {
   "cell_type": "markdown",
   "metadata": {},
   "source": [
    "Backprop:\n",
    "\n",
    "$$\n",
    "\\begin{align*}\n",
    "\\hat{y} &= a e^{1 - bC}D\\\\\n",
    "\\\\\n",
    "L(y, \\hat{y}) &= \\sum_i (\\hat{y}_i - y_i)^2\\\\\n",
    "&= (\\hat{y} - y)^T (\\hat{y} - y)\\\\\n",
    "\\\\\n",
    "\\frac{\\partial L}{\\partial \\hat{y}} &= 2(\\hat{y}-y)\\\\\n",
    "\\\\\n",
    "\\frac{\\partial L}{\\partial a}\n",
    "&= \\frac{\\partial L}{\\partial \\hat{y}} \\frac{\\partial \\hat{y}}{\\partial a}\\\\\n",
    "&= 2(\\hat{y} - y) e^{1-bC}D\\\\\n",
    "\\\\\n",
    "\\frac{\\partial L}{\\partial e^{1-bC}D} \n",
    "&= \\frac{\\partial L}{\\partial \\hat{y}} \\frac{\\partial \\hat{y}}{\\partial e^{1-bC}D}\\\\\n",
    "&= 2(\\hat{y} - y) a\\\\\n",
    "\\\\\n",
    "\\frac{\\partial L}{\\partial e^{1-bC}}\n",
    "&= \\frac{\\partial L}{\\partial e^{1-bC}D} \\frac{\\partial e^{1-bC}D}{\\partial e^{1-bC}}\\\\\n",
    "&= 2(\\hat{y} - y)a D\n",
    "\\\\\n",
    "\\frac{\\partial L}{\\partial 1-bC}\n",
    "&= \\frac{\\partial L}{\\partial e^{1-bC}} \\frac{\\partial e^{1-bC} }{\\partial 1 - bC}\\\\\n",
    "&= 2(\\hat{y} - y)a D e^{1-bC}\\\\\n",
    "\\\\\n",
    "\\frac{\\partial L}{\\partial b}\n",
    "&= \\frac{\\partial L}{\\partial 1-bC} \\frac{\\partial 1-bC}{\\partial b}\\\\\n",
    "&= -2(\\hat{y} - y)a D e^{1-bC}C\n",
    "\\end{align*}\n",
    "$$"
   ]
  },
  {
   "cell_type": "code",
   "execution_count": 99,
   "metadata": {},
   "outputs": [],
   "source": [
    "# try to compute gradients\n",
    "\n",
    "_,_,c,d,f = compute_coverages([G1, G2, G3], a_old, b_old, return_full=True)"
   ]
  },
  {
   "cell_type": "code",
   "execution_count": 125,
   "metadata": {},
   "outputs": [
    {
     "data": {
      "text/plain": [
       "array([[-100.89881925,  -87.35634322,  -29.88241248,   -0.        ,\n",
       "          -0.        ,   -0.        ],\n",
       "       [-103.26348132,  -91.49888516,   -0.        ,  -88.67595279,\n",
       "          -0.        ,   -0.        ],\n",
       "       [  -0.        ,   -0.        ,   -0.        ,   -0.        ,\n",
       "         -21.27295477,  -18.40367556]])"
      ]
     },
     "execution_count": 125,
     "metadata": {},
     "output_type": "execute_result"
    }
   ],
   "source": [
    "# Grad_a\n",
    "\n",
    "a_guess = np.random.rand(a.shape[0])\n",
    "b_guess = np.random.rand(b.shape[0])\n",
    "f_guess = compute_coverages([G1, G2, G3], a_guess, b_guess)\n",
    "da1 = 2 * dloss(f_guess, f)\n",
    "da2 = np.exp(1 - b_guess[:,None] * c) @ d\n",
    "da3 = da1 * da2\n",
    "da = da3\n",
    "\n",
    "# Todo: just do this using autodiff\n",
    "# Backprop interpretation:\n",
    "\n",
    "\"\"\"\n",
    "f and f_guess are vectors related to L through (f - f')T * (f - f') = L\n",
    "each element f_i contributes to L to the extent that (f_i - f_i')^2 deviates from 0\n",
    "want to follow gradients s.t. f_i' comes close to f_i\n",
    "\n",
    "make use of this info:\n",
    "#genomes = 3\n",
    "#seqs = 6\n",
    "#genes = 9\n",
    "\n",
    "hmm...\n",
    "\n",
    "losses are in terms of number of seqs but nothing else really is... the D matrix is the key here\n",
    "\n",
    "we have the following formula:\n",
    "dL/da = 2(f' - f) * (exp(1 - bC) @ D)\n",
    "\n",
    "\"\"\"\n",
    "da"
   ]
  },
  {
   "cell_type": "code",
   "execution_count": 143,
   "metadata": {},
   "outputs": [
    {
     "name": "stderr",
     "output_type": "stream",
     "text": [
      "<ipython-input-143-aa4012adca5c>:13: RuntimeWarning: invalid value encountered in multiply\n",
      "  db3 = db2 * c\n"
     ]
    },
    {
     "data": {
      "text/plain": [
       "array([nan, nan, nan, nan, nan, nan])"
      ]
     },
     "execution_count": 143,
     "metadata": {},
     "output_type": "execute_result"
    }
   ],
   "source": [
    "# Grad_b\n",
    "\n",
    "db1 = -2 * dloss(f_guess, f)\n",
    "# db2 = db1 * a_guess\n",
    "# db3 = db2 @ d\n",
    "# db2 = a_guess @ d\n",
    "# db3 = db1 * db2\n",
    "# db4 = db3 @ np.exp(1 - b_guess[:,None] * c)\n",
    "# db5 = db4 @ C\n",
    "# db = db5\n",
    "\n",
    "db2 = np.exp(1 - b_guess[:,None] * c)\n",
    "db3 = db2 * c\n",
    "# db4 = d @ db3\n",
    "db4 = db3 @ d\n",
    "db5 = a @ db4\n",
    "db6 = db1 * db5\n",
    "db = db6\n",
    "\n",
    "\"\"\"\n",
    "What to make of the aD term here?\n",
    "\"\"\"\n",
    "\n",
    "db"
   ]
  },
  {
   "cell_type": "code",
   "execution_count": 142,
   "metadata": {},
   "outputs": [
    {
     "name": "stdout",
     "output_type": "stream",
     "text": [
      "(6,)\n",
      "(3, 9)\n",
      "(3, 9)\n",
      "(3,)\n",
      "(3, 9)\n",
      "(9, 6)\n"
     ]
    }
   ],
   "source": [
    "print(db1.shape)\n",
    "print(db2.shape)\n",
    "print(db3.shape)\n",
    "# print(db4.shape)\n",
    "print(a.shape)\n",
    "print(c.shape)\n",
    "print(d.shape)"
   ]
  },
  {
   "cell_type": "code",
   "execution_count": 131,
   "metadata": {},
   "outputs": [
    {
     "name": "stdout",
     "output_type": "stream",
     "text": [
      "(6,)\n",
      "(3,)\n"
     ]
    },
    {
     "ename": "NameError",
     "evalue": "name 'db3' is not defined",
     "output_type": "error",
     "traceback": [
      "\u001b[0;31m---------------------------------------------------------------------------\u001b[0m",
      "\u001b[0;31mNameError\u001b[0m                                 Traceback (most recent call last)",
      "\u001b[0;32m<ipython-input-131-c0c26db46e6e>\u001b[0m in \u001b[0;36m<module>\u001b[0;34m\u001b[0m\n\u001b[1;32m      1\u001b[0m \u001b[0mprint\u001b[0m\u001b[0;34m(\u001b[0m\u001b[0mdb1\u001b[0m\u001b[0;34m.\u001b[0m\u001b[0mshape\u001b[0m\u001b[0;34m)\u001b[0m\u001b[0;34m\u001b[0m\u001b[0;34m\u001b[0m\u001b[0m\n\u001b[1;32m      2\u001b[0m \u001b[0mprint\u001b[0m\u001b[0;34m(\u001b[0m\u001b[0mdb2\u001b[0m\u001b[0;34m.\u001b[0m\u001b[0mshape\u001b[0m\u001b[0;34m)\u001b[0m\u001b[0;34m\u001b[0m\u001b[0;34m\u001b[0m\u001b[0m\n\u001b[0;32m----> 3\u001b[0;31m \u001b[0mprint\u001b[0m\u001b[0;34m(\u001b[0m\u001b[0mdb3\u001b[0m\u001b[0;34m.\u001b[0m\u001b[0mshape\u001b[0m\u001b[0;34m)\u001b[0m\u001b[0;34m\u001b[0m\u001b[0;34m\u001b[0m\u001b[0m\n\u001b[0m\u001b[1;32m      4\u001b[0m \u001b[0mprint\u001b[0m\u001b[0;34m(\u001b[0m\u001b[0md\u001b[0m\u001b[0;34m.\u001b[0m\u001b[0mshape\u001b[0m\u001b[0;34m)\u001b[0m\u001b[0;34m\u001b[0m\u001b[0;34m\u001b[0m\u001b[0m\n",
      "\u001b[0;31mNameError\u001b[0m: name 'db3' is not defined"
     ]
    }
   ],
   "source": [
    "print(db1.shape)\n",
    "print(db2.shape)\n",
    "print(db3.shape)\n",
    "print(d.shape)"
   ]
  },
  {
   "cell_type": "code",
   "execution_count": 111,
   "metadata": {},
   "outputs": [
    {
     "data": {
      "text/plain": [
       "array([-326.21465922, -329.02516668, -266.73446776])"
      ]
     },
     "execution_count": 111,
     "metadata": {},
     "output_type": "execute_result"
    }
   ],
   "source": [
    "db2"
   ]
  },
  {
   "cell_type": "code",
   "execution_count": 112,
   "metadata": {},
   "outputs": [
    {
     "data": {
      "text/plain": [
       "array([[1., 0., 0., 0., 0., 0.],\n",
       "       [0., 1., 0., 0., 0., 0.],\n",
       "       [0., 0., 1., 0., 0., 0.],\n",
       "       [1., 0., 0., 0., 0., 0.],\n",
       "       [0., 1., 0., 0., 0., 0.],\n",
       "       [0., 0., 0., 1., 0., 0.],\n",
       "       [0., 0., 0., 1., 0., 0.],\n",
       "       [0., 0., 0., 0., 1., 0.],\n",
       "       [0., 0., 0., 0., 0., 1.]])"
      ]
     },
     "execution_count": 112,
     "metadata": {},
     "output_type": "execute_result"
    }
   ],
   "source": [
    "d"
   ]
  },
  {
   "cell_type": "code",
   "execution_count": null,
   "metadata": {},
   "outputs": [],
   "source": []
  }
 ],
 "metadata": {
  "kernelspec": {
   "display_name": "Python 3",
   "language": "python",
   "name": "python3"
  },
  "language_info": {
   "codemirror_mode": {
    "name": "ipython",
    "version": 3
   },
   "file_extension": ".py",
   "mimetype": "text/x-python",
   "name": "python",
   "nbconvert_exporter": "python",
   "pygments_lexer": "ipython3",
   "version": "3.8.5"
  }
 },
 "nbformat": 4,
 "nbformat_minor": 4
}
